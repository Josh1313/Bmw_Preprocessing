{
  "cells": [
    {
      "cell_type": "code",
      "execution_count": 1,
      "metadata": {
        "id": "b6hQFEfszIr4"
      },
      "outputs": [],
      "source": [
        "import pandas as pd\n",
        "import numpy as np\n",
        "from sklearn.model_selection import train_test_split\n",
        "from sklearn.preprocessing import StandardScaler\n",
        "from sklearn.linear_model import LinearRegression\n",
        "from sklearn.metrics import mean_squared_error, r2_score, mean_absolute_error\n",
        "import joblib"
      ]
    },
    {
      "cell_type": "code",
      "execution_count": 2,
      "metadata": {
        "colab": {
          "base_uri": "https://localhost:8080/"
        },
        "id": "9wBaMR7ttg4M",
        "outputId": "08df80bc-7c88-45f2-93aa-ebe4a47625f7"
      },
      "outputs": [],
      "source": [
        "df = joblib.load(\"Data/limpio2.joblib\")"
      ]
    },
    {
      "cell_type": "code",
      "execution_count": 3,
      "metadata": {
        "id": "37APdgoStgxf"
      },
      "outputs": [],
      "source": [
        "pd.options.display.float_format = '{:.0f}'.format"
      ]
    },
    {
      "cell_type": "code",
      "execution_count": 4,
      "metadata": {
        "colab": {
          "base_uri": "https://localhost:8080/",
          "height": 349
        },
        "id": "mjxJl5uENNRN",
        "outputId": "c730084d-563f-4b11-ab69-3e0f79b46b7c"
      },
      "outputs": [
        {
          "data": {
            "text/html": [
              "<div>\n",
              "<style scoped>\n",
              "    .dataframe tbody tr th:only-of-type {\n",
              "        vertical-align: middle;\n",
              "    }\n",
              "\n",
              "    .dataframe tbody tr th {\n",
              "        vertical-align: top;\n",
              "    }\n",
              "\n",
              "    .dataframe thead th {\n",
              "        text-align: right;\n",
              "    }\n",
              "</style>\n",
              "<table border=\"1\" class=\"dataframe\">\n",
              "  <thead>\n",
              "    <tr style=\"text-align: right;\">\n",
              "      <th></th>\n",
              "      <th>km</th>\n",
              "      <th>potencia</th>\n",
              "      <th>precio</th>\n",
              "      <th>tiemo_venta</th>\n",
              "      <th>year_registro</th>\n",
              "      <th>mes_registro</th>\n",
              "      <th>year_venta</th>\n",
              "      <th>mes_venta</th>\n",
              "      <th>precio_log10</th>\n",
              "    </tr>\n",
              "  </thead>\n",
              "  <tbody>\n",
              "    <tr>\n",
              "      <th>count</th>\n",
              "      <td>4717</td>\n",
              "      <td>4717</td>\n",
              "      <td>4717</td>\n",
              "      <td>4717</td>\n",
              "      <td>4717</td>\n",
              "      <td>4717</td>\n",
              "      <td>4717</td>\n",
              "      <td>4717</td>\n",
              "      <td>4717</td>\n",
              "    </tr>\n",
              "    <tr>\n",
              "      <th>mean</th>\n",
              "      <td>139448</td>\n",
              "      <td>129</td>\n",
              "      <td>16137</td>\n",
              "      <td>64</td>\n",
              "      <td>2013</td>\n",
              "      <td>6</td>\n",
              "      <td>2018</td>\n",
              "      <td>5</td>\n",
              "      <td>4</td>\n",
              "    </tr>\n",
              "    <tr>\n",
              "      <th>std</th>\n",
              "      <td>57527</td>\n",
              "      <td>39</td>\n",
              "      <td>9088</td>\n",
              "      <td>27</td>\n",
              "      <td>2</td>\n",
              "      <td>3</td>\n",
              "      <td>0</td>\n",
              "      <td>2</td>\n",
              "      <td>0</td>\n",
              "    </tr>\n",
              "    <tr>\n",
              "      <th>min</th>\n",
              "      <td>64</td>\n",
              "      <td>25</td>\n",
              "      <td>1500</td>\n",
              "      <td>7</td>\n",
              "      <td>1995</td>\n",
              "      <td>1</td>\n",
              "      <td>2007</td>\n",
              "      <td>1</td>\n",
              "      <td>3</td>\n",
              "    </tr>\n",
              "    <tr>\n",
              "      <th>25%</th>\n",
              "      <td>101705</td>\n",
              "      <td>100</td>\n",
              "      <td>11100</td>\n",
              "      <td>49</td>\n",
              "      <td>2012</td>\n",
              "      <td>3</td>\n",
              "      <td>2018</td>\n",
              "      <td>3</td>\n",
              "      <td>4</td>\n",
              "    </tr>\n",
              "    <tr>\n",
              "      <th>50%</th>\n",
              "      <td>140084</td>\n",
              "      <td>120</td>\n",
              "      <td>14300</td>\n",
              "      <td>58</td>\n",
              "      <td>2013</td>\n",
              "      <td>6</td>\n",
              "      <td>2018</td>\n",
              "      <td>5</td>\n",
              "      <td>4</td>\n",
              "    </tr>\n",
              "    <tr>\n",
              "      <th>75%</th>\n",
              "      <td>174690</td>\n",
              "      <td>135</td>\n",
              "      <td>18800</td>\n",
              "      <td>71</td>\n",
              "      <td>2014</td>\n",
              "      <td>9</td>\n",
              "      <td>2018</td>\n",
              "      <td>7</td>\n",
              "      <td>4</td>\n",
              "    </tr>\n",
              "    <tr>\n",
              "      <th>max</th>\n",
              "      <td>484615</td>\n",
              "      <td>423</td>\n",
              "      <td>178500</td>\n",
              "      <td>274</td>\n",
              "      <td>2017</td>\n",
              "      <td>12</td>\n",
              "      <td>2018</td>\n",
              "      <td>9</td>\n",
              "      <td>5</td>\n",
              "    </tr>\n",
              "  </tbody>\n",
              "</table>\n",
              "</div>"
            ],
            "text/plain": [
              "          km  potencia  precio  tiemo_venta  year_registro  mes_registro   \n",
              "count   4717      4717    4717         4717           4717          4717  \\\n",
              "mean  139448       129   16137           64           2013             6   \n",
              "std    57527        39    9088           27              2             3   \n",
              "min       64        25    1500            7           1995             1   \n",
              "25%   101705       100   11100           49           2012             3   \n",
              "50%   140084       120   14300           58           2013             6   \n",
              "75%   174690       135   18800           71           2014             9   \n",
              "max   484615       423  178500          274           2017            12   \n",
              "\n",
              "       year_venta  mes_venta  precio_log10  \n",
              "count        4717       4717          4717  \n",
              "mean         2018          5             4  \n",
              "std             0          2             0  \n",
              "min          2007          1             3  \n",
              "25%          2018          3             4  \n",
              "50%          2018          5             4  \n",
              "75%          2018          7             4  \n",
              "max          2018          9             5  "
            ]
          },
          "execution_count": 4,
          "metadata": {},
          "output_type": "execute_result"
        }
      ],
      "source": [
        "df.describe()"
      ]
    },
    {
      "cell_type": "code",
      "execution_count": 5,
      "metadata": {
        "colab": {
          "base_uri": "https://localhost:8080/"
        },
        "id": "PI9_rkPCNNJF",
        "outputId": "c32bd12e-71a6-4e70-f06d-da6a4c2c221a"
      },
      "outputs": [
        {
          "data": {
            "text/plain": [
              "(4717, 48)"
            ]
          },
          "execution_count": 5,
          "metadata": {},
          "output_type": "execute_result"
        }
      ],
      "source": [
        "df.shape"
      ]
    },
    {
      "cell_type": "code",
      "execution_count": 6,
      "metadata": {
        "colab": {
          "base_uri": "https://localhost:8080/"
        },
        "id": "puNfB5U-uq4Y",
        "outputId": "f8f7e633-acdd-4efb-d5c2-8b75d6e98211"
      },
      "outputs": [
        {
          "name": "stdout",
          "output_type": "stream",
          "text": [
            "<class 'pandas.core.frame.DataFrame'>\n",
            "RangeIndex: 4717 entries, 0 to 4716\n",
            "Data columns (total 48 columns):\n",
            " #   Column                       Non-Null Count  Dtype  \n",
            "---  ------                       --------------  -----  \n",
            " 0   km                           4717 non-null   float64\n",
            " 1   potencia                     4717 non-null   float64\n",
            " 2   volante_regulable            4717 non-null   bool   \n",
            " 3   aire_acondicionado           4717 non-null   bool   \n",
            " 4   camara_trasera               4717 non-null   bool   \n",
            " 5   asientos_traseros_plegables  4717 non-null   bool   \n",
            " 6   elevalunas_electrico         4717 non-null   bool   \n",
            " 7   bluetooth                    4717 non-null   bool   \n",
            " 8   gps                          4717 non-null   bool   \n",
            " 9   alerta_lim_velocidad         4717 non-null   bool   \n",
            " 10  precio                       4717 non-null   float64\n",
            " 11  tiemo_venta                  4717 non-null   int64  \n",
            " 12  year_registro                4717 non-null   int32  \n",
            " 13  mes_registro                 4717 non-null   int32  \n",
            " 14  year_venta                   4717 non-null   int32  \n",
            " 15  mes_venta                    4717 non-null   int32  \n",
            " 16  precio_log10                 4717 non-null   float64\n",
            " 17  tipo_gasolina_diesel         4717 non-null   bool   \n",
            " 18  tipo_gasolina_electro        4717 non-null   bool   \n",
            " 19  tipo_gasolina_hybrid_petrol  4717 non-null   bool   \n",
            " 20  tipo_gasolina_petrol         4717 non-null   bool   \n",
            " 21  color_beige                  4717 non-null   bool   \n",
            " 22  color_black                  4717 non-null   bool   \n",
            " 23  color_blue                   4717 non-null   bool   \n",
            " 24  color_brown                  4717 non-null   bool   \n",
            " 25  color_green                  4717 non-null   bool   \n",
            " 26  color_grey                   4717 non-null   bool   \n",
            " 27  color_orange                 4717 non-null   bool   \n",
            " 28  color_red                    4717 non-null   bool   \n",
            " 29  color_silver                 4717 non-null   bool   \n",
            " 30  color_white                  4717 non-null   bool   \n",
            " 31  tipo_coche_convertible       4717 non-null   bool   \n",
            " 32  tipo_coche_coupe             4717 non-null   bool   \n",
            " 33  tipo_coche_estate            4717 non-null   bool   \n",
            " 34  tipo_coche_hatchback         4717 non-null   bool   \n",
            " 35  tipo_coche_sedan             4717 non-null   bool   \n",
            " 36  tipo_coche_subcompact        4717 non-null   bool   \n",
            " 37  tipo_coche_suv               4717 non-null   bool   \n",
            " 38  tipo_coche_van               4717 non-null   bool   \n",
            " 39  modelo_agrupado_M1           4717 non-null   bool   \n",
            " 40  modelo_agrupado_M2           4717 non-null   bool   \n",
            " 41  modelo_agrupado_M3           4717 non-null   bool   \n",
            " 42  modelo_agrupado_M4           4717 non-null   bool   \n",
            " 43  modelo_agrupado_M5           4717 non-null   bool   \n",
            " 44  modelo_agrupado_M6           4717 non-null   bool   \n",
            " 45  modelo_agrupado_M7           4717 non-null   bool   \n",
            " 46  modelo_agrupado_Otros        4717 non-null   bool   \n",
            " 47  modelo_agrupado_XSERIES      4717 non-null   bool   \n",
            "dtypes: bool(39), float64(4), int32(4), int64(1)\n",
            "memory usage: 437.7 KB\n"
          ]
        }
      ],
      "source": [
        "df.info()"
      ]
    },
    {
      "cell_type": "code",
      "execution_count": 7,
      "metadata": {
        "colab": {
          "base_uri": "https://localhost:8080/",
          "height": 255
        },
        "id": "ACZlt4ZStgsQ",
        "outputId": "5b624f74-4ec7-434d-a55b-e412ee6d3362"
      },
      "outputs": [
        {
          "data": {
            "text/html": [
              "<div>\n",
              "<style scoped>\n",
              "    .dataframe tbody tr th:only-of-type {\n",
              "        vertical-align: middle;\n",
              "    }\n",
              "\n",
              "    .dataframe tbody tr th {\n",
              "        vertical-align: top;\n",
              "    }\n",
              "\n",
              "    .dataframe thead th {\n",
              "        text-align: right;\n",
              "    }\n",
              "</style>\n",
              "<table border=\"1\" class=\"dataframe\">\n",
              "  <thead>\n",
              "    <tr style=\"text-align: right;\">\n",
              "      <th></th>\n",
              "      <th>km</th>\n",
              "      <th>potencia</th>\n",
              "      <th>volante_regulable</th>\n",
              "      <th>aire_acondicionado</th>\n",
              "      <th>camara_trasera</th>\n",
              "      <th>asientos_traseros_plegables</th>\n",
              "      <th>elevalunas_electrico</th>\n",
              "      <th>bluetooth</th>\n",
              "      <th>gps</th>\n",
              "      <th>alerta_lim_velocidad</th>\n",
              "      <th>...</th>\n",
              "      <th>tipo_coche_van</th>\n",
              "      <th>modelo_agrupado_M1</th>\n",
              "      <th>modelo_agrupado_M2</th>\n",
              "      <th>modelo_agrupado_M3</th>\n",
              "      <th>modelo_agrupado_M4</th>\n",
              "      <th>modelo_agrupado_M5</th>\n",
              "      <th>modelo_agrupado_M6</th>\n",
              "      <th>modelo_agrupado_M7</th>\n",
              "      <th>modelo_agrupado_Otros</th>\n",
              "      <th>modelo_agrupado_XSERIES</th>\n",
              "    </tr>\n",
              "  </thead>\n",
              "  <tbody>\n",
              "    <tr>\n",
              "      <th>0</th>\n",
              "      <td>140411</td>\n",
              "      <td>100</td>\n",
              "      <td>True</td>\n",
              "      <td>True</td>\n",
              "      <td>False</td>\n",
              "      <td>False</td>\n",
              "      <td>True</td>\n",
              "      <td>True</td>\n",
              "      <td>True</td>\n",
              "      <td>False</td>\n",
              "      <td>...</td>\n",
              "      <td>False</td>\n",
              "      <td>True</td>\n",
              "      <td>False</td>\n",
              "      <td>False</td>\n",
              "      <td>False</td>\n",
              "      <td>False</td>\n",
              "      <td>False</td>\n",
              "      <td>False</td>\n",
              "      <td>False</td>\n",
              "      <td>False</td>\n",
              "    </tr>\n",
              "    <tr>\n",
              "      <th>1</th>\n",
              "      <td>13929</td>\n",
              "      <td>317</td>\n",
              "      <td>True</td>\n",
              "      <td>True</td>\n",
              "      <td>False</td>\n",
              "      <td>False</td>\n",
              "      <td>False</td>\n",
              "      <td>True</td>\n",
              "      <td>True</td>\n",
              "      <td>True</td>\n",
              "      <td>...</td>\n",
              "      <td>False</td>\n",
              "      <td>False</td>\n",
              "      <td>False</td>\n",
              "      <td>False</td>\n",
              "      <td>False</td>\n",
              "      <td>False</td>\n",
              "      <td>False</td>\n",
              "      <td>False</td>\n",
              "      <td>True</td>\n",
              "      <td>False</td>\n",
              "    </tr>\n",
              "    <tr>\n",
              "      <th>2</th>\n",
              "      <td>183297</td>\n",
              "      <td>120</td>\n",
              "      <td>False</td>\n",
              "      <td>False</td>\n",
              "      <td>False</td>\n",
              "      <td>False</td>\n",
              "      <td>True</td>\n",
              "      <td>False</td>\n",
              "      <td>True</td>\n",
              "      <td>False</td>\n",
              "      <td>...</td>\n",
              "      <td>False</td>\n",
              "      <td>False</td>\n",
              "      <td>False</td>\n",
              "      <td>True</td>\n",
              "      <td>False</td>\n",
              "      <td>False</td>\n",
              "      <td>False</td>\n",
              "      <td>False</td>\n",
              "      <td>False</td>\n",
              "      <td>False</td>\n",
              "    </tr>\n",
              "    <tr>\n",
              "      <th>3</th>\n",
              "      <td>128035</td>\n",
              "      <td>135</td>\n",
              "      <td>True</td>\n",
              "      <td>True</td>\n",
              "      <td>False</td>\n",
              "      <td>False</td>\n",
              "      <td>True</td>\n",
              "      <td>True</td>\n",
              "      <td>True</td>\n",
              "      <td>True</td>\n",
              "      <td>...</td>\n",
              "      <td>False</td>\n",
              "      <td>False</td>\n",
              "      <td>False</td>\n",
              "      <td>False</td>\n",
              "      <td>True</td>\n",
              "      <td>False</td>\n",
              "      <td>False</td>\n",
              "      <td>False</td>\n",
              "      <td>False</td>\n",
              "      <td>False</td>\n",
              "    </tr>\n",
              "    <tr>\n",
              "      <th>4</th>\n",
              "      <td>97097</td>\n",
              "      <td>160</td>\n",
              "      <td>True</td>\n",
              "      <td>True</td>\n",
              "      <td>False</td>\n",
              "      <td>False</td>\n",
              "      <td>False</td>\n",
              "      <td>True</td>\n",
              "      <td>True</td>\n",
              "      <td>True</td>\n",
              "      <td>...</td>\n",
              "      <td>False</td>\n",
              "      <td>False</td>\n",
              "      <td>False</td>\n",
              "      <td>False</td>\n",
              "      <td>True</td>\n",
              "      <td>False</td>\n",
              "      <td>False</td>\n",
              "      <td>False</td>\n",
              "      <td>False</td>\n",
              "      <td>False</td>\n",
              "    </tr>\n",
              "  </tbody>\n",
              "</table>\n",
              "<p>5 rows × 48 columns</p>\n",
              "</div>"
            ],
            "text/plain": [
              "      km  potencia  volante_regulable  aire_acondicionado  camara_trasera   \n",
              "0 140411       100               True                True           False  \\\n",
              "1  13929       317               True                True           False   \n",
              "2 183297       120              False               False           False   \n",
              "3 128035       135               True                True           False   \n",
              "4  97097       160               True                True           False   \n",
              "\n",
              "   asientos_traseros_plegables  elevalunas_electrico  bluetooth   gps   \n",
              "0                        False                  True       True  True  \\\n",
              "1                        False                 False       True  True   \n",
              "2                        False                  True      False  True   \n",
              "3                        False                  True       True  True   \n",
              "4                        False                 False       True  True   \n",
              "\n",
              "   alerta_lim_velocidad  ...  tipo_coche_van  modelo_agrupado_M1   \n",
              "0                 False  ...           False                True  \\\n",
              "1                  True  ...           False               False   \n",
              "2                 False  ...           False               False   \n",
              "3                  True  ...           False               False   \n",
              "4                  True  ...           False               False   \n",
              "\n",
              "   modelo_agrupado_M2  modelo_agrupado_M3  modelo_agrupado_M4   \n",
              "0               False               False               False  \\\n",
              "1               False               False               False   \n",
              "2               False                True               False   \n",
              "3               False               False                True   \n",
              "4               False               False                True   \n",
              "\n",
              "   modelo_agrupado_M5  modelo_agrupado_M6  modelo_agrupado_M7   \n",
              "0               False               False               False  \\\n",
              "1               False               False               False   \n",
              "2               False               False               False   \n",
              "3               False               False               False   \n",
              "4               False               False               False   \n",
              "\n",
              "   modelo_agrupado_Otros  modelo_agrupado_XSERIES  \n",
              "0                  False                    False  \n",
              "1                   True                    False  \n",
              "2                  False                    False  \n",
              "3                  False                    False  \n",
              "4                  False                    False  \n",
              "\n",
              "[5 rows x 48 columns]"
            ]
          },
          "execution_count": 7,
          "metadata": {},
          "output_type": "execute_result"
        }
      ],
      "source": [
        "df.head()"
      ]
    },
    {
      "cell_type": "code",
      "execution_count": 10,
      "metadata": {
        "id": "Ofv8s6FCVwyb"
      },
      "outputs": [],
      "source": [
        "del df['precio']"
      ]
    },
    {
      "cell_type": "code",
      "execution_count": 13,
      "metadata": {
        "colab": {
          "base_uri": "https://localhost:8080/"
        },
        "id": "S2-SeYfQvfVR",
        "outputId": "8152a3e8-0236-43de-af27-283ebf00f03c"
      },
      "outputs": [
        {
          "name": "stdout",
          "output_type": "stream",
          "text": [
            "Tamaño de conjunto de entrenamiento (X_train, y_train): (3773, 46) (3773,)\n",
            "Tamaño de conjunto de prueba (X_test, y_test): (944, 46) (944,)\n"
          ]
        }
      ],
      "source": [
        "from sklearn.model_selection import train_test_split\n",
        "\n",
        "\n",
        "# Dividir los datos en características (X) y objetivo (y)\n",
        "X = df.drop(columns=['precio_log10'])\n",
        "y = df['precio_log10']\n",
        "\n",
        "# Dividir el conjunto de datos en entrenamiento y prueba (80% entrenamiento, 20% prueba)\n",
        "X_train, X_test, y_train, y_test = train_test_split(X, y, test_size=0.2, random_state=42)\n",
        "\n",
        "# Imprimir los tamaños de los conjuntos de entrenamiento y prueba\n",
        "print(\"Tamaño de conjunto de entrenamiento (X_train, y_train):\", X_train.shape, y_train.shape)\n",
        "print(\"Tamaño de conjunto de prueba (X_test, y_test):\", X_test.shape, y_test.shape)\n"
      ]
    },
    {
      "cell_type": "code",
      "execution_count": 14,
      "metadata": {
        "id": "w68qqGIw1-lp"
      },
      "outputs": [],
      "source": [
        "from sklearn.preprocessing import StandardScaler"
      ]
    },
    {
      "cell_type": "code",
      "execution_count": 15,
      "metadata": {
        "id": "BhpAh4uU2BsI"
      },
      "outputs": [],
      "source": [
        "scaler = StandardScaler()"
      ]
    },
    {
      "cell_type": "code",
      "execution_count": 16,
      "metadata": {
        "id": "youELYnP2CvZ"
      },
      "outputs": [],
      "source": [
        "X_train_scaled = scaler.fit_transform(X_train)\n",
        "X_test_scaled = scaler.transform(X_test)"
      ]
    },
    {
      "cell_type": "code",
      "execution_count": 17,
      "metadata": {
        "colab": {
          "base_uri": "https://localhost:8080/",
          "height": 74
        },
        "id": "pt6VUT7j_Ry5",
        "outputId": "0a30a34e-68e3-494b-d8da-a36def72da22"
      },
      "outputs": [
        {
          "data": {
            "text/html": [
              "<style>#sk-container-id-1 {color: black;background-color: white;}#sk-container-id-1 pre{padding: 0;}#sk-container-id-1 div.sk-toggleable {background-color: white;}#sk-container-id-1 label.sk-toggleable__label {cursor: pointer;display: block;width: 100%;margin-bottom: 0;padding: 0.3em;box-sizing: border-box;text-align: center;}#sk-container-id-1 label.sk-toggleable__label-arrow:before {content: \"▸\";float: left;margin-right: 0.25em;color: #696969;}#sk-container-id-1 label.sk-toggleable__label-arrow:hover:before {color: black;}#sk-container-id-1 div.sk-estimator:hover label.sk-toggleable__label-arrow:before {color: black;}#sk-container-id-1 div.sk-toggleable__content {max-height: 0;max-width: 0;overflow: hidden;text-align: left;background-color: #f0f8ff;}#sk-container-id-1 div.sk-toggleable__content pre {margin: 0.2em;color: black;border-radius: 0.25em;background-color: #f0f8ff;}#sk-container-id-1 input.sk-toggleable__control:checked~div.sk-toggleable__content {max-height: 200px;max-width: 100%;overflow: auto;}#sk-container-id-1 input.sk-toggleable__control:checked~label.sk-toggleable__label-arrow:before {content: \"▾\";}#sk-container-id-1 div.sk-estimator input.sk-toggleable__control:checked~label.sk-toggleable__label {background-color: #d4ebff;}#sk-container-id-1 div.sk-label input.sk-toggleable__control:checked~label.sk-toggleable__label {background-color: #d4ebff;}#sk-container-id-1 input.sk-hidden--visually {border: 0;clip: rect(1px 1px 1px 1px);clip: rect(1px, 1px, 1px, 1px);height: 1px;margin: -1px;overflow: hidden;padding: 0;position: absolute;width: 1px;}#sk-container-id-1 div.sk-estimator {font-family: monospace;background-color: #f0f8ff;border: 1px dotted black;border-radius: 0.25em;box-sizing: border-box;margin-bottom: 0.5em;}#sk-container-id-1 div.sk-estimator:hover {background-color: #d4ebff;}#sk-container-id-1 div.sk-parallel-item::after {content: \"\";width: 100%;border-bottom: 1px solid gray;flex-grow: 1;}#sk-container-id-1 div.sk-label:hover label.sk-toggleable__label {background-color: #d4ebff;}#sk-container-id-1 div.sk-serial::before {content: \"\";position: absolute;border-left: 1px solid gray;box-sizing: border-box;top: 0;bottom: 0;left: 50%;z-index: 0;}#sk-container-id-1 div.sk-serial {display: flex;flex-direction: column;align-items: center;background-color: white;padding-right: 0.2em;padding-left: 0.2em;position: relative;}#sk-container-id-1 div.sk-item {position: relative;z-index: 1;}#sk-container-id-1 div.sk-parallel {display: flex;align-items: stretch;justify-content: center;background-color: white;position: relative;}#sk-container-id-1 div.sk-item::before, #sk-container-id-1 div.sk-parallel-item::before {content: \"\";position: absolute;border-left: 1px solid gray;box-sizing: border-box;top: 0;bottom: 0;left: 50%;z-index: -1;}#sk-container-id-1 div.sk-parallel-item {display: flex;flex-direction: column;z-index: 1;position: relative;background-color: white;}#sk-container-id-1 div.sk-parallel-item:first-child::after {align-self: flex-end;width: 50%;}#sk-container-id-1 div.sk-parallel-item:last-child::after {align-self: flex-start;width: 50%;}#sk-container-id-1 div.sk-parallel-item:only-child::after {width: 0;}#sk-container-id-1 div.sk-dashed-wrapped {border: 1px dashed gray;margin: 0 0.4em 0.5em 0.4em;box-sizing: border-box;padding-bottom: 0.4em;background-color: white;}#sk-container-id-1 div.sk-label label {font-family: monospace;font-weight: bold;display: inline-block;line-height: 1.2em;}#sk-container-id-1 div.sk-label-container {text-align: center;}#sk-container-id-1 div.sk-container {/* jupyter's `normalize.less` sets `[hidden] { display: none; }` but bootstrap.min.css set `[hidden] { display: none !important; }` so we also need the `!important` here to be able to override the default hidden behavior on the sphinx rendered scikit-learn.org. See: https://github.com/scikit-learn/scikit-learn/issues/21755 */display: inline-block !important;position: relative;}#sk-container-id-1 div.sk-text-repr-fallback {display: none;}</style><div id=\"sk-container-id-1\" class=\"sk-top-container\"><div class=\"sk-text-repr-fallback\"><pre>LinearRegression()</pre><b>In a Jupyter environment, please rerun this cell to show the HTML representation or trust the notebook. <br />On GitHub, the HTML representation is unable to render, please try loading this page with nbviewer.org.</b></div><div class=\"sk-container\" hidden><div class=\"sk-item\"><div class=\"sk-estimator sk-toggleable\"><input class=\"sk-toggleable__control sk-hidden--visually\" id=\"sk-estimator-id-1\" type=\"checkbox\" checked><label for=\"sk-estimator-id-1\" class=\"sk-toggleable__label sk-toggleable__label-arrow\">LinearRegression</label><div class=\"sk-toggleable__content\"><pre>LinearRegression()</pre></div></div></div></div></div>"
            ],
            "text/plain": [
              "LinearRegression()"
            ]
          },
          "execution_count": 17,
          "metadata": {},
          "output_type": "execute_result"
        }
      ],
      "source": [
        "regression_model = LinearRegression()\n",
        "regression_model.fit(X_train_scaled, y_train)"
      ]
    },
    {
      "cell_type": "code",
      "execution_count": 18,
      "metadata": {
        "id": "CoEowJ1q_Rop"
      },
      "outputs": [],
      "source": [
        "# Realizar predicciones en el conjunto de entrenamiento y prueba\n",
        "y_train_pred = regression_model.predict(X_train_scaled)\n",
        "y_test_pred = regression_model.predict(X_test_scaled)\n"
      ]
    },
    {
      "cell_type": "code",
      "execution_count": 19,
      "metadata": {
        "id": "_9V_xFra_Rgi"
      },
      "outputs": [],
      "source": [
        "# Métricas para el conjunto de entrenamiento\n",
        "mae_train = mean_absolute_error(y_train, y_train_pred)\n",
        "mse_train = mean_squared_error(y_train, y_train_pred)\n",
        "rmse_train = np.sqrt(mse_train)\n",
        "r2_train = r2_score(y_train, y_train_pred)"
      ]
    },
    {
      "cell_type": "code",
      "execution_count": 20,
      "metadata": {
        "id": "W6wd1GS-_cLR"
      },
      "outputs": [],
      "source": [
        "# Métricas para el conjunto de prueba\n",
        "mae_test = mean_absolute_error(y_test, y_test_pred)\n",
        "mse_test = mean_squared_error(y_test, y_test_pred)\n",
        "rmse_test = np.sqrt(mse_test)\n",
        "r2_test = r2_score(y_test, y_test_pred)"
      ]
    },
    {
      "cell_type": "code",
      "execution_count": 21,
      "metadata": {
        "colab": {
          "base_uri": "https://localhost:8080/"
        },
        "id": "BaFIewzC_fBq",
        "outputId": "ed184d43-ffa8-4905-890d-88d6db7924ee"
      },
      "outputs": [
        {
          "name": "stdout",
          "output_type": "stream",
          "text": [
            "TRAIN\n",
            "MAE: 0.0581\n",
            "MSE: 0.0075\n",
            "RMSE: 0.0864\n",
            "R2-score: 0.8432\n"
          ]
        }
      ],
      "source": [
        "# Imprimir las métricas para el conjunto de entrenamiento\n",
        "print('TRAIN')\n",
        "print('MAE:', round(mae_train, 4))\n",
        "print('MSE:', round(mse_train, 4))\n",
        "print('RMSE:', round(rmse_train, 4))\n",
        "print('R2-score:', round(r2_train, 4))"
      ]
    },
    {
      "cell_type": "code",
      "execution_count": 22,
      "metadata": {
        "colab": {
          "base_uri": "https://localhost:8080/"
        },
        "id": "1UcfguE__e6b",
        "outputId": "ce3bf7d8-0d2a-4d0f-d510-6a796edf0546"
      },
      "outputs": [
        {
          "name": "stdout",
          "output_type": "stream",
          "text": [
            "\n",
            "TEST\n",
            "MAE: 0.0592\n",
            "MSE: 0.0077\n",
            "RMSE: 0.088\n",
            "R2-score: 0.8382\n"
          ]
        }
      ],
      "source": [
        "\n",
        "print()\n",
        "\n",
        "# Imprimir las métricas para el conjunto de prueba\n",
        "print('TEST')\n",
        "print('MAE:', round(mae_test, 4))\n",
        "print('MSE:', round(mse_test, 4))\n",
        "print('RMSE:', round(rmse_test, 4))\n",
        "print('R2-score:', round(r2_test, 4))"
      ]
    },
    {
      "cell_type": "code",
      "execution_count": 25,
      "metadata": {
        "id": "XdL93UIZ52ES"
      },
      "outputs": [],
      "source": [
        "    # Visualizacion\n",
        "              # Visualizacion\n",
        "import matplotlib.pyplot as plt\n"
      ]
    },
    {
      "cell_type": "code",
      "execution_count": 26,
      "metadata": {
        "colab": {
          "base_uri": "https://localhost:8080/",
          "height": 564
        },
        "id": "BdtT3GFn7mmZ",
        "outputId": "ae80af54-b03e-4b02-f4c8-b0aad77900a3"
      },
      "outputs": [
        {
          "data": {
            "image/png": "[encoded data removed]",
            "text/plain": [
              "<Figure size 1000x600 with 1 Axes>"
            ]
          },
          "metadata": {},
          "output_type": "display_data"
        }
      ],
      "source": [
        "plt.figure(figsize=[10,6])\n",
        "plt.scatter(y_test, y_test_pred)\n",
        "plt.plot(y_test, y_test, 'r')\n",
        "plt.title('Real vs. Predicho')\n",
        "plt.xlabel('Valores Reales')\n",
        "plt.ylabel('Valores Predichos')\n",
        "plt.legend(['Regresión Ideal (0% Error)', 'Nuestra Regresión'])\n",
        "plt.show()\n"
      ]
    }
  ],
  "metadata": {
    "colab": {
      "authorship_tag": "ABX9TyNiDZFGTDzInKs2LvVHjRPe",
      "include_colab_link": true,
      "provenance": []
    },
    "kernelspec": {
      "display_name": "Python 3",
      "name": "python3"
    },
    "language_info": {
      "codemirror_mode": {
        "name": "ipython",
        "version": 3
      },
      "file_extension": ".py",
      "mimetype": "text/x-python",
      "name": "python",
      "nbconvert_exporter": "python",
      "pygments_lexer": "ipython3",
      "version": "3.11.6"
    }
  },
  "nbformat": 4,
  "nbformat_minor": 0
}
