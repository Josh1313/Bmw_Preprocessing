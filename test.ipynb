{
  "cells": [
    {
      "cell_type": "code",
      "execution_count": 211,
      "metadata": {
        "id": "fiQ8TpN8lWBQ"
      },
      "outputs": [],
      "source": [
        "import pandas as pd\n",
        "import numpy as np\n",
        "import matplotlib.pyplot as plt\n",
        "import seaborn as sns\n",
        "from sklearn.preprocessing import LabelEncoder,MinMaxScaler"
      ]
    },
    {
      "cell_type": "code",
      "execution_count": 212,
      "metadata": {
        "id": "sIT6M5b0lWEj"
      },
      "outputs": [],
      "source": [
        "df = pd.read_csv(r\"C:\\Users\\JOSUE\\Downloads\\Preprocessing_BMW\\bmw_pricing_v2.csv\")"
      ]
    },
    {
      "cell_type": "code",
      "execution_count": 213,
      "metadata": {
        "id": "__kqESlSlWHt"
      },
      "outputs": [],
      "source": [
        "# pd.options.display.float_format = '{:.0f}'.format"
      ]
    },
    {
      "cell_type": "code",
      "execution_count": 214,
      "metadata": {
        "colab": {
          "base_uri": "https://localhost:8080/"
        },
        "id": "QLd16kKflWKy",
        "outputId": "44eee5cd-6641-46e4-bf0f-e34581bc1e2e"
      },
      "outputs": [
        {
          "name": "stdout",
          "output_type": "stream",
          "text": [
            "<class 'pandas.core.frame.DataFrame'>\n",
            "RangeIndex: 4843 entries, 0 to 4842\n",
            "Data columns (total 18 columns):\n",
            " #   Column                       Non-Null Count  Dtype  \n",
            "---  ------                       --------------  -----  \n",
            " 0   marca                        4841 non-null   object \n",
            " 1   modelo                       4840 non-null   object \n",
            " 2   km                           4841 non-null   float64\n",
            " 3   potencia                     4842 non-null   float64\n",
            " 4   fecha_registro               4842 non-null   object \n",
            " 5   tipo_gasolina                4838 non-null   object \n",
            " 6   color                        4831 non-null   object \n",
            " 7   tipo_coche                   4834 non-null   object \n",
            " 8   volante_regulable            4839 non-null   object \n",
            " 9   aire_acondicionado           4841 non-null   object \n",
            " 10  camara_trasera               4841 non-null   object \n",
            " 11  asientos_traseros_plegables  4839 non-null   object \n",
            " 12  elevalunas_electrico         4841 non-null   object \n",
            " 13  bluetooth                    4839 non-null   object \n",
            " 14  gps                          4843 non-null   bool   \n",
            " 15  alerta_lim_velocidad         4841 non-null   object \n",
            " 16  precio                       4837 non-null   float64\n",
            " 17  fecha_venta                  4842 non-null   object \n",
            "dtypes: bool(1), float64(3), object(14)\n",
            "memory usage: 648.1+ KB\n"
          ]
        }
      ],
      "source": [
        "df.info()"
      ]
    },
    {
      "cell_type": "code",
      "execution_count": 215,
      "metadata": {
        "colab": {
          "base_uri": "https://localhost:8080/",
          "height": 300
        },
        "id": "ESVgt5M3lWM-",
        "outputId": "2ba651b3-3347-47f7-8884-612c341d8315"
      },
      "outputs": [
        {
          "data": {
            "text/html": [
              "<div>\n",
              "<style scoped>\n",
              "    .dataframe tbody tr th:only-of-type {\n",
              "        vertical-align: middle;\n",
              "    }\n",
              "\n",
              "    .dataframe tbody tr th {\n",
              "        vertical-align: top;\n",
              "    }\n",
              "\n",
              "    .dataframe thead th {\n",
              "        text-align: right;\n",
              "    }\n",
              "</style>\n",
              "<table border=\"1\" class=\"dataframe\">\n",
              "  <thead>\n",
              "    <tr style=\"text-align: right;\">\n",
              "      <th></th>\n",
              "      <th>km</th>\n",
              "      <th>potencia</th>\n",
              "      <th>precio</th>\n",
              "    </tr>\n",
              "  </thead>\n",
              "  <tbody>\n",
              "    <tr>\n",
              "      <th>count</th>\n",
              "      <td>4841</td>\n",
              "      <td>4842</td>\n",
              "      <td>4837</td>\n",
              "    </tr>\n",
              "    <tr>\n",
              "      <th>mean</th>\n",
              "      <td>140959</td>\n",
              "      <td>129</td>\n",
              "      <td>15832</td>\n",
              "    </tr>\n",
              "    <tr>\n",
              "      <th>std</th>\n",
              "      <td>60209</td>\n",
              "      <td>39</td>\n",
              "      <td>9223</td>\n",
              "    </tr>\n",
              "    <tr>\n",
              "      <th>min</th>\n",
              "      <td>-64</td>\n",
              "      <td>0</td>\n",
              "      <td>100</td>\n",
              "    </tr>\n",
              "    <tr>\n",
              "      <th>25%</th>\n",
              "      <td>102884</td>\n",
              "      <td>100</td>\n",
              "      <td>10800</td>\n",
              "    </tr>\n",
              "    <tr>\n",
              "      <th>50%</th>\n",
              "      <td>141080</td>\n",
              "      <td>120</td>\n",
              "      <td>14200</td>\n",
              "    </tr>\n",
              "    <tr>\n",
              "      <th>75%</th>\n",
              "      <td>175217</td>\n",
              "      <td>135</td>\n",
              "      <td>18600</td>\n",
              "    </tr>\n",
              "    <tr>\n",
              "      <th>max</th>\n",
              "      <td>1000376</td>\n",
              "      <td>423</td>\n",
              "      <td>178500</td>\n",
              "    </tr>\n",
              "  </tbody>\n",
              "</table>\n",
              "</div>"
            ],
            "text/plain": [
              "           km  potencia  precio\n",
              "count    4841      4842    4837\n",
              "mean   140959       129   15832\n",
              "std     60209        39    9223\n",
              "min       -64         0     100\n",
              "25%    102884       100   10800\n",
              "50%    141080       120   14200\n",
              "75%    175217       135   18600\n",
              "max   1000376       423  178500"
            ]
          },
          "execution_count": 215,
          "metadata": {},
          "output_type": "execute_result"
        }
      ],
      "source": [
        "df.describe()"
      ]
    },
    {
      "cell_type": "code",
      "execution_count": 216,
      "metadata": {
        "colab": {
          "base_uri": "https://localhost:8080/"
        },
        "id": "2NcbOCcylWP8",
        "outputId": "c09903c4-e985-4041-ad6d-79c1deb57c4c"
      },
      "outputs": [
        {
          "data": {
            "text/plain": [
              "(4843, 18)"
            ]
          },
          "execution_count": 216,
          "metadata": {},
          "output_type": "execute_result"
        }
      ],
      "source": [
        "df.shape"
      ]
    },
    {
      "cell_type": "code",
      "execution_count": 217,
      "metadata": {
        "colab": {
          "base_uri": "https://localhost:8080/",
          "height": 226
        },
        "id": "mDiHPqpilWTA",
        "outputId": "bfa2d3af-604a-4308-f3cd-f1c12c06c9fa"
      },
      "outputs": [
        {
          "data": {
            "text/html": [
              "<div>\n",
              "<style scoped>\n",
              "    .dataframe tbody tr th:only-of-type {\n",
              "        vertical-align: middle;\n",
              "    }\n",
              "\n",
              "    .dataframe tbody tr th {\n",
              "        vertical-align: top;\n",
              "    }\n",
              "\n",
              "    .dataframe thead th {\n",
              "        text-align: right;\n",
              "    }\n",
              "</style>\n",
              "<table border=\"1\" class=\"dataframe\">\n",
              "  <thead>\n",
              "    <tr style=\"text-align: right;\">\n",
              "      <th></th>\n",
              "      <th>marca</th>\n",
              "      <th>modelo</th>\n",
              "      <th>km</th>\n",
              "      <th>potencia</th>\n",
              "      <th>fecha_registro</th>\n",
              "      <th>tipo_gasolina</th>\n",
              "      <th>color</th>\n",
              "      <th>tipo_coche</th>\n",
              "      <th>volante_regulable</th>\n",
              "      <th>aire_acondicionado</th>\n",
              "      <th>camara_trasera</th>\n",
              "      <th>asientos_traseros_plegables</th>\n",
              "      <th>elevalunas_electrico</th>\n",
              "      <th>bluetooth</th>\n",
              "      <th>gps</th>\n",
              "      <th>alerta_lim_velocidad</th>\n",
              "      <th>precio</th>\n",
              "      <th>fecha_venta</th>\n",
              "    </tr>\n",
              "  </thead>\n",
              "  <tbody>\n",
              "    <tr>\n",
              "      <th>0</th>\n",
              "      <td>BMW</td>\n",
              "      <td>118</td>\n",
              "      <td>140411</td>\n",
              "      <td>100</td>\n",
              "      <td>2012-02-01</td>\n",
              "      <td>diesel</td>\n",
              "      <td>black</td>\n",
              "      <td>convertible</td>\n",
              "      <td>True</td>\n",
              "      <td>True</td>\n",
              "      <td>False</td>\n",
              "      <td>False</td>\n",
              "      <td>True</td>\n",
              "      <td>True</td>\n",
              "      <td>True</td>\n",
              "      <td>False</td>\n",
              "      <td>11300</td>\n",
              "      <td>2018-01-01</td>\n",
              "    </tr>\n",
              "    <tr>\n",
              "      <th>1</th>\n",
              "      <td>BMW</td>\n",
              "      <td>M4</td>\n",
              "      <td>13929</td>\n",
              "      <td>317</td>\n",
              "      <td>2016-04-01</td>\n",
              "      <td>petrol</td>\n",
              "      <td>grey</td>\n",
              "      <td>convertible</td>\n",
              "      <td>True</td>\n",
              "      <td>True</td>\n",
              "      <td>False</td>\n",
              "      <td>False</td>\n",
              "      <td>False</td>\n",
              "      <td>True</td>\n",
              "      <td>True</td>\n",
              "      <td>True</td>\n",
              "      <td>69700</td>\n",
              "      <td>2018-02-01</td>\n",
              "    </tr>\n",
              "    <tr>\n",
              "      <th>2</th>\n",
              "      <td>BMW</td>\n",
              "      <td>320</td>\n",
              "      <td>183297</td>\n",
              "      <td>120</td>\n",
              "      <td>2012-04-01</td>\n",
              "      <td>diesel</td>\n",
              "      <td>white</td>\n",
              "      <td>convertible</td>\n",
              "      <td>False</td>\n",
              "      <td>False</td>\n",
              "      <td>False</td>\n",
              "      <td>False</td>\n",
              "      <td>True</td>\n",
              "      <td>False</td>\n",
              "      <td>True</td>\n",
              "      <td>False</td>\n",
              "      <td>10200</td>\n",
              "      <td>2018-02-01</td>\n",
              "    </tr>\n",
              "    <tr>\n",
              "      <th>3</th>\n",
              "      <td>BMW</td>\n",
              "      <td>420</td>\n",
              "      <td>128035</td>\n",
              "      <td>135</td>\n",
              "      <td>2014-07-01</td>\n",
              "      <td>diesel</td>\n",
              "      <td>red</td>\n",
              "      <td>convertible</td>\n",
              "      <td>True</td>\n",
              "      <td>True</td>\n",
              "      <td>False</td>\n",
              "      <td>False</td>\n",
              "      <td>True</td>\n",
              "      <td>True</td>\n",
              "      <td>True</td>\n",
              "      <td>True</td>\n",
              "      <td>25100</td>\n",
              "      <td>2018-02-01</td>\n",
              "    </tr>\n",
              "    <tr>\n",
              "      <th>4</th>\n",
              "      <td>BMW</td>\n",
              "      <td>425</td>\n",
              "      <td>97097</td>\n",
              "      <td>160</td>\n",
              "      <td>2014-12-01</td>\n",
              "      <td>diesel</td>\n",
              "      <td>silver</td>\n",
              "      <td>convertible</td>\n",
              "      <td>True</td>\n",
              "      <td>True</td>\n",
              "      <td>False</td>\n",
              "      <td>False</td>\n",
              "      <td>False</td>\n",
              "      <td>True</td>\n",
              "      <td>True</td>\n",
              "      <td>True</td>\n",
              "      <td>33400</td>\n",
              "      <td>2018-04-01</td>\n",
              "    </tr>\n",
              "  </tbody>\n",
              "</table>\n",
              "</div>"
            ],
            "text/plain": [
              "  marca modelo     km  potencia fecha_registro tipo_gasolina   color   \n",
              "0   BMW    118 140411       100     2012-02-01        diesel   black  \\\n",
              "1   BMW     M4  13929       317     2016-04-01        petrol    grey   \n",
              "2   BMW    320 183297       120     2012-04-01        diesel   white   \n",
              "3   BMW    420 128035       135     2014-07-01        diesel     red   \n",
              "4   BMW    425  97097       160     2014-12-01        diesel  silver   \n",
              "\n",
              "    tipo_coche volante_regulable aire_acondicionado camara_trasera   \n",
              "0  convertible              True               True          False  \\\n",
              "1  convertible              True               True          False   \n",
              "2  convertible             False              False          False   \n",
              "3  convertible              True               True          False   \n",
              "4  convertible              True               True          False   \n",
              "\n",
              "  asientos_traseros_plegables elevalunas_electrico bluetooth   gps   \n",
              "0                       False                 True      True  True  \\\n",
              "1                       False                False      True  True   \n",
              "2                       False                 True     False  True   \n",
              "3                       False                 True      True  True   \n",
              "4                       False                False      True  True   \n",
              "\n",
              "  alerta_lim_velocidad  precio fecha_venta  \n",
              "0                False   11300  2018-01-01  \n",
              "1                 True   69700  2018-02-01  \n",
              "2                False   10200  2018-02-01  \n",
              "3                 True   25100  2018-02-01  \n",
              "4                 True   33400  2018-04-01  "
            ]
          },
          "execution_count": 217,
          "metadata": {},
          "output_type": "execute_result"
        }
      ],
      "source": [
        "df.head(5)"
      ]
    },
    {
      "cell_type": "code",
      "execution_count": 218,
      "metadata": {
        "colab": {
          "base_uri": "https://localhost:8080/",
          "height": 53
        },
        "id": "I9HwQFfRlWWJ",
        "outputId": "315ab126-fe3d-4c78-fcc5-673a51cd5e19"
      },
      "outputs": [
        {
          "data": {
            "text/plain": [
              "' cambiar de tipo todas la columnas a su formato, el kilometraje es negativo, el precio es 100, potencia 0, la marca la vamos a borrar'"
            ]
          },
          "execution_count": 218,
          "metadata": {},
          "output_type": "execute_result"
        }
      ],
      "source": [
        "''' cambiar de tipo todas la columnas a su formato, el kilometraje es negativo, el precio es 100, potencia 0, la marca la vamos a borrar'''"
      ]
    },
    {
      "cell_type": "code",
      "execution_count": 219,
      "metadata": {
        "colab": {
          "base_uri": "https://localhost:8080/",
          "height": 509
        },
        "id": "6J5uwzszlWY_",
        "outputId": "c268b9bb-5629-40c5-d957-b35e543ec20d"
      },
      "outputs": [
        {
          "data": {
            "text/plain": [
              "array([[<Axes: title={'center': 'km'}>,\n",
              "        <Axes: title={'center': 'potencia'}>],\n",
              "       [<Axes: title={'center': 'precio'}>, <Axes: >]], dtype=object)"
            ]
          },
          "execution_count": 219,
          "metadata": {},
          "output_type": "execute_result"
        },
        {
          "data": {
            "image/png": "[encoded data removed]",
            "text/plain": [
              "<Figure size 640x480 with 4 Axes>"
            ]
          },
          "metadata": {},
          "output_type": "display_data"
        }
      ],
      "source": [
        "df.hist()"
      ]
    },
    {
      "cell_type": "code",
      "execution_count": 220,
      "metadata": {
        "colab": {
          "base_uri": "https://localhost:8080/"
        },
        "id": "cNliBItYlWb_",
        "outputId": "6cea178c-35a0-4f8a-d70b-e0dd0bf1e836"
      },
      "outputs": [
        {
          "data": {
            "text/plain": [
              "marca                           2\n",
              "modelo                          3\n",
              "km                              2\n",
              "potencia                        1\n",
              "fecha_registro                  1\n",
              "tipo_gasolina                   5\n",
              "color                          12\n",
              "tipo_coche                      9\n",
              "volante_regulable               4\n",
              "aire_acondicionado              2\n",
              "camara_trasera                  2\n",
              "asientos_traseros_plegables     4\n",
              "elevalunas_electrico            2\n",
              "bluetooth                       4\n",
              "gps                             0\n",
              "alerta_lim_velocidad            2\n",
              "precio                          6\n",
              "fecha_venta                     1\n",
              "dtype: int64"
            ]
          },
          "execution_count": 220,
          "metadata": {},
          "output_type": "execute_result"
        }
      ],
      "source": [
        "df.isnull().sum()"
      ]
    },
    {
      "cell_type": "code",
      "execution_count": 221,
      "metadata": {
        "colab": {
          "base_uri": "https://localhost:8080/"
        },
        "id": "wXzE_Dg1lWfR",
        "outputId": "5217e7e7-5abe-4817-9afc-46f8fc387936"
      },
      "outputs": [
        {
          "data": {
            "text/plain": [
              "0"
            ]
          },
          "execution_count": 221,
          "metadata": {},
          "output_type": "execute_result"
        }
      ],
      "source": [
        "len(df[df.duplicated()])"
      ]
    },
    {
      "cell_type": "code",
      "execution_count": 222,
      "metadata": {
        "colab": {
          "base_uri": "https://localhost:8080/",
          "height": 1000
        },
        "id": "4ZJaMsj4qwSC",
        "outputId": "9194a2dc-3276-4e60-9861-7669a5303840"
      },
      "outputs": [],
      "source": [
        "# def plot_variables(df):\n",
        "#     # Obtener listas de columnas por tipo de datos\n",
        "#     numeric_cols = df.select_dtypes(include=['int', 'float']).columns\n",
        "#     categorical_cols = df.select_dtypes(include=['object']).columns\n",
        "#     boolean_cols = df.select_dtypes(include=['bool']).columns\n",
        "\n",
        "#     # Graficar variables numéricas\n",
        "#     for col in numeric_cols:\n",
        "#         plt.figure(figsize=(8, 6))\n",
        "#         plt.hist(df[col], bins=20)\n",
        "#         plt.xlabel(col)\n",
        "#         plt.ylabel('Frecuencia')\n",
        "#         plt.title(f'Histograma de {col}')\n",
        "#         plt.show()\n",
        "\n",
        "#     # Graficar variables categóricas\n",
        "#     for col in categorical_cols:\n",
        "#         plt.figure(figsize=(8, 6))\n",
        "#         df[col].value_counts().plot(kind='bar')\n",
        "#         plt.xlabel(col)\n",
        "#         plt.ylabel('Frecuencia')\n",
        "#         plt.title(f'Gráfico de barras de {col}')\n",
        "#         plt.show()\n",
        "\n",
        "#     # Graficar variables booleanas\n",
        "#     for col in boolean_cols:\n",
        "#         plt.figure(figsize=(8, 6))\n",
        "#         df[col].value_counts().plot(kind='bar')\n",
        "#         plt.xlabel(col)\n",
        "#         plt.ylabel('Frecuencia')\n",
        "#         plt.title(f'Gráfico de barras de {col}')\n",
        "#         plt.show()\n",
        "\n",
        "\n",
        "# plot_variables(df)\n"
      ]
    },
    {
      "cell_type": "markdown",
      "metadata": {
        "id": "ggl-pmA4sPUg"
      },
      "source": [
        "# Realizaremos la imputacion de nulos ,cambios de formato\n",
        "\n",
        "Encontré varios problemas en el conjunto de datos:\n",
        "\n",
        "1-)Algunas columnas están almacenadas como objetos, pero deberían ser booleanas,pd.datetime ya que contienen valores de verdadero o falso. Las cambiaré a tipo booleano.       \n",
        "\n",
        "2-)La columna 'marca' no es necesaria y la eliminaré.\n",
        "\n",
        "\n",
        "3-)Revisaré si hay filas con valores nulos (sin información) y tomaré decisiones sobre cómo rellenarlos o eliminarlos, asegurándome de que no afecten los resultados.(regla si los datos son nulos mas del 10% de las entradas en tu variable tienes que ver como rellenarla o depende si tu infromacion es muy valiosa para borrar yo las borrare por efectos de aprendisaje\n",
        "\n",
        "4)También encontré un nombre repetido en la columna de gasolinas, simplemente convertiré todo a minúsculas y me quedaré con el primer nombre para corregirlo.\n",
        "\n",
        "5)Eliminaré filas duplicadas si las hubiera.\n",
        "\n",
        "Anomalias de outliers, atipicas en los datos\n",
        "\n"
      ]
    },
    {
      "cell_type": "code",
      "execution_count": 223,
      "metadata": {
        "colab": {
          "base_uri": "https://localhost:8080/",
          "height": 226
        },
        "id": "r842AR2yaN2E",
        "outputId": "7702b04f-6032-46c5-85ec-491b05e4ced0"
      },
      "outputs": [
        {
          "data": {
            "text/html": [
              "<div>\n",
              "<style scoped>\n",
              "    .dataframe tbody tr th:only-of-type {\n",
              "        vertical-align: middle;\n",
              "    }\n",
              "\n",
              "    .dataframe tbody tr th {\n",
              "        vertical-align: top;\n",
              "    }\n",
              "\n",
              "    .dataframe thead th {\n",
              "        text-align: right;\n",
              "    }\n",
              "</style>\n",
              "<table border=\"1\" class=\"dataframe\">\n",
              "  <thead>\n",
              "    <tr style=\"text-align: right;\">\n",
              "      <th></th>\n",
              "      <th>marca</th>\n",
              "      <th>modelo</th>\n",
              "      <th>km</th>\n",
              "      <th>potencia</th>\n",
              "      <th>fecha_registro</th>\n",
              "      <th>tipo_gasolina</th>\n",
              "      <th>color</th>\n",
              "      <th>tipo_coche</th>\n",
              "      <th>volante_regulable</th>\n",
              "      <th>aire_acondicionado</th>\n",
              "      <th>camara_trasera</th>\n",
              "      <th>asientos_traseros_plegables</th>\n",
              "      <th>elevalunas_electrico</th>\n",
              "      <th>bluetooth</th>\n",
              "      <th>gps</th>\n",
              "      <th>alerta_lim_velocidad</th>\n",
              "      <th>precio</th>\n",
              "      <th>fecha_venta</th>\n",
              "    </tr>\n",
              "  </thead>\n",
              "  <tbody>\n",
              "    <tr>\n",
              "      <th>0</th>\n",
              "      <td>BMW</td>\n",
              "      <td>118</td>\n",
              "      <td>140411</td>\n",
              "      <td>100</td>\n",
              "      <td>2012-02-01</td>\n",
              "      <td>diesel</td>\n",
              "      <td>black</td>\n",
              "      <td>convertible</td>\n",
              "      <td>True</td>\n",
              "      <td>True</td>\n",
              "      <td>False</td>\n",
              "      <td>False</td>\n",
              "      <td>True</td>\n",
              "      <td>True</td>\n",
              "      <td>True</td>\n",
              "      <td>False</td>\n",
              "      <td>11300</td>\n",
              "      <td>2018-01-01</td>\n",
              "    </tr>\n",
              "    <tr>\n",
              "      <th>1</th>\n",
              "      <td>BMW</td>\n",
              "      <td>M4</td>\n",
              "      <td>13929</td>\n",
              "      <td>317</td>\n",
              "      <td>2016-04-01</td>\n",
              "      <td>petrol</td>\n",
              "      <td>grey</td>\n",
              "      <td>convertible</td>\n",
              "      <td>True</td>\n",
              "      <td>True</td>\n",
              "      <td>False</td>\n",
              "      <td>False</td>\n",
              "      <td>False</td>\n",
              "      <td>True</td>\n",
              "      <td>True</td>\n",
              "      <td>True</td>\n",
              "      <td>69700</td>\n",
              "      <td>2018-02-01</td>\n",
              "    </tr>\n",
              "    <tr>\n",
              "      <th>2</th>\n",
              "      <td>BMW</td>\n",
              "      <td>320</td>\n",
              "      <td>183297</td>\n",
              "      <td>120</td>\n",
              "      <td>2012-04-01</td>\n",
              "      <td>diesel</td>\n",
              "      <td>white</td>\n",
              "      <td>convertible</td>\n",
              "      <td>False</td>\n",
              "      <td>False</td>\n",
              "      <td>False</td>\n",
              "      <td>False</td>\n",
              "      <td>True</td>\n",
              "      <td>False</td>\n",
              "      <td>True</td>\n",
              "      <td>False</td>\n",
              "      <td>10200</td>\n",
              "      <td>2018-02-01</td>\n",
              "    </tr>\n",
              "    <tr>\n",
              "      <th>3</th>\n",
              "      <td>BMW</td>\n",
              "      <td>420</td>\n",
              "      <td>128035</td>\n",
              "      <td>135</td>\n",
              "      <td>2014-07-01</td>\n",
              "      <td>diesel</td>\n",
              "      <td>red</td>\n",
              "      <td>convertible</td>\n",
              "      <td>True</td>\n",
              "      <td>True</td>\n",
              "      <td>False</td>\n",
              "      <td>False</td>\n",
              "      <td>True</td>\n",
              "      <td>True</td>\n",
              "      <td>True</td>\n",
              "      <td>True</td>\n",
              "      <td>25100</td>\n",
              "      <td>2018-02-01</td>\n",
              "    </tr>\n",
              "    <tr>\n",
              "      <th>4</th>\n",
              "      <td>BMW</td>\n",
              "      <td>425</td>\n",
              "      <td>97097</td>\n",
              "      <td>160</td>\n",
              "      <td>2014-12-01</td>\n",
              "      <td>diesel</td>\n",
              "      <td>silver</td>\n",
              "      <td>convertible</td>\n",
              "      <td>True</td>\n",
              "      <td>True</td>\n",
              "      <td>False</td>\n",
              "      <td>False</td>\n",
              "      <td>False</td>\n",
              "      <td>True</td>\n",
              "      <td>True</td>\n",
              "      <td>True</td>\n",
              "      <td>33400</td>\n",
              "      <td>2018-04-01</td>\n",
              "    </tr>\n",
              "  </tbody>\n",
              "</table>\n",
              "</div>"
            ],
            "text/plain": [
              "  marca modelo     km  potencia fecha_registro tipo_gasolina   color   \n",
              "0   BMW    118 140411       100     2012-02-01        diesel   black  \\\n",
              "1   BMW     M4  13929       317     2016-04-01        petrol    grey   \n",
              "2   BMW    320 183297       120     2012-04-01        diesel   white   \n",
              "3   BMW    420 128035       135     2014-07-01        diesel     red   \n",
              "4   BMW    425  97097       160     2014-12-01        diesel  silver   \n",
              "\n",
              "    tipo_coche volante_regulable aire_acondicionado camara_trasera   \n",
              "0  convertible              True               True          False  \\\n",
              "1  convertible              True               True          False   \n",
              "2  convertible             False              False          False   \n",
              "3  convertible              True               True          False   \n",
              "4  convertible              True               True          False   \n",
              "\n",
              "  asientos_traseros_plegables elevalunas_electrico bluetooth   gps   \n",
              "0                       False                 True      True  True  \\\n",
              "1                       False                False      True  True   \n",
              "2                       False                 True     False  True   \n",
              "3                       False                 True      True  True   \n",
              "4                       False                False      True  True   \n",
              "\n",
              "  alerta_lim_velocidad  precio fecha_venta  \n",
              "0                False   11300  2018-01-01  \n",
              "1                 True   69700  2018-02-01  \n",
              "2                False   10200  2018-02-01  \n",
              "3                 True   25100  2018-02-01  \n",
              "4                 True   33400  2018-04-01  "
            ]
          },
          "execution_count": 223,
          "metadata": {},
          "output_type": "execute_result"
        }
      ],
      "source": [
        "df.head(5)"
      ]
    },
    {
      "cell_type": "code",
      "execution_count": 224,
      "metadata": {
        "id": "hA1EKCmqaTzS"
      },
      "outputs": [],
      "source": [
        "columnas_convertir = ['bluetooth', 'elevalunas_electrico', 'asientos_traseros_plegables', 'camara_trasera', 'aire_acondicionado', 'volante_regulable', 'alerta_lim_velocidad' ]"
      ]
    },
    {
      "cell_type": "code",
      "execution_count": 225,
      "metadata": {
        "id": "_Oz-V26qbgj-"
      },
      "outputs": [],
      "source": [
        "df[columnas_convertir] = df[columnas_convertir].astype(bool)"
      ]
    },
    {
      "cell_type": "code",
      "execution_count": 226,
      "metadata": {
        "colab": {
          "base_uri": "https://localhost:8080/"
        },
        "id": "_6mmTcK6a5Fh",
        "outputId": "3074c595-99be-41b7-a451-f1d9ab48d321"
      },
      "outputs": [
        {
          "name": "stdout",
          "output_type": "stream",
          "text": [
            "<class 'pandas.core.frame.DataFrame'>\n",
            "RangeIndex: 4843 entries, 0 to 4842\n",
            "Data columns (total 18 columns):\n",
            " #   Column                       Non-Null Count  Dtype  \n",
            "---  ------                       --------------  -----  \n",
            " 0   marca                        4841 non-null   object \n",
            " 1   modelo                       4840 non-null   object \n",
            " 2   km                           4841 non-null   float64\n",
            " 3   potencia                     4842 non-null   float64\n",
            " 4   fecha_registro               4842 non-null   object \n",
            " 5   tipo_gasolina                4838 non-null   object \n",
            " 6   color                        4831 non-null   object \n",
            " 7   tipo_coche                   4834 non-null   object \n",
            " 8   volante_regulable            4843 non-null   bool   \n",
            " 9   aire_acondicionado           4843 non-null   bool   \n",
            " 10  camara_trasera               4843 non-null   bool   \n",
            " 11  asientos_traseros_plegables  4843 non-null   bool   \n",
            " 12  elevalunas_electrico         4843 non-null   bool   \n",
            " 13  bluetooth                    4843 non-null   bool   \n",
            " 14  gps                          4843 non-null   bool   \n",
            " 15  alerta_lim_velocidad         4843 non-null   bool   \n",
            " 16  precio                       4837 non-null   float64\n",
            " 17  fecha_venta                  4842 non-null   object \n",
            "dtypes: bool(8), float64(3), object(7)\n",
            "memory usage: 416.3+ KB\n"
          ]
        }
      ],
      "source": [
        "df.info()"
      ]
    },
    {
      "cell_type": "code",
      "execution_count": 227,
      "metadata": {
        "id": "rO8c7kvwb08t"
      },
      "outputs": [],
      "source": [
        "df['fecha_venta'] = pd.to_datetime(df['fecha_venta'])"
      ]
    },
    {
      "cell_type": "code",
      "execution_count": 228,
      "metadata": {
        "id": "lmXWbqgZcHFU"
      },
      "outputs": [],
      "source": [
        "df['fecha_registro'] = pd.to_datetime(df['fecha_registro'])"
      ]
    },
    {
      "cell_type": "code",
      "execution_count": 229,
      "metadata": {
        "colab": {
          "base_uri": "https://localhost:8080/"
        },
        "id": "BJxh71OHcMJ_",
        "outputId": "74b14b54-722d-4fe7-d708-c7d09dd0c643"
      },
      "outputs": [
        {
          "name": "stdout",
          "output_type": "stream",
          "text": [
            "<class 'pandas.core.frame.DataFrame'>\n",
            "RangeIndex: 4843 entries, 0 to 4842\n",
            "Data columns (total 18 columns):\n",
            " #   Column                       Non-Null Count  Dtype         \n",
            "---  ------                       --------------  -----         \n",
            " 0   marca                        4841 non-null   object        \n",
            " 1   modelo                       4840 non-null   object        \n",
            " 2   km                           4841 non-null   float64       \n",
            " 3   potencia                     4842 non-null   float64       \n",
            " 4   fecha_registro               4842 non-null   datetime64[ns]\n",
            " 5   tipo_gasolina                4838 non-null   object        \n",
            " 6   color                        4831 non-null   object        \n",
            " 7   tipo_coche                   4834 non-null   object        \n",
            " 8   volante_regulable            4843 non-null   bool          \n",
            " 9   aire_acondicionado           4843 non-null   bool          \n",
            " 10  camara_trasera               4843 non-null   bool          \n",
            " 11  asientos_traseros_plegables  4843 non-null   bool          \n",
            " 12  elevalunas_electrico         4843 non-null   bool          \n",
            " 13  bluetooth                    4843 non-null   bool          \n",
            " 14  gps                          4843 non-null   bool          \n",
            " 15  alerta_lim_velocidad         4843 non-null   bool          \n",
            " 16  precio                       4837 non-null   float64       \n",
            " 17  fecha_venta                  4842 non-null   datetime64[ns]\n",
            "dtypes: bool(8), datetime64[ns](2), float64(3), object(5)\n",
            "memory usage: 416.3+ KB\n"
          ]
        }
      ],
      "source": [
        "df.info()"
      ]
    },
    {
      "cell_type": "code",
      "execution_count": 230,
      "metadata": {
        "colab": {
          "base_uri": "https://localhost:8080/",
          "height": 226
        },
        "id": "FnK7ITq9cSG5",
        "outputId": "6be3db63-b61e-4286-8fdd-6507a520bc9e"
      },
      "outputs": [
        {
          "data": {
            "text/html": [
              "<div>\n",
              "<style scoped>\n",
              "    .dataframe tbody tr th:only-of-type {\n",
              "        vertical-align: middle;\n",
              "    }\n",
              "\n",
              "    .dataframe tbody tr th {\n",
              "        vertical-align: top;\n",
              "    }\n",
              "\n",
              "    .dataframe thead th {\n",
              "        text-align: right;\n",
              "    }\n",
              "</style>\n",
              "<table border=\"1\" class=\"dataframe\">\n",
              "  <thead>\n",
              "    <tr style=\"text-align: right;\">\n",
              "      <th></th>\n",
              "      <th>marca</th>\n",
              "      <th>modelo</th>\n",
              "      <th>km</th>\n",
              "      <th>potencia</th>\n",
              "      <th>fecha_registro</th>\n",
              "      <th>tipo_gasolina</th>\n",
              "      <th>color</th>\n",
              "      <th>tipo_coche</th>\n",
              "      <th>volante_regulable</th>\n",
              "      <th>aire_acondicionado</th>\n",
              "      <th>camara_trasera</th>\n",
              "      <th>asientos_traseros_plegables</th>\n",
              "      <th>elevalunas_electrico</th>\n",
              "      <th>bluetooth</th>\n",
              "      <th>gps</th>\n",
              "      <th>alerta_lim_velocidad</th>\n",
              "      <th>precio</th>\n",
              "      <th>fecha_venta</th>\n",
              "    </tr>\n",
              "  </thead>\n",
              "  <tbody>\n",
              "    <tr>\n",
              "      <th>0</th>\n",
              "      <td>BMW</td>\n",
              "      <td>118</td>\n",
              "      <td>140411</td>\n",
              "      <td>100</td>\n",
              "      <td>2012-02-01</td>\n",
              "      <td>diesel</td>\n",
              "      <td>black</td>\n",
              "      <td>convertible</td>\n",
              "      <td>True</td>\n",
              "      <td>True</td>\n",
              "      <td>False</td>\n",
              "      <td>False</td>\n",
              "      <td>True</td>\n",
              "      <td>True</td>\n",
              "      <td>True</td>\n",
              "      <td>False</td>\n",
              "      <td>11300</td>\n",
              "      <td>2018-01-01</td>\n",
              "    </tr>\n",
              "    <tr>\n",
              "      <th>1</th>\n",
              "      <td>BMW</td>\n",
              "      <td>M4</td>\n",
              "      <td>13929</td>\n",
              "      <td>317</td>\n",
              "      <td>2016-04-01</td>\n",
              "      <td>petrol</td>\n",
              "      <td>grey</td>\n",
              "      <td>convertible</td>\n",
              "      <td>True</td>\n",
              "      <td>True</td>\n",
              "      <td>False</td>\n",
              "      <td>False</td>\n",
              "      <td>False</td>\n",
              "      <td>True</td>\n",
              "      <td>True</td>\n",
              "      <td>True</td>\n",
              "      <td>69700</td>\n",
              "      <td>2018-02-01</td>\n",
              "    </tr>\n",
              "    <tr>\n",
              "      <th>2</th>\n",
              "      <td>BMW</td>\n",
              "      <td>320</td>\n",
              "      <td>183297</td>\n",
              "      <td>120</td>\n",
              "      <td>2012-04-01</td>\n",
              "      <td>diesel</td>\n",
              "      <td>white</td>\n",
              "      <td>convertible</td>\n",
              "      <td>False</td>\n",
              "      <td>False</td>\n",
              "      <td>False</td>\n",
              "      <td>False</td>\n",
              "      <td>True</td>\n",
              "      <td>False</td>\n",
              "      <td>True</td>\n",
              "      <td>False</td>\n",
              "      <td>10200</td>\n",
              "      <td>2018-02-01</td>\n",
              "    </tr>\n",
              "    <tr>\n",
              "      <th>3</th>\n",
              "      <td>BMW</td>\n",
              "      <td>420</td>\n",
              "      <td>128035</td>\n",
              "      <td>135</td>\n",
              "      <td>2014-07-01</td>\n",
              "      <td>diesel</td>\n",
              "      <td>red</td>\n",
              "      <td>convertible</td>\n",
              "      <td>True</td>\n",
              "      <td>True</td>\n",
              "      <td>False</td>\n",
              "      <td>False</td>\n",
              "      <td>True</td>\n",
              "      <td>True</td>\n",
              "      <td>True</td>\n",
              "      <td>True</td>\n",
              "      <td>25100</td>\n",
              "      <td>2018-02-01</td>\n",
              "    </tr>\n",
              "    <tr>\n",
              "      <th>4</th>\n",
              "      <td>BMW</td>\n",
              "      <td>425</td>\n",
              "      <td>97097</td>\n",
              "      <td>160</td>\n",
              "      <td>2014-12-01</td>\n",
              "      <td>diesel</td>\n",
              "      <td>silver</td>\n",
              "      <td>convertible</td>\n",
              "      <td>True</td>\n",
              "      <td>True</td>\n",
              "      <td>False</td>\n",
              "      <td>False</td>\n",
              "      <td>False</td>\n",
              "      <td>True</td>\n",
              "      <td>True</td>\n",
              "      <td>True</td>\n",
              "      <td>33400</td>\n",
              "      <td>2018-04-01</td>\n",
              "    </tr>\n",
              "  </tbody>\n",
              "</table>\n",
              "</div>"
            ],
            "text/plain": [
              "  marca modelo     km  potencia fecha_registro tipo_gasolina   color   \n",
              "0   BMW    118 140411       100     2012-02-01        diesel   black  \\\n",
              "1   BMW     M4  13929       317     2016-04-01        petrol    grey   \n",
              "2   BMW    320 183297       120     2012-04-01        diesel   white   \n",
              "3   BMW    420 128035       135     2014-07-01        diesel     red   \n",
              "4   BMW    425  97097       160     2014-12-01        diesel  silver   \n",
              "\n",
              "    tipo_coche  volante_regulable  aire_acondicionado  camara_trasera   \n",
              "0  convertible               True                True           False  \\\n",
              "1  convertible               True                True           False   \n",
              "2  convertible              False               False           False   \n",
              "3  convertible               True                True           False   \n",
              "4  convertible               True                True           False   \n",
              "\n",
              "   asientos_traseros_plegables  elevalunas_electrico  bluetooth   gps   \n",
              "0                        False                  True       True  True  \\\n",
              "1                        False                 False       True  True   \n",
              "2                        False                  True      False  True   \n",
              "3                        False                  True       True  True   \n",
              "4                        False                 False       True  True   \n",
              "\n",
              "   alerta_lim_velocidad  precio fecha_venta  \n",
              "0                 False   11300  2018-01-01  \n",
              "1                  True   69700  2018-02-01  \n",
              "2                 False   10200  2018-02-01  \n",
              "3                  True   25100  2018-02-01  \n",
              "4                  True   33400  2018-04-01  "
            ]
          },
          "execution_count": 230,
          "metadata": {},
          "output_type": "execute_result"
        }
      ],
      "source": [
        "df.head(5)"
      ]
    },
    {
      "cell_type": "code",
      "execution_count": 231,
      "metadata": {
        "id": "OKYz8KM5coKf"
      },
      "outputs": [],
      "source": [
        "del df['marca']"
      ]
    },
    {
      "cell_type": "code",
      "execution_count": 232,
      "metadata": {
        "colab": {
          "base_uri": "https://localhost:8080/",
          "height": 226
        },
        "id": "n3uggGQCcuiF",
        "outputId": "768c0f7c-e21a-4267-a1d1-7874d66ee16a"
      },
      "outputs": [
        {
          "data": {
            "text/html": [
              "<div>\n",
              "<style scoped>\n",
              "    .dataframe tbody tr th:only-of-type {\n",
              "        vertical-align: middle;\n",
              "    }\n",
              "\n",
              "    .dataframe tbody tr th {\n",
              "        vertical-align: top;\n",
              "    }\n",
              "\n",
              "    .dataframe thead th {\n",
              "        text-align: right;\n",
              "    }\n",
              "</style>\n",
              "<table border=\"1\" class=\"dataframe\">\n",
              "  <thead>\n",
              "    <tr style=\"text-align: right;\">\n",
              "      <th></th>\n",
              "      <th>modelo</th>\n",
              "      <th>km</th>\n",
              "      <th>potencia</th>\n",
              "      <th>fecha_registro</th>\n",
              "      <th>tipo_gasolina</th>\n",
              "      <th>color</th>\n",
              "      <th>tipo_coche</th>\n",
              "      <th>volante_regulable</th>\n",
              "      <th>aire_acondicionado</th>\n",
              "      <th>camara_trasera</th>\n",
              "      <th>asientos_traseros_plegables</th>\n",
              "      <th>elevalunas_electrico</th>\n",
              "      <th>bluetooth</th>\n",
              "      <th>gps</th>\n",
              "      <th>alerta_lim_velocidad</th>\n",
              "      <th>precio</th>\n",
              "      <th>fecha_venta</th>\n",
              "    </tr>\n",
              "  </thead>\n",
              "  <tbody>\n",
              "    <tr>\n",
              "      <th>0</th>\n",
              "      <td>118</td>\n",
              "      <td>140411</td>\n",
              "      <td>100</td>\n",
              "      <td>2012-02-01</td>\n",
              "      <td>diesel</td>\n",
              "      <td>black</td>\n",
              "      <td>convertible</td>\n",
              "      <td>True</td>\n",
              "      <td>True</td>\n",
              "      <td>False</td>\n",
              "      <td>False</td>\n",
              "      <td>True</td>\n",
              "      <td>True</td>\n",
              "      <td>True</td>\n",
              "      <td>False</td>\n",
              "      <td>11300</td>\n",
              "      <td>2018-01-01</td>\n",
              "    </tr>\n",
              "    <tr>\n",
              "      <th>1</th>\n",
              "      <td>M4</td>\n",
              "      <td>13929</td>\n",
              "      <td>317</td>\n",
              "      <td>2016-04-01</td>\n",
              "      <td>petrol</td>\n",
              "      <td>grey</td>\n",
              "      <td>convertible</td>\n",
              "      <td>True</td>\n",
              "      <td>True</td>\n",
              "      <td>False</td>\n",
              "      <td>False</td>\n",
              "      <td>False</td>\n",
              "      <td>True</td>\n",
              "      <td>True</td>\n",
              "      <td>True</td>\n",
              "      <td>69700</td>\n",
              "      <td>2018-02-01</td>\n",
              "    </tr>\n",
              "    <tr>\n",
              "      <th>2</th>\n",
              "      <td>320</td>\n",
              "      <td>183297</td>\n",
              "      <td>120</td>\n",
              "      <td>2012-04-01</td>\n",
              "      <td>diesel</td>\n",
              "      <td>white</td>\n",
              "      <td>convertible</td>\n",
              "      <td>False</td>\n",
              "      <td>False</td>\n",
              "      <td>False</td>\n",
              "      <td>False</td>\n",
              "      <td>True</td>\n",
              "      <td>False</td>\n",
              "      <td>True</td>\n",
              "      <td>False</td>\n",
              "      <td>10200</td>\n",
              "      <td>2018-02-01</td>\n",
              "    </tr>\n",
              "    <tr>\n",
              "      <th>3</th>\n",
              "      <td>420</td>\n",
              "      <td>128035</td>\n",
              "      <td>135</td>\n",
              "      <td>2014-07-01</td>\n",
              "      <td>diesel</td>\n",
              "      <td>red</td>\n",
              "      <td>convertible</td>\n",
              "      <td>True</td>\n",
              "      <td>True</td>\n",
              "      <td>False</td>\n",
              "      <td>False</td>\n",
              "      <td>True</td>\n",
              "      <td>True</td>\n",
              "      <td>True</td>\n",
              "      <td>True</td>\n",
              "      <td>25100</td>\n",
              "      <td>2018-02-01</td>\n",
              "    </tr>\n",
              "    <tr>\n",
              "      <th>4</th>\n",
              "      <td>425</td>\n",
              "      <td>97097</td>\n",
              "      <td>160</td>\n",
              "      <td>2014-12-01</td>\n",
              "      <td>diesel</td>\n",
              "      <td>silver</td>\n",
              "      <td>convertible</td>\n",
              "      <td>True</td>\n",
              "      <td>True</td>\n",
              "      <td>False</td>\n",
              "      <td>False</td>\n",
              "      <td>False</td>\n",
              "      <td>True</td>\n",
              "      <td>True</td>\n",
              "      <td>True</td>\n",
              "      <td>33400</td>\n",
              "      <td>2018-04-01</td>\n",
              "    </tr>\n",
              "  </tbody>\n",
              "</table>\n",
              "</div>"
            ],
            "text/plain": [
              "  modelo     km  potencia fecha_registro tipo_gasolina   color   tipo_coche   \n",
              "0    118 140411       100     2012-02-01        diesel   black  convertible  \\\n",
              "1     M4  13929       317     2016-04-01        petrol    grey  convertible   \n",
              "2    320 183297       120     2012-04-01        diesel   white  convertible   \n",
              "3    420 128035       135     2014-07-01        diesel     red  convertible   \n",
              "4    425  97097       160     2014-12-01        diesel  silver  convertible   \n",
              "\n",
              "   volante_regulable  aire_acondicionado  camara_trasera   \n",
              "0               True                True           False  \\\n",
              "1               True                True           False   \n",
              "2              False               False           False   \n",
              "3               True                True           False   \n",
              "4               True                True           False   \n",
              "\n",
              "   asientos_traseros_plegables  elevalunas_electrico  bluetooth   gps   \n",
              "0                        False                  True       True  True  \\\n",
              "1                        False                 False       True  True   \n",
              "2                        False                  True      False  True   \n",
              "3                        False                  True       True  True   \n",
              "4                        False                 False       True  True   \n",
              "\n",
              "   alerta_lim_velocidad  precio fecha_venta  \n",
              "0                 False   11300  2018-01-01  \n",
              "1                  True   69700  2018-02-01  \n",
              "2                 False   10200  2018-02-01  \n",
              "3                  True   25100  2018-02-01  \n",
              "4                  True   33400  2018-04-01  "
            ]
          },
          "execution_count": 232,
          "metadata": {},
          "output_type": "execute_result"
        }
      ],
      "source": [
        "df.head(5)"
      ]
    },
    {
      "cell_type": "code",
      "execution_count": 233,
      "metadata": {
        "colab": {
          "base_uri": "https://localhost:8080/"
        },
        "id": "0fIS1lD5c5Zt",
        "outputId": "4f438a40-ad79-4ef4-ec9b-42bda03783dc"
      },
      "outputs": [
        {
          "data": {
            "text/plain": [
              "modelo                          3\n",
              "km                              2\n",
              "potencia                        1\n",
              "fecha_registro                  1\n",
              "tipo_gasolina                   5\n",
              "color                          12\n",
              "tipo_coche                      9\n",
              "volante_regulable               0\n",
              "aire_acondicionado              0\n",
              "camara_trasera                  0\n",
              "asientos_traseros_plegables     0\n",
              "elevalunas_electrico            0\n",
              "bluetooth                       0\n",
              "gps                             0\n",
              "alerta_lim_velocidad            0\n",
              "precio                          6\n",
              "fecha_venta                     1\n",
              "dtype: int64"
            ]
          },
          "execution_count": 233,
          "metadata": {},
          "output_type": "execute_result"
        }
      ],
      "source": [
        "df.isnull().sum()"
      ]
    },
    {
      "cell_type": "code",
      "execution_count": 234,
      "metadata": {
        "colab": {
          "base_uri": "https://localhost:8080/"
        },
        "id": "2Fzk0cCMdEUF",
        "outputId": "b6b2ad63-8bb2-4d83-abfb-83cd870bdadc"
      },
      "outputs": [
        {
          "name": "stdout",
          "output_type": "stream",
          "text": [
            "<class 'pandas.core.frame.DataFrame'>\n",
            "RangeIndex: 4843 entries, 0 to 4842\n",
            "Data columns (total 17 columns):\n",
            " #   Column                       Non-Null Count  Dtype         \n",
            "---  ------                       --------------  -----         \n",
            " 0   modelo                       4840 non-null   object        \n",
            " 1   km                           4841 non-null   float64       \n",
            " 2   potencia                     4842 non-null   float64       \n",
            " 3   fecha_registro               4842 non-null   datetime64[ns]\n",
            " 4   tipo_gasolina                4838 non-null   object        \n",
            " 5   color                        4831 non-null   object        \n",
            " 6   tipo_coche                   4834 non-null   object        \n",
            " 7   volante_regulable            4843 non-null   bool          \n",
            " 8   aire_acondicionado           4843 non-null   bool          \n",
            " 9   camara_trasera               4843 non-null   bool          \n",
            " 10  asientos_traseros_plegables  4843 non-null   bool          \n",
            " 11  elevalunas_electrico         4843 non-null   bool          \n",
            " 12  bluetooth                    4843 non-null   bool          \n",
            " 13  gps                          4843 non-null   bool          \n",
            " 14  alerta_lim_velocidad         4843 non-null   bool          \n",
            " 15  precio                       4837 non-null   float64       \n",
            " 16  fecha_venta                  4842 non-null   datetime64[ns]\n",
            "dtypes: bool(8), datetime64[ns](2), float64(3), object(4)\n",
            "memory usage: 378.5+ KB\n"
          ]
        }
      ],
      "source": [
        "df.info()"
      ]
    },
    {
      "cell_type": "code",
      "execution_count": 235,
      "metadata": {
        "id": "fHYRLaxldVC1"
      },
      "outputs": [],
      "source": [
        "df.dropna(inplace=True)"
      ]
    },
    {
      "cell_type": "code",
      "execution_count": 236,
      "metadata": {
        "colab": {
          "base_uri": "https://localhost:8080/"
        },
        "id": "dAqVSDcVdeGg",
        "outputId": "c9329915-5311-4b82-f38d-015566a8f87d"
      },
      "outputs": [
        {
          "name": "stdout",
          "output_type": "stream",
          "text": [
            "<class 'pandas.core.frame.DataFrame'>\n",
            "Index: 4803 entries, 0 to 4841\n",
            "Data columns (total 17 columns):\n",
            " #   Column                       Non-Null Count  Dtype         \n",
            "---  ------                       --------------  -----         \n",
            " 0   modelo                       4803 non-null   object        \n",
            " 1   km                           4803 non-null   float64       \n",
            " 2   potencia                     4803 non-null   float64       \n",
            " 3   fecha_registro               4803 non-null   datetime64[ns]\n",
            " 4   tipo_gasolina                4803 non-null   object        \n",
            " 5   color                        4803 non-null   object        \n",
            " 6   tipo_coche                   4803 non-null   object        \n",
            " 7   volante_regulable            4803 non-null   bool          \n",
            " 8   aire_acondicionado           4803 non-null   bool          \n",
            " 9   camara_trasera               4803 non-null   bool          \n",
            " 10  asientos_traseros_plegables  4803 non-null   bool          \n",
            " 11  elevalunas_electrico         4803 non-null   bool          \n",
            " 12  bluetooth                    4803 non-null   bool          \n",
            " 13  gps                          4803 non-null   bool          \n",
            " 14  alerta_lim_velocidad         4803 non-null   bool          \n",
            " 15  precio                       4803 non-null   float64       \n",
            " 16  fecha_venta                  4803 non-null   datetime64[ns]\n",
            "dtypes: bool(8), datetime64[ns](2), float64(3), object(4)\n",
            "memory usage: 412.8+ KB\n"
          ]
        }
      ],
      "source": [
        "df.info()"
      ]
    },
    {
      "cell_type": "code",
      "execution_count": 237,
      "metadata": {
        "colab": {
          "base_uri": "https://localhost:8080/"
        },
        "id": "ULi8_t60ds4e",
        "outputId": "3f481303-c327-45be-e6cb-8d199b8f91cd"
      },
      "outputs": [
        {
          "data": {
            "text/plain": [
              "tipo_gasolina\n",
              "diesel           4598\n",
              "petrol            189\n",
              "hybrid_petrol       8\n",
              "Diesel              5\n",
              "electro             3\n",
              "Name: count, dtype: int64"
            ]
          },
          "execution_count": 237,
          "metadata": {},
          "output_type": "execute_result"
        }
      ],
      "source": [
        "df['tipo_gasolina'].value_counts()"
      ]
    },
    {
      "cell_type": "code",
      "execution_count": 238,
      "metadata": {
        "id": "fjrYZRvnd5jR"
      },
      "outputs": [],
      "source": [
        "df['tipo_gasolina'] = df['tipo_gasolina'].str.lower()"
      ]
    },
    {
      "cell_type": "code",
      "execution_count": 239,
      "metadata": {
        "colab": {
          "base_uri": "https://localhost:8080/"
        },
        "id": "Bsvfr0aKeFfr",
        "outputId": "423b1edb-0fc4-4ea8-80c9-dfc8e59a80ad"
      },
      "outputs": [
        {
          "data": {
            "text/plain": [
              "tipo_gasolina\n",
              "diesel           4603\n",
              "petrol            189\n",
              "hybrid_petrol       8\n",
              "electro             3\n",
              "Name: count, dtype: int64"
            ]
          },
          "execution_count": 239,
          "metadata": {},
          "output_type": "execute_result"
        }
      ],
      "source": [
        "df['tipo_gasolina'].value_counts()"
      ]
    },
    {
      "cell_type": "code",
      "execution_count": 240,
      "metadata": {
        "colab": {
          "base_uri": "https://localhost:8080/"
        },
        "id": "jzuSNc4PeOeV",
        "outputId": "e36df0e4-5a59-436f-8ac1-0895f4dbe8aa"
      },
      "outputs": [
        {
          "data": {
            "text/plain": [
              "0"
            ]
          },
          "execution_count": 240,
          "metadata": {},
          "output_type": "execute_result"
        }
      ],
      "source": [
        "df.duplicated().sum()"
      ]
    },
    {
      "cell_type": "code",
      "execution_count": 241,
      "metadata": {
        "colab": {
          "base_uri": "https://localhost:8080/",
          "height": 300
        },
        "id": "_txk67KbeV4W",
        "outputId": "a2473119-a60b-4a42-a7ec-1847ffa044cd"
      },
      "outputs": [
        {
          "data": {
            "text/html": [
              "<div>\n",
              "<style scoped>\n",
              "    .dataframe tbody tr th:only-of-type {\n",
              "        vertical-align: middle;\n",
              "    }\n",
              "\n",
              "    .dataframe tbody tr th {\n",
              "        vertical-align: top;\n",
              "    }\n",
              "\n",
              "    .dataframe thead th {\n",
              "        text-align: right;\n",
              "    }\n",
              "</style>\n",
              "<table border=\"1\" class=\"dataframe\">\n",
              "  <thead>\n",
              "    <tr style=\"text-align: right;\">\n",
              "      <th></th>\n",
              "      <th>km</th>\n",
              "      <th>potencia</th>\n",
              "      <th>fecha_registro</th>\n",
              "      <th>precio</th>\n",
              "      <th>fecha_venta</th>\n",
              "    </tr>\n",
              "  </thead>\n",
              "  <tbody>\n",
              "    <tr>\n",
              "      <th>count</th>\n",
              "      <td>4803</td>\n",
              "      <td>4803</td>\n",
              "      <td>4803</td>\n",
              "      <td>4803</td>\n",
              "      <td>4803</td>\n",
              "    </tr>\n",
              "    <tr>\n",
              "      <th>mean</th>\n",
              "      <td>140894</td>\n",
              "      <td>129</td>\n",
              "      <td>2012-11-23 15:24:37.326670592</td>\n",
              "      <td>15865</td>\n",
              "      <td>2018-04-26 12:33:07.757651456</td>\n",
              "    </tr>\n",
              "    <tr>\n",
              "      <th>min</th>\n",
              "      <td>-64</td>\n",
              "      <td>0</td>\n",
              "      <td>1990-03-01 00:00:00</td>\n",
              "      <td>100</td>\n",
              "      <td>2007-08-01 00:00:00</td>\n",
              "    </tr>\n",
              "    <tr>\n",
              "      <th>25%</th>\n",
              "      <td>102604</td>\n",
              "      <td>100</td>\n",
              "      <td>2012-07-01 00:00:00</td>\n",
              "      <td>10900</td>\n",
              "      <td>2018-03-01 00:00:00</td>\n",
              "    </tr>\n",
              "    <tr>\n",
              "      <th>50%</th>\n",
              "      <td>140829</td>\n",
              "      <td>120</td>\n",
              "      <td>2013-07-01 00:00:00</td>\n",
              "      <td>14200</td>\n",
              "      <td>2018-05-01 00:00:00</td>\n",
              "    </tr>\n",
              "    <tr>\n",
              "      <th>75%</th>\n",
              "      <td>175226</td>\n",
              "      <td>135</td>\n",
              "      <td>2014-04-01 00:00:00</td>\n",
              "      <td>18700</td>\n",
              "      <td>2018-07-01 00:00:00</td>\n",
              "    </tr>\n",
              "    <tr>\n",
              "      <th>max</th>\n",
              "      <td>1000376</td>\n",
              "      <td>423</td>\n",
              "      <td>2017-11-01 00:00:00</td>\n",
              "      <td>178500</td>\n",
              "      <td>2018-09-01 00:00:00</td>\n",
              "    </tr>\n",
              "    <tr>\n",
              "      <th>std</th>\n",
              "      <td>60265</td>\n",
              "      <td>39</td>\n",
              "      <td>NaN</td>\n",
              "      <td>9230</td>\n",
              "      <td>NaN</td>\n",
              "    </tr>\n",
              "  </tbody>\n",
              "</table>\n",
              "</div>"
            ],
            "text/plain": [
              "           km  potencia                 fecha_registro  precio   \n",
              "count    4803      4803                           4803    4803  \\\n",
              "mean   140894       129  2012-11-23 15:24:37.326670592   15865   \n",
              "min       -64         0            1990-03-01 00:00:00     100   \n",
              "25%    102604       100            2012-07-01 00:00:00   10900   \n",
              "50%    140829       120            2013-07-01 00:00:00   14200   \n",
              "75%    175226       135            2014-04-01 00:00:00   18700   \n",
              "max   1000376       423            2017-11-01 00:00:00  178500   \n",
              "std     60265        39                            NaN    9230   \n",
              "\n",
              "                         fecha_venta  \n",
              "count                           4803  \n",
              "mean   2018-04-26 12:33:07.757651456  \n",
              "min              2007-08-01 00:00:00  \n",
              "25%              2018-03-01 00:00:00  \n",
              "50%              2018-05-01 00:00:00  \n",
              "75%              2018-07-01 00:00:00  \n",
              "max              2018-09-01 00:00:00  \n",
              "std                              NaN  "
            ]
          },
          "execution_count": 241,
          "metadata": {},
          "output_type": "execute_result"
        }
      ],
      "source": [
        "df.describe()"
      ]
    },
    {
      "cell_type": "markdown",
      "metadata": {
        "id": "OyxRgHWdkPoH"
      },
      "source": [
        "# Data Engineering & agrupaciones\n",
        "1)Crearemos una columna de tiempo que pasa para vender cada vehiculo\n",
        "\n",
        "2)Extraeremos el year y el mes de fecha de registro y alamacenarlos en columnas separadas.\n",
        "\n",
        "3)Agruparemos los modelos de BMW ya que son demasiados\n",
        "\n",
        "anomalias distribucion del target , correlacion\n"
      ]
    },
    {
      "cell_type": "code",
      "execution_count": 242,
      "metadata": {
        "id": "7_x3XlH2oU4b"
      },
      "outputs": [],
      "source": [
        "df.reset_index(drop=True, inplace=True)"
      ]
    },
    {
      "cell_type": "code",
      "execution_count": 243,
      "metadata": {
        "colab": {
          "base_uri": "https://localhost:8080/"
        },
        "id": "mpgNM7lQoU1j",
        "outputId": "c7f61a3a-0552-4749-c50c-8d9e15d3c63c"
      },
      "outputs": [
        {
          "name": "stdout",
          "output_type": "stream",
          "text": [
            "<class 'pandas.core.frame.DataFrame'>\n",
            "RangeIndex: 4803 entries, 0 to 4802\n",
            "Data columns (total 17 columns):\n",
            " #   Column                       Non-Null Count  Dtype         \n",
            "---  ------                       --------------  -----         \n",
            " 0   modelo                       4803 non-null   object        \n",
            " 1   km                           4803 non-null   float64       \n",
            " 2   potencia                     4803 non-null   float64       \n",
            " 3   fecha_registro               4803 non-null   datetime64[ns]\n",
            " 4   tipo_gasolina                4803 non-null   object        \n",
            " 5   color                        4803 non-null   object        \n",
            " 6   tipo_coche                   4803 non-null   object        \n",
            " 7   volante_regulable            4803 non-null   bool          \n",
            " 8   aire_acondicionado           4803 non-null   bool          \n",
            " 9   camara_trasera               4803 non-null   bool          \n",
            " 10  asientos_traseros_plegables  4803 non-null   bool          \n",
            " 11  elevalunas_electrico         4803 non-null   bool          \n",
            " 12  bluetooth                    4803 non-null   bool          \n",
            " 13  gps                          4803 non-null   bool          \n",
            " 14  alerta_lim_velocidad         4803 non-null   bool          \n",
            " 15  precio                       4803 non-null   float64       \n",
            " 16  fecha_venta                  4803 non-null   datetime64[ns]\n",
            "dtypes: bool(8), datetime64[ns](2), float64(3), object(4)\n",
            "memory usage: 375.4+ KB\n"
          ]
        }
      ],
      "source": [
        "df.info()"
      ]
    },
    {
      "cell_type": "code",
      "execution_count": 244,
      "metadata": {
        "id": "Oo9IOzMzoUv4"
      },
      "outputs": [],
      "source": [
        "df['tiemo_venta'] = ((df['fecha_venta'] - df['fecha_registro']).dt.days) // 30"
      ]
    },
    {
      "cell_type": "code",
      "execution_count": 245,
      "metadata": {
        "colab": {
          "base_uri": "https://localhost:8080/",
          "height": 226
        },
        "id": "OyJmYsfHoUtD",
        "outputId": "cb31135b-867f-4652-8871-6197d82c8ab8"
      },
      "outputs": [
        {
          "data": {
            "text/html": [
              "<div>\n",
              "<style scoped>\n",
              "    .dataframe tbody tr th:only-of-type {\n",
              "        vertical-align: middle;\n",
              "    }\n",
              "\n",
              "    .dataframe tbody tr th {\n",
              "        vertical-align: top;\n",
              "    }\n",
              "\n",
              "    .dataframe thead th {\n",
              "        text-align: right;\n",
              "    }\n",
              "</style>\n",
              "<table border=\"1\" class=\"dataframe\">\n",
              "  <thead>\n",
              "    <tr style=\"text-align: right;\">\n",
              "      <th></th>\n",
              "      <th>modelo</th>\n",
              "      <th>km</th>\n",
              "      <th>potencia</th>\n",
              "      <th>fecha_registro</th>\n",
              "      <th>tipo_gasolina</th>\n",
              "      <th>color</th>\n",
              "      <th>tipo_coche</th>\n",
              "      <th>volante_regulable</th>\n",
              "      <th>aire_acondicionado</th>\n",
              "      <th>camara_trasera</th>\n",
              "      <th>asientos_traseros_plegables</th>\n",
              "      <th>elevalunas_electrico</th>\n",
              "      <th>bluetooth</th>\n",
              "      <th>gps</th>\n",
              "      <th>alerta_lim_velocidad</th>\n",
              "      <th>precio</th>\n",
              "      <th>fecha_venta</th>\n",
              "      <th>tiemo_venta</th>\n",
              "    </tr>\n",
              "  </thead>\n",
              "  <tbody>\n",
              "    <tr>\n",
              "      <th>0</th>\n",
              "      <td>118</td>\n",
              "      <td>140411</td>\n",
              "      <td>100</td>\n",
              "      <td>2012-02-01</td>\n",
              "      <td>diesel</td>\n",
              "      <td>black</td>\n",
              "      <td>convertible</td>\n",
              "      <td>True</td>\n",
              "      <td>True</td>\n",
              "      <td>False</td>\n",
              "      <td>False</td>\n",
              "      <td>True</td>\n",
              "      <td>True</td>\n",
              "      <td>True</td>\n",
              "      <td>False</td>\n",
              "      <td>11300</td>\n",
              "      <td>2018-01-01</td>\n",
              "      <td>72</td>\n",
              "    </tr>\n",
              "    <tr>\n",
              "      <th>1</th>\n",
              "      <td>M4</td>\n",
              "      <td>13929</td>\n",
              "      <td>317</td>\n",
              "      <td>2016-04-01</td>\n",
              "      <td>petrol</td>\n",
              "      <td>grey</td>\n",
              "      <td>convertible</td>\n",
              "      <td>True</td>\n",
              "      <td>True</td>\n",
              "      <td>False</td>\n",
              "      <td>False</td>\n",
              "      <td>False</td>\n",
              "      <td>True</td>\n",
              "      <td>True</td>\n",
              "      <td>True</td>\n",
              "      <td>69700</td>\n",
              "      <td>2018-02-01</td>\n",
              "      <td>22</td>\n",
              "    </tr>\n",
              "    <tr>\n",
              "      <th>2</th>\n",
              "      <td>320</td>\n",
              "      <td>183297</td>\n",
              "      <td>120</td>\n",
              "      <td>2012-04-01</td>\n",
              "      <td>diesel</td>\n",
              "      <td>white</td>\n",
              "      <td>convertible</td>\n",
              "      <td>False</td>\n",
              "      <td>False</td>\n",
              "      <td>False</td>\n",
              "      <td>False</td>\n",
              "      <td>True</td>\n",
              "      <td>False</td>\n",
              "      <td>True</td>\n",
              "      <td>False</td>\n",
              "      <td>10200</td>\n",
              "      <td>2018-02-01</td>\n",
              "      <td>71</td>\n",
              "    </tr>\n",
              "    <tr>\n",
              "      <th>3</th>\n",
              "      <td>420</td>\n",
              "      <td>128035</td>\n",
              "      <td>135</td>\n",
              "      <td>2014-07-01</td>\n",
              "      <td>diesel</td>\n",
              "      <td>red</td>\n",
              "      <td>convertible</td>\n",
              "      <td>True</td>\n",
              "      <td>True</td>\n",
              "      <td>False</td>\n",
              "      <td>False</td>\n",
              "      <td>True</td>\n",
              "      <td>True</td>\n",
              "      <td>True</td>\n",
              "      <td>True</td>\n",
              "      <td>25100</td>\n",
              "      <td>2018-02-01</td>\n",
              "      <td>43</td>\n",
              "    </tr>\n",
              "    <tr>\n",
              "      <th>4</th>\n",
              "      <td>425</td>\n",
              "      <td>97097</td>\n",
              "      <td>160</td>\n",
              "      <td>2014-12-01</td>\n",
              "      <td>diesel</td>\n",
              "      <td>silver</td>\n",
              "      <td>convertible</td>\n",
              "      <td>True</td>\n",
              "      <td>True</td>\n",
              "      <td>False</td>\n",
              "      <td>False</td>\n",
              "      <td>False</td>\n",
              "      <td>True</td>\n",
              "      <td>True</td>\n",
              "      <td>True</td>\n",
              "      <td>33400</td>\n",
              "      <td>2018-04-01</td>\n",
              "      <td>40</td>\n",
              "    </tr>\n",
              "  </tbody>\n",
              "</table>\n",
              "</div>"
            ],
            "text/plain": [
              "  modelo     km  potencia fecha_registro tipo_gasolina   color   tipo_coche   \n",
              "0    118 140411       100     2012-02-01        diesel   black  convertible  \\\n",
              "1     M4  13929       317     2016-04-01        petrol    grey  convertible   \n",
              "2    320 183297       120     2012-04-01        diesel   white  convertible   \n",
              "3    420 128035       135     2014-07-01        diesel     red  convertible   \n",
              "4    425  97097       160     2014-12-01        diesel  silver  convertible   \n",
              "\n",
              "   volante_regulable  aire_acondicionado  camara_trasera   \n",
              "0               True                True           False  \\\n",
              "1               True                True           False   \n",
              "2              False               False           False   \n",
              "3               True                True           False   \n",
              "4               True                True           False   \n",
              "\n",
              "   asientos_traseros_plegables  elevalunas_electrico  bluetooth   gps   \n",
              "0                        False                  True       True  True  \\\n",
              "1                        False                 False       True  True   \n",
              "2                        False                  True      False  True   \n",
              "3                        False                  True       True  True   \n",
              "4                        False                 False       True  True   \n",
              "\n",
              "   alerta_lim_velocidad  precio fecha_venta  tiemo_venta  \n",
              "0                 False   11300  2018-01-01           72  \n",
              "1                  True   69700  2018-02-01           22  \n",
              "2                 False   10200  2018-02-01           71  \n",
              "3                  True   25100  2018-02-01           43  \n",
              "4                  True   33400  2018-04-01           40  "
            ]
          },
          "execution_count": 245,
          "metadata": {},
          "output_type": "execute_result"
        }
      ],
      "source": [
        "df.head(5)"
      ]
    },
    {
      "cell_type": "code",
      "execution_count": 246,
      "metadata": {
        "id": "AavMH6xxoUoY"
      },
      "outputs": [],
      "source": [
        "df['year_registro'] = df['fecha_registro'].dt.year\n",
        "df['mes_registro'] = df['fecha_registro'].dt.month\n",
        "\n",
        "df['year_venta'] = df['fecha_venta'].dt.year\n",
        "df['mes_venta'] = df['fecha_venta'].dt.month\n",
        "\n",
        "df.drop(['fecha_registro', 'fecha_venta'], axis=1, inplace=True)\n",
        "\n",
        "\n"
      ]
    },
    {
      "cell_type": "code",
      "execution_count": 247,
      "metadata": {
        "colab": {
          "base_uri": "https://localhost:8080/"
        },
        "id": "AjC7FEAMoUlN",
        "outputId": "d1df9089-5be2-4418-c961-eb40a488fa8e"
      },
      "outputs": [
        {
          "name": "stdout",
          "output_type": "stream",
          "text": [
            "<class 'pandas.core.frame.DataFrame'>\n",
            "RangeIndex: 4803 entries, 0 to 4802\n",
            "Data columns (total 20 columns):\n",
            " #   Column                       Non-Null Count  Dtype  \n",
            "---  ------                       --------------  -----  \n",
            " 0   modelo                       4803 non-null   object \n",
            " 1   km                           4803 non-null   float64\n",
            " 2   potencia                     4803 non-null   float64\n",
            " 3   tipo_gasolina                4803 non-null   object \n",
            " 4   color                        4803 non-null   object \n",
            " 5   tipo_coche                   4803 non-null   object \n",
            " 6   volante_regulable            4803 non-null   bool   \n",
            " 7   aire_acondicionado           4803 non-null   bool   \n",
            " 8   camara_trasera               4803 non-null   bool   \n",
            " 9   asientos_traseros_plegables  4803 non-null   bool   \n",
            " 10  elevalunas_electrico         4803 non-null   bool   \n",
            " 11  bluetooth                    4803 non-null   bool   \n",
            " 12  gps                          4803 non-null   bool   \n",
            " 13  alerta_lim_velocidad         4803 non-null   bool   \n",
            " 14  precio                       4803 non-null   float64\n",
            " 15  tiemo_venta                  4803 non-null   int64  \n",
            " 16  year_registro                4803 non-null   int32  \n",
            " 17  mes_registro                 4803 non-null   int32  \n",
            " 18  year_venta                   4803 non-null   int32  \n",
            " 19  mes_venta                    4803 non-null   int32  \n",
            "dtypes: bool(8), float64(3), int32(4), int64(1), object(4)\n",
            "memory usage: 412.9+ KB\n"
          ]
        }
      ],
      "source": [
        "df.info()"
      ]
    },
    {
      "cell_type": "code",
      "execution_count": 248,
      "metadata": {
        "colab": {
          "base_uri": "https://localhost:8080/",
          "height": 226
        },
        "id": "4Xl3ulVFr5ke",
        "outputId": "e1328674-0d5d-4643-c042-94708272e3a1"
      },
      "outputs": [
        {
          "data": {
            "text/html": [
              "<div>\n",
              "<style scoped>\n",
              "    .dataframe tbody tr th:only-of-type {\n",
              "        vertical-align: middle;\n",
              "    }\n",
              "\n",
              "    .dataframe tbody tr th {\n",
              "        vertical-align: top;\n",
              "    }\n",
              "\n",
              "    .dataframe thead th {\n",
              "        text-align: right;\n",
              "    }\n",
              "</style>\n",
              "<table border=\"1\" class=\"dataframe\">\n",
              "  <thead>\n",
              "    <tr style=\"text-align: right;\">\n",
              "      <th></th>\n",
              "      <th>modelo</th>\n",
              "      <th>km</th>\n",
              "      <th>potencia</th>\n",
              "      <th>tipo_gasolina</th>\n",
              "      <th>color</th>\n",
              "      <th>tipo_coche</th>\n",
              "      <th>volante_regulable</th>\n",
              "      <th>aire_acondicionado</th>\n",
              "      <th>camara_trasera</th>\n",
              "      <th>asientos_traseros_plegables</th>\n",
              "      <th>elevalunas_electrico</th>\n",
              "      <th>bluetooth</th>\n",
              "      <th>gps</th>\n",
              "      <th>alerta_lim_velocidad</th>\n",
              "      <th>precio</th>\n",
              "      <th>tiemo_venta</th>\n",
              "      <th>year_registro</th>\n",
              "      <th>mes_registro</th>\n",
              "      <th>year_venta</th>\n",
              "      <th>mes_venta</th>\n",
              "    </tr>\n",
              "  </thead>\n",
              "  <tbody>\n",
              "    <tr>\n",
              "      <th>0</th>\n",
              "      <td>118</td>\n",
              "      <td>140411</td>\n",
              "      <td>100</td>\n",
              "      <td>diesel</td>\n",
              "      <td>black</td>\n",
              "      <td>convertible</td>\n",
              "      <td>True</td>\n",
              "      <td>True</td>\n",
              "      <td>False</td>\n",
              "      <td>False</td>\n",
              "      <td>True</td>\n",
              "      <td>True</td>\n",
              "      <td>True</td>\n",
              "      <td>False</td>\n",
              "      <td>11300</td>\n",
              "      <td>72</td>\n",
              "      <td>2012</td>\n",
              "      <td>2</td>\n",
              "      <td>2018</td>\n",
              "      <td>1</td>\n",
              "    </tr>\n",
              "    <tr>\n",
              "      <th>1</th>\n",
              "      <td>M4</td>\n",
              "      <td>13929</td>\n",
              "      <td>317</td>\n",
              "      <td>petrol</td>\n",
              "      <td>grey</td>\n",
              "      <td>convertible</td>\n",
              "      <td>True</td>\n",
              "      <td>True</td>\n",
              "      <td>False</td>\n",
              "      <td>False</td>\n",
              "      <td>False</td>\n",
              "      <td>True</td>\n",
              "      <td>True</td>\n",
              "      <td>True</td>\n",
              "      <td>69700</td>\n",
              "      <td>22</td>\n",
              "      <td>2016</td>\n",
              "      <td>4</td>\n",
              "      <td>2018</td>\n",
              "      <td>2</td>\n",
              "    </tr>\n",
              "    <tr>\n",
              "      <th>2</th>\n",
              "      <td>320</td>\n",
              "      <td>183297</td>\n",
              "      <td>120</td>\n",
              "      <td>diesel</td>\n",
              "      <td>white</td>\n",
              "      <td>convertible</td>\n",
              "      <td>False</td>\n",
              "      <td>False</td>\n",
              "      <td>False</td>\n",
              "      <td>False</td>\n",
              "      <td>True</td>\n",
              "      <td>False</td>\n",
              "      <td>True</td>\n",
              "      <td>False</td>\n",
              "      <td>10200</td>\n",
              "      <td>71</td>\n",
              "      <td>2012</td>\n",
              "      <td>4</td>\n",
              "      <td>2018</td>\n",
              "      <td>2</td>\n",
              "    </tr>\n",
              "    <tr>\n",
              "      <th>3</th>\n",
              "      <td>420</td>\n",
              "      <td>128035</td>\n",
              "      <td>135</td>\n",
              "      <td>diesel</td>\n",
              "      <td>red</td>\n",
              "      <td>convertible</td>\n",
              "      <td>True</td>\n",
              "      <td>True</td>\n",
              "      <td>False</td>\n",
              "      <td>False</td>\n",
              "      <td>True</td>\n",
              "      <td>True</td>\n",
              "      <td>True</td>\n",
              "      <td>True</td>\n",
              "      <td>25100</td>\n",
              "      <td>43</td>\n",
              "      <td>2014</td>\n",
              "      <td>7</td>\n",
              "      <td>2018</td>\n",
              "      <td>2</td>\n",
              "    </tr>\n",
              "    <tr>\n",
              "      <th>4</th>\n",
              "      <td>425</td>\n",
              "      <td>97097</td>\n",
              "      <td>160</td>\n",
              "      <td>diesel</td>\n",
              "      <td>silver</td>\n",
              "      <td>convertible</td>\n",
              "      <td>True</td>\n",
              "      <td>True</td>\n",
              "      <td>False</td>\n",
              "      <td>False</td>\n",
              "      <td>False</td>\n",
              "      <td>True</td>\n",
              "      <td>True</td>\n",
              "      <td>True</td>\n",
              "      <td>33400</td>\n",
              "      <td>40</td>\n",
              "      <td>2014</td>\n",
              "      <td>12</td>\n",
              "      <td>2018</td>\n",
              "      <td>4</td>\n",
              "    </tr>\n",
              "  </tbody>\n",
              "</table>\n",
              "</div>"
            ],
            "text/plain": [
              "  modelo     km  potencia tipo_gasolina   color   tipo_coche   \n",
              "0    118 140411       100        diesel   black  convertible  \\\n",
              "1     M4  13929       317        petrol    grey  convertible   \n",
              "2    320 183297       120        diesel   white  convertible   \n",
              "3    420 128035       135        diesel     red  convertible   \n",
              "4    425  97097       160        diesel  silver  convertible   \n",
              "\n",
              "   volante_regulable  aire_acondicionado  camara_trasera   \n",
              "0               True                True           False  \\\n",
              "1               True                True           False   \n",
              "2              False               False           False   \n",
              "3               True                True           False   \n",
              "4               True                True           False   \n",
              "\n",
              "   asientos_traseros_plegables  elevalunas_electrico  bluetooth   gps   \n",
              "0                        False                  True       True  True  \\\n",
              "1                        False                 False       True  True   \n",
              "2                        False                  True      False  True   \n",
              "3                        False                  True       True  True   \n",
              "4                        False                 False       True  True   \n",
              "\n",
              "   alerta_lim_velocidad  precio  tiemo_venta  year_registro  mes_registro   \n",
              "0                 False   11300           72           2012             2  \\\n",
              "1                  True   69700           22           2016             4   \n",
              "2                 False   10200           71           2012             4   \n",
              "3                  True   25100           43           2014             7   \n",
              "4                  True   33400           40           2014            12   \n",
              "\n",
              "   year_venta  mes_venta  \n",
              "0        2018          1  \n",
              "1        2018          2  \n",
              "2        2018          2  \n",
              "3        2018          2  \n",
              "4        2018          4  "
            ]
          },
          "execution_count": 248,
          "metadata": {},
          "output_type": "execute_result"
        }
      ],
      "source": [
        "df.head(5)"
      ]
    },
    {
      "cell_type": "code",
      "execution_count": 249,
      "metadata": {
        "colab": {
          "base_uri": "https://localhost:8080/"
        },
        "id": "Xg2DqiOJsKa5",
        "outputId": "2a2a30cf-7dcb-4751-edf0-0443730fc455"
      },
      "outputs": [
        {
          "name": "stdout",
          "output_type": "stream",
          "text": [
            "modelo\n",
            "320                  745\n",
            "520                  629\n",
            "318                  556\n",
            "X3                   437\n",
            "116                  356\n",
            "X1                   273\n",
            "316                  233\n",
            "X5                   231\n",
            "525                  181\n",
            "530                  157\n",
            "118                  141\n",
            "318 Gran Turismo      97\n",
            "320 Gran Turismo      73\n",
            "518                   66\n",
            "X4                    46\n",
            "535                   46\n",
            "X6                    44\n",
            "420                   42\n",
            "120                   36\n",
            "420 Gran Coupé        33\n",
            "730                   33\n",
            "330                   32\n",
            "520 Gran Turismo      23\n",
            "325                   19\n",
            "640 Gran Coupé        19\n",
            "740                   18\n",
            "530 Gran Turismo      18\n",
            "X5 M                  17\n",
            "114                   15\n",
            "218 Active Tourer     13\n",
            "M550                  12\n",
            "218                   12\n",
            "218 Gran Tourer        9\n",
            "640                    8\n",
            "418 Gran Coupé         8\n",
            "X6 M                   8\n",
            "M3                     7\n",
            "335                    7\n",
            "435 Gran Coupé         6\n",
            "Z4                     6\n",
            "528                    6\n",
            "i3                     6\n",
            "328                    5\n",
            "125                    5\n",
            "523                    4\n",
            "325 Gran Turismo       4\n",
            "430 Gran Coupé         4\n",
            "435                    4\n",
            "135                    4\n",
            "216 Gran Tourer        4\n",
            "220                    3\n",
            "X5 M50                 3\n",
            "335 Gran Turismo       3\n",
            "330 Gran Turismo       3\n",
            "216 Active Tourer      3\n",
            "M235                   3\n",
            "430                    2\n",
            "535 Gran Turismo       2\n",
            "750                    2\n",
            "425                    2\n",
            "650                    2\n",
            "M4                     2\n",
            "123                    2\n",
            "220 Active Tourer      1\n",
            "216                    1\n",
            " Active Tourer         1\n",
            "225 Active Tourer      1\n",
            "635                    1\n",
            "M5                     1\n",
            "735                    1\n",
            "ActiveHybrid 5         1\n",
            "M135                   1\n",
            "225                    1\n",
            "i8                     1\n",
            "630                    1\n",
            "214 Gran Tourer        1\n",
            "Name: count, dtype: int64\n"
          ]
        }
      ],
      "source": [
        "with pd.option_context('display.max_rows', None, 'display.max_columns', None):\n",
        "    print(df['modelo'].value_counts())"
      ]
    },
    {
      "cell_type": "code",
      "execution_count": 250,
      "metadata": {
        "id": "IwVCJzvssj2z"
      },
      "outputs": [],
      "source": [
        "def group_models(modelo):\n",
        "    series_validas =['1', '2', '3', '4', '5', '6', '7']\n",
        "\n",
        "    if modelo.startswith('X'):\n",
        "       return 'XSERIES'\n",
        "\n",
        "    if modelo.startswith('M550'):\n",
        "        return 'M5'\n",
        "\n",
        "    for prefijo in series_validas:\n",
        "       if modelo.startswith(prefijo):\n",
        "        return 'M' + prefijo\n",
        "\n",
        "    return 'Otros'\n",
        "\n",
        "df['modelo_agrupado'] = df['modelo'].apply(group_models)\n",
        "\n"
      ]
    },
    {
      "cell_type": "code",
      "execution_count": 251,
      "metadata": {
        "colab": {
          "base_uri": "https://localhost:8080/",
          "height": 256
        },
        "id": "uJKEDcZEvAWB",
        "outputId": "9f354ede-f040-4dbc-c183-9cbda2256e68"
      },
      "outputs": [
        {
          "data": {
            "text/html": [
              "<div>\n",
              "<style scoped>\n",
              "    .dataframe tbody tr th:only-of-type {\n",
              "        vertical-align: middle;\n",
              "    }\n",
              "\n",
              "    .dataframe tbody tr th {\n",
              "        vertical-align: top;\n",
              "    }\n",
              "\n",
              "    .dataframe thead th {\n",
              "        text-align: right;\n",
              "    }\n",
              "</style>\n",
              "<table border=\"1\" class=\"dataframe\">\n",
              "  <thead>\n",
              "    <tr style=\"text-align: right;\">\n",
              "      <th></th>\n",
              "      <th>modelo</th>\n",
              "      <th>km</th>\n",
              "      <th>potencia</th>\n",
              "      <th>tipo_gasolina</th>\n",
              "      <th>color</th>\n",
              "      <th>tipo_coche</th>\n",
              "      <th>volante_regulable</th>\n",
              "      <th>aire_acondicionado</th>\n",
              "      <th>camara_trasera</th>\n",
              "      <th>asientos_traseros_plegables</th>\n",
              "      <th>...</th>\n",
              "      <th>bluetooth</th>\n",
              "      <th>gps</th>\n",
              "      <th>alerta_lim_velocidad</th>\n",
              "      <th>precio</th>\n",
              "      <th>tiemo_venta</th>\n",
              "      <th>year_registro</th>\n",
              "      <th>mes_registro</th>\n",
              "      <th>year_venta</th>\n",
              "      <th>mes_venta</th>\n",
              "      <th>modelo_agrupado</th>\n",
              "    </tr>\n",
              "  </thead>\n",
              "  <tbody>\n",
              "    <tr>\n",
              "      <th>0</th>\n",
              "      <td>118</td>\n",
              "      <td>140411</td>\n",
              "      <td>100</td>\n",
              "      <td>diesel</td>\n",
              "      <td>black</td>\n",
              "      <td>convertible</td>\n",
              "      <td>True</td>\n",
              "      <td>True</td>\n",
              "      <td>False</td>\n",
              "      <td>False</td>\n",
              "      <td>...</td>\n",
              "      <td>True</td>\n",
              "      <td>True</td>\n",
              "      <td>False</td>\n",
              "      <td>11300</td>\n",
              "      <td>72</td>\n",
              "      <td>2012</td>\n",
              "      <td>2</td>\n",
              "      <td>2018</td>\n",
              "      <td>1</td>\n",
              "      <td>M1</td>\n",
              "    </tr>\n",
              "    <tr>\n",
              "      <th>1</th>\n",
              "      <td>M4</td>\n",
              "      <td>13929</td>\n",
              "      <td>317</td>\n",
              "      <td>petrol</td>\n",
              "      <td>grey</td>\n",
              "      <td>convertible</td>\n",
              "      <td>True</td>\n",
              "      <td>True</td>\n",
              "      <td>False</td>\n",
              "      <td>False</td>\n",
              "      <td>...</td>\n",
              "      <td>True</td>\n",
              "      <td>True</td>\n",
              "      <td>True</td>\n",
              "      <td>69700</td>\n",
              "      <td>22</td>\n",
              "      <td>2016</td>\n",
              "      <td>4</td>\n",
              "      <td>2018</td>\n",
              "      <td>2</td>\n",
              "      <td>Otros</td>\n",
              "    </tr>\n",
              "    <tr>\n",
              "      <th>2</th>\n",
              "      <td>320</td>\n",
              "      <td>183297</td>\n",
              "      <td>120</td>\n",
              "      <td>diesel</td>\n",
              "      <td>white</td>\n",
              "      <td>convertible</td>\n",
              "      <td>False</td>\n",
              "      <td>False</td>\n",
              "      <td>False</td>\n",
              "      <td>False</td>\n",
              "      <td>...</td>\n",
              "      <td>False</td>\n",
              "      <td>True</td>\n",
              "      <td>False</td>\n",
              "      <td>10200</td>\n",
              "      <td>71</td>\n",
              "      <td>2012</td>\n",
              "      <td>4</td>\n",
              "      <td>2018</td>\n",
              "      <td>2</td>\n",
              "      <td>M3</td>\n",
              "    </tr>\n",
              "    <tr>\n",
              "      <th>3</th>\n",
              "      <td>420</td>\n",
              "      <td>128035</td>\n",
              "      <td>135</td>\n",
              "      <td>diesel</td>\n",
              "      <td>red</td>\n",
              "      <td>convertible</td>\n",
              "      <td>True</td>\n",
              "      <td>True</td>\n",
              "      <td>False</td>\n",
              "      <td>False</td>\n",
              "      <td>...</td>\n",
              "      <td>True</td>\n",
              "      <td>True</td>\n",
              "      <td>True</td>\n",
              "      <td>25100</td>\n",
              "      <td>43</td>\n",
              "      <td>2014</td>\n",
              "      <td>7</td>\n",
              "      <td>2018</td>\n",
              "      <td>2</td>\n",
              "      <td>M4</td>\n",
              "    </tr>\n",
              "    <tr>\n",
              "      <th>4</th>\n",
              "      <td>425</td>\n",
              "      <td>97097</td>\n",
              "      <td>160</td>\n",
              "      <td>diesel</td>\n",
              "      <td>silver</td>\n",
              "      <td>convertible</td>\n",
              "      <td>True</td>\n",
              "      <td>True</td>\n",
              "      <td>False</td>\n",
              "      <td>False</td>\n",
              "      <td>...</td>\n",
              "      <td>True</td>\n",
              "      <td>True</td>\n",
              "      <td>True</td>\n",
              "      <td>33400</td>\n",
              "      <td>40</td>\n",
              "      <td>2014</td>\n",
              "      <td>12</td>\n",
              "      <td>2018</td>\n",
              "      <td>4</td>\n",
              "      <td>M4</td>\n",
              "    </tr>\n",
              "  </tbody>\n",
              "</table>\n",
              "<p>5 rows × 21 columns</p>\n",
              "</div>"
            ],
            "text/plain": [
              "  modelo     km  potencia tipo_gasolina   color   tipo_coche   \n",
              "0    118 140411       100        diesel   black  convertible  \\\n",
              "1     M4  13929       317        petrol    grey  convertible   \n",
              "2    320 183297       120        diesel   white  convertible   \n",
              "3    420 128035       135        diesel     red  convertible   \n",
              "4    425  97097       160        diesel  silver  convertible   \n",
              "\n",
              "   volante_regulable  aire_acondicionado  camara_trasera   \n",
              "0               True                True           False  \\\n",
              "1               True                True           False   \n",
              "2              False               False           False   \n",
              "3               True                True           False   \n",
              "4               True                True           False   \n",
              "\n",
              "   asientos_traseros_plegables  ...  bluetooth   gps  alerta_lim_velocidad   \n",
              "0                        False  ...       True  True                 False  \\\n",
              "1                        False  ...       True  True                  True   \n",
              "2                        False  ...      False  True                 False   \n",
              "3                        False  ...       True  True                  True   \n",
              "4                        False  ...       True  True                  True   \n",
              "\n",
              "   precio  tiemo_venta  year_registro  mes_registro  year_venta  mes_venta   \n",
              "0   11300           72           2012             2        2018          1  \\\n",
              "1   69700           22           2016             4        2018          2   \n",
              "2   10200           71           2012             4        2018          2   \n",
              "3   25100           43           2014             7        2018          2   \n",
              "4   33400           40           2014            12        2018          4   \n",
              "\n",
              "   modelo_agrupado  \n",
              "0               M1  \n",
              "1            Otros  \n",
              "2               M3  \n",
              "3               M4  \n",
              "4               M4  \n",
              "\n",
              "[5 rows x 21 columns]"
            ]
          },
          "execution_count": 251,
          "metadata": {},
          "output_type": "execute_result"
        }
      ],
      "source": [
        "df.head(5)"
      ]
    },
    {
      "cell_type": "code",
      "execution_count": 252,
      "metadata": {
        "colab": {
          "base_uri": "https://localhost:8080/"
        },
        "id": "9jvuHYN7vJmH",
        "outputId": "68f59a9b-86fd-4e07-dd4a-dbb32824034d"
      },
      "outputs": [
        {
          "name": "stdout",
          "output_type": "stream",
          "text": [
            "modelo_agrupado\n",
            "M3         1777\n",
            "M5         1144\n",
            "XSERIES    1059\n",
            "M1          559\n",
            "M4          101\n",
            "M7           54\n",
            "M2           49\n",
            "M6           31\n",
            "Otros        29\n",
            "Name: count, dtype: int64\n"
          ]
        }
      ],
      "source": [
        "with pd.option_context('display.max_rows', None, 'display.max_columns', None):\n",
        "    print(df['modelo_agrupado'].value_counts())"
      ]
    },
    {
      "cell_type": "code",
      "execution_count": 253,
      "metadata": {
        "colab": {
          "base_uri": "https://localhost:8080/",
          "height": 592
        },
        "id": "3kLvzYo3vbo0",
        "outputId": "9054c8ab-ea64-4260-b262-f2870bd29a9f"
      },
      "outputs": [
        {
          "data": {
            "image/png": "[encoded data removed]",
            "text/plain": [
              "<Figure size 1000x600 with 1 Axes>"
            ]
          },
          "metadata": {},
          "output_type": "display_data"
        }
      ],
      "source": [
        "import matplotlib.pyplot as plt\n",
        "\n",
        "# Obtén los valores y cuentas de la columna 'modelo'\n",
        "value_counts = df['modelo_agrupado'].value_counts()\n",
        "\n",
        "# Crea una figura más grande\n",
        "plt.figure(figsize=(10, 6))\n",
        "\n",
        "# Crea el gráfico de barras\n",
        "ax = value_counts.plot(kind='bar')\n",
        "\n",
        "# Personaliza las etiquetas del eje x para que sean más legibles\n",
        "ax.set_xticklabels(ax.get_xticklabels(), rotation=45, horizontalalignment='right')\n",
        "\n",
        "# Agrega etiquetas y título\n",
        "plt.xlabel('Modelo')\n",
        "plt.ylabel('Frecuencia')\n",
        "plt.title('Distribución de Modelos')\n",
        "\n",
        "# Muestra el gráfico\n",
        "plt.show()"
      ]
    },
    {
      "cell_type": "code",
      "execution_count": 254,
      "metadata": {
        "id": "ItBDyCf_vf_C"
      },
      "outputs": [],
      "source": [
        "del df['modelo']"
      ]
    },
    {
      "cell_type": "code",
      "execution_count": 255,
      "metadata": {
        "colab": {
          "base_uri": "https://localhost:8080/"
        },
        "id": "YRHH5BcyvuTF",
        "outputId": "da719e03-c22e-4738-a406-bb204dd8ccf2"
      },
      "outputs": [
        {
          "name": "stdout",
          "output_type": "stream",
          "text": [
            "<class 'pandas.core.frame.DataFrame'>\n",
            "RangeIndex: 4803 entries, 0 to 4802\n",
            "Data columns (total 20 columns):\n",
            " #   Column                       Non-Null Count  Dtype  \n",
            "---  ------                       --------------  -----  \n",
            " 0   km                           4803 non-null   float64\n",
            " 1   potencia                     4803 non-null   float64\n",
            " 2   tipo_gasolina                4803 non-null   object \n",
            " 3   color                        4803 non-null   object \n",
            " 4   tipo_coche                   4803 non-null   object \n",
            " 5   volante_regulable            4803 non-null   bool   \n",
            " 6   aire_acondicionado           4803 non-null   bool   \n",
            " 7   camara_trasera               4803 non-null   bool   \n",
            " 8   asientos_traseros_plegables  4803 non-null   bool   \n",
            " 9   elevalunas_electrico         4803 non-null   bool   \n",
            " 10  bluetooth                    4803 non-null   bool   \n",
            " 11  gps                          4803 non-null   bool   \n",
            " 12  alerta_lim_velocidad         4803 non-null   bool   \n",
            " 13  precio                       4803 non-null   float64\n",
            " 14  tiemo_venta                  4803 non-null   int64  \n",
            " 15  year_registro                4803 non-null   int32  \n",
            " 16  mes_registro                 4803 non-null   int32  \n",
            " 17  year_venta                   4803 non-null   int32  \n",
            " 18  mes_venta                    4803 non-null   int32  \n",
            " 19  modelo_agrupado              4803 non-null   object \n",
            "dtypes: bool(8), float64(3), int32(4), int64(1), object(4)\n",
            "memory usage: 412.9+ KB\n"
          ]
        }
      ],
      "source": [
        "df.info()"
      ]
    },
    {
      "cell_type": "code",
      "execution_count": 256,
      "metadata": {
        "colab": {
          "base_uri": "https://localhost:8080/",
          "height": 226
        },
        "id": "y8IVjPH8vyKa",
        "outputId": "0918b6be-57fd-4e93-8d7c-24ea9e67533c"
      },
      "outputs": [
        {
          "data": {
            "text/html": [
              "<div>\n",
              "<style scoped>\n",
              "    .dataframe tbody tr th:only-of-type {\n",
              "        vertical-align: middle;\n",
              "    }\n",
              "\n",
              "    .dataframe tbody tr th {\n",
              "        vertical-align: top;\n",
              "    }\n",
              "\n",
              "    .dataframe thead th {\n",
              "        text-align: right;\n",
              "    }\n",
              "</style>\n",
              "<table border=\"1\" class=\"dataframe\">\n",
              "  <thead>\n",
              "    <tr style=\"text-align: right;\">\n",
              "      <th></th>\n",
              "      <th>km</th>\n",
              "      <th>potencia</th>\n",
              "      <th>tipo_gasolina</th>\n",
              "      <th>color</th>\n",
              "      <th>tipo_coche</th>\n",
              "      <th>volante_regulable</th>\n",
              "      <th>aire_acondicionado</th>\n",
              "      <th>camara_trasera</th>\n",
              "      <th>asientos_traseros_plegables</th>\n",
              "      <th>elevalunas_electrico</th>\n",
              "      <th>bluetooth</th>\n",
              "      <th>gps</th>\n",
              "      <th>alerta_lim_velocidad</th>\n",
              "      <th>precio</th>\n",
              "      <th>tiemo_venta</th>\n",
              "      <th>year_registro</th>\n",
              "      <th>mes_registro</th>\n",
              "      <th>year_venta</th>\n",
              "      <th>mes_venta</th>\n",
              "      <th>modelo_agrupado</th>\n",
              "    </tr>\n",
              "  </thead>\n",
              "  <tbody>\n",
              "    <tr>\n",
              "      <th>0</th>\n",
              "      <td>140411</td>\n",
              "      <td>100</td>\n",
              "      <td>diesel</td>\n",
              "      <td>black</td>\n",
              "      <td>convertible</td>\n",
              "      <td>True</td>\n",
              "      <td>True</td>\n",
              "      <td>False</td>\n",
              "      <td>False</td>\n",
              "      <td>True</td>\n",
              "      <td>True</td>\n",
              "      <td>True</td>\n",
              "      <td>False</td>\n",
              "      <td>11300</td>\n",
              "      <td>72</td>\n",
              "      <td>2012</td>\n",
              "      <td>2</td>\n",
              "      <td>2018</td>\n",
              "      <td>1</td>\n",
              "      <td>M1</td>\n",
              "    </tr>\n",
              "    <tr>\n",
              "      <th>1</th>\n",
              "      <td>13929</td>\n",
              "      <td>317</td>\n",
              "      <td>petrol</td>\n",
              "      <td>grey</td>\n",
              "      <td>convertible</td>\n",
              "      <td>True</td>\n",
              "      <td>True</td>\n",
              "      <td>False</td>\n",
              "      <td>False</td>\n",
              "      <td>False</td>\n",
              "      <td>True</td>\n",
              "      <td>True</td>\n",
              "      <td>True</td>\n",
              "      <td>69700</td>\n",
              "      <td>22</td>\n",
              "      <td>2016</td>\n",
              "      <td>4</td>\n",
              "      <td>2018</td>\n",
              "      <td>2</td>\n",
              "      <td>Otros</td>\n",
              "    </tr>\n",
              "    <tr>\n",
              "      <th>2</th>\n",
              "      <td>183297</td>\n",
              "      <td>120</td>\n",
              "      <td>diesel</td>\n",
              "      <td>white</td>\n",
              "      <td>convertible</td>\n",
              "      <td>False</td>\n",
              "      <td>False</td>\n",
              "      <td>False</td>\n",
              "      <td>False</td>\n",
              "      <td>True</td>\n",
              "      <td>False</td>\n",
              "      <td>True</td>\n",
              "      <td>False</td>\n",
              "      <td>10200</td>\n",
              "      <td>71</td>\n",
              "      <td>2012</td>\n",
              "      <td>4</td>\n",
              "      <td>2018</td>\n",
              "      <td>2</td>\n",
              "      <td>M3</td>\n",
              "    </tr>\n",
              "    <tr>\n",
              "      <th>3</th>\n",
              "      <td>128035</td>\n",
              "      <td>135</td>\n",
              "      <td>diesel</td>\n",
              "      <td>red</td>\n",
              "      <td>convertible</td>\n",
              "      <td>True</td>\n",
              "      <td>True</td>\n",
              "      <td>False</td>\n",
              "      <td>False</td>\n",
              "      <td>True</td>\n",
              "      <td>True</td>\n",
              "      <td>True</td>\n",
              "      <td>True</td>\n",
              "      <td>25100</td>\n",
              "      <td>43</td>\n",
              "      <td>2014</td>\n",
              "      <td>7</td>\n",
              "      <td>2018</td>\n",
              "      <td>2</td>\n",
              "      <td>M4</td>\n",
              "    </tr>\n",
              "    <tr>\n",
              "      <th>4</th>\n",
              "      <td>97097</td>\n",
              "      <td>160</td>\n",
              "      <td>diesel</td>\n",
              "      <td>silver</td>\n",
              "      <td>convertible</td>\n",
              "      <td>True</td>\n",
              "      <td>True</td>\n",
              "      <td>False</td>\n",
              "      <td>False</td>\n",
              "      <td>False</td>\n",
              "      <td>True</td>\n",
              "      <td>True</td>\n",
              "      <td>True</td>\n",
              "      <td>33400</td>\n",
              "      <td>40</td>\n",
              "      <td>2014</td>\n",
              "      <td>12</td>\n",
              "      <td>2018</td>\n",
              "      <td>4</td>\n",
              "      <td>M4</td>\n",
              "    </tr>\n",
              "  </tbody>\n",
              "</table>\n",
              "</div>"
            ],
            "text/plain": [
              "      km  potencia tipo_gasolina   color   tipo_coche  volante_regulable   \n",
              "0 140411       100        diesel   black  convertible               True  \\\n",
              "1  13929       317        petrol    grey  convertible               True   \n",
              "2 183297       120        diesel   white  convertible              False   \n",
              "3 128035       135        diesel     red  convertible               True   \n",
              "4  97097       160        diesel  silver  convertible               True   \n",
              "\n",
              "   aire_acondicionado  camara_trasera  asientos_traseros_plegables   \n",
              "0                True           False                        False  \\\n",
              "1                True           False                        False   \n",
              "2               False           False                        False   \n",
              "3                True           False                        False   \n",
              "4                True           False                        False   \n",
              "\n",
              "   elevalunas_electrico  bluetooth   gps  alerta_lim_velocidad  precio   \n",
              "0                  True       True  True                 False   11300  \\\n",
              "1                 False       True  True                  True   69700   \n",
              "2                  True      False  True                 False   10200   \n",
              "3                  True       True  True                  True   25100   \n",
              "4                 False       True  True                  True   33400   \n",
              "\n",
              "   tiemo_venta  year_registro  mes_registro  year_venta  mes_venta   \n",
              "0           72           2012             2        2018          1  \\\n",
              "1           22           2016             4        2018          2   \n",
              "2           71           2012             4        2018          2   \n",
              "3           43           2014             7        2018          2   \n",
              "4           40           2014            12        2018          4   \n",
              "\n",
              "  modelo_agrupado  \n",
              "0              M1  \n",
              "1           Otros  \n",
              "2              M3  \n",
              "3              M4  \n",
              "4              M4  "
            ]
          },
          "execution_count": 256,
          "metadata": {},
          "output_type": "execute_result"
        }
      ],
      "source": [
        "df.head(5)"
      ]
    },
    {
      "cell_type": "code",
      "execution_count": 257,
      "metadata": {
        "colab": {
          "base_uri": "https://localhost:8080/",
          "height": 300
        },
        "id": "iKp7VCTPv3xx",
        "outputId": "82b0073b-baa7-432a-8bb9-17e9c7c747b1"
      },
      "outputs": [
        {
          "data": {
            "text/html": [
              "<div>\n",
              "<style scoped>\n",
              "    .dataframe tbody tr th:only-of-type {\n",
              "        vertical-align: middle;\n",
              "    }\n",
              "\n",
              "    .dataframe tbody tr th {\n",
              "        vertical-align: top;\n",
              "    }\n",
              "\n",
              "    .dataframe thead th {\n",
              "        text-align: right;\n",
              "    }\n",
              "</style>\n",
              "<table border=\"1\" class=\"dataframe\">\n",
              "  <thead>\n",
              "    <tr style=\"text-align: right;\">\n",
              "      <th></th>\n",
              "      <th>km</th>\n",
              "      <th>potencia</th>\n",
              "      <th>precio</th>\n",
              "      <th>tiemo_venta</th>\n",
              "      <th>year_registro</th>\n",
              "      <th>mes_registro</th>\n",
              "      <th>year_venta</th>\n",
              "      <th>mes_venta</th>\n",
              "    </tr>\n",
              "  </thead>\n",
              "  <tbody>\n",
              "    <tr>\n",
              "      <th>count</th>\n",
              "      <td>4803</td>\n",
              "      <td>4803</td>\n",
              "      <td>4803</td>\n",
              "      <td>4803</td>\n",
              "      <td>4803</td>\n",
              "      <td>4803</td>\n",
              "      <td>4803</td>\n",
              "      <td>4803</td>\n",
              "    </tr>\n",
              "    <tr>\n",
              "      <th>mean</th>\n",
              "      <td>140894</td>\n",
              "      <td>129</td>\n",
              "      <td>15865</td>\n",
              "      <td>65</td>\n",
              "      <td>2012</td>\n",
              "      <td>6</td>\n",
              "      <td>2018</td>\n",
              "      <td>5</td>\n",
              "    </tr>\n",
              "    <tr>\n",
              "      <th>std</th>\n",
              "      <td>60265</td>\n",
              "      <td>39</td>\n",
              "      <td>9230</td>\n",
              "      <td>31</td>\n",
              "      <td>3</td>\n",
              "      <td>3</td>\n",
              "      <td>0</td>\n",
              "      <td>2</td>\n",
              "    </tr>\n",
              "    <tr>\n",
              "      <th>min</th>\n",
              "      <td>-64</td>\n",
              "      <td>0</td>\n",
              "      <td>100</td>\n",
              "      <td>-67</td>\n",
              "      <td>1990</td>\n",
              "      <td>1</td>\n",
              "      <td>2007</td>\n",
              "      <td>1</td>\n",
              "    </tr>\n",
              "    <tr>\n",
              "      <th>25%</th>\n",
              "      <td>102604</td>\n",
              "      <td>100</td>\n",
              "      <td>10900</td>\n",
              "      <td>49</td>\n",
              "      <td>2012</td>\n",
              "      <td>3</td>\n",
              "      <td>2018</td>\n",
              "      <td>3</td>\n",
              "    </tr>\n",
              "    <tr>\n",
              "      <th>50%</th>\n",
              "      <td>140829</td>\n",
              "      <td>120</td>\n",
              "      <td>14200</td>\n",
              "      <td>58</td>\n",
              "      <td>2013</td>\n",
              "      <td>6</td>\n",
              "      <td>2018</td>\n",
              "      <td>5</td>\n",
              "    </tr>\n",
              "    <tr>\n",
              "      <th>75%</th>\n",
              "      <td>175226</td>\n",
              "      <td>135</td>\n",
              "      <td>18700</td>\n",
              "      <td>71</td>\n",
              "      <td>2014</td>\n",
              "      <td>9</td>\n",
              "      <td>2018</td>\n",
              "      <td>7</td>\n",
              "    </tr>\n",
              "    <tr>\n",
              "      <th>max</th>\n",
              "      <td>1000376</td>\n",
              "      <td>423</td>\n",
              "      <td>178500</td>\n",
              "      <td>341</td>\n",
              "      <td>2017</td>\n",
              "      <td>12</td>\n",
              "      <td>2018</td>\n",
              "      <td>9</td>\n",
              "    </tr>\n",
              "  </tbody>\n",
              "</table>\n",
              "</div>"
            ],
            "text/plain": [
              "           km  potencia  precio  tiemo_venta  year_registro  mes_registro   \n",
              "count    4803      4803    4803         4803           4803          4803  \\\n",
              "mean   140894       129   15865           65           2012             6   \n",
              "std     60265        39    9230           31              3             3   \n",
              "min       -64         0     100          -67           1990             1   \n",
              "25%    102604       100   10900           49           2012             3   \n",
              "50%    140829       120   14200           58           2013             6   \n",
              "75%    175226       135   18700           71           2014             9   \n",
              "max   1000376       423  178500          341           2017            12   \n",
              "\n",
              "       year_venta  mes_venta  \n",
              "count        4803       4803  \n",
              "mean         2018          5  \n",
              "std             0          2  \n",
              "min          2007          1  \n",
              "25%          2018          3  \n",
              "50%          2018          5  \n",
              "75%          2018          7  \n",
              "max          2018          9  "
            ]
          },
          "execution_count": 257,
          "metadata": {},
          "output_type": "execute_result"
        }
      ],
      "source": [
        "df.describe()"
      ]
    },
    {
      "cell_type": "code",
      "execution_count": 258,
      "metadata": {
        "id": "Q5w3mWzSxUCV"
      },
      "outputs": [],
      "source": [
        "pd.options.display.float_format = '{:.0f}'.format"
      ]
    },
    {
      "cell_type": "code",
      "execution_count": 259,
      "metadata": {
        "colab": {
          "base_uri": "https://localhost:8080/",
          "height": 300
        },
        "id": "kwouyWVGxVK5",
        "outputId": "a127b9da-a54b-4789-d8b5-5793f9340766"
      },
      "outputs": [
        {
          "data": {
            "text/html": [
              "<div>\n",
              "<style scoped>\n",
              "    .dataframe tbody tr th:only-of-type {\n",
              "        vertical-align: middle;\n",
              "    }\n",
              "\n",
              "    .dataframe tbody tr th {\n",
              "        vertical-align: top;\n",
              "    }\n",
              "\n",
              "    .dataframe thead th {\n",
              "        text-align: right;\n",
              "    }\n",
              "</style>\n",
              "<table border=\"1\" class=\"dataframe\">\n",
              "  <thead>\n",
              "    <tr style=\"text-align: right;\">\n",
              "      <th></th>\n",
              "      <th>km</th>\n",
              "      <th>potencia</th>\n",
              "      <th>precio</th>\n",
              "      <th>tiemo_venta</th>\n",
              "      <th>year_registro</th>\n",
              "      <th>mes_registro</th>\n",
              "      <th>year_venta</th>\n",
              "      <th>mes_venta</th>\n",
              "    </tr>\n",
              "  </thead>\n",
              "  <tbody>\n",
              "    <tr>\n",
              "      <th>count</th>\n",
              "      <td>4803</td>\n",
              "      <td>4803</td>\n",
              "      <td>4803</td>\n",
              "      <td>4803</td>\n",
              "      <td>4803</td>\n",
              "      <td>4803</td>\n",
              "      <td>4803</td>\n",
              "      <td>4803</td>\n",
              "    </tr>\n",
              "    <tr>\n",
              "      <th>mean</th>\n",
              "      <td>140894</td>\n",
              "      <td>129</td>\n",
              "      <td>15865</td>\n",
              "      <td>65</td>\n",
              "      <td>2012</td>\n",
              "      <td>6</td>\n",
              "      <td>2018</td>\n",
              "      <td>5</td>\n",
              "    </tr>\n",
              "    <tr>\n",
              "      <th>std</th>\n",
              "      <td>60265</td>\n",
              "      <td>39</td>\n",
              "      <td>9230</td>\n",
              "      <td>31</td>\n",
              "      <td>3</td>\n",
              "      <td>3</td>\n",
              "      <td>0</td>\n",
              "      <td>2</td>\n",
              "    </tr>\n",
              "    <tr>\n",
              "      <th>min</th>\n",
              "      <td>-64</td>\n",
              "      <td>0</td>\n",
              "      <td>100</td>\n",
              "      <td>-67</td>\n",
              "      <td>1990</td>\n",
              "      <td>1</td>\n",
              "      <td>2007</td>\n",
              "      <td>1</td>\n",
              "    </tr>\n",
              "    <tr>\n",
              "      <th>25%</th>\n",
              "      <td>102604</td>\n",
              "      <td>100</td>\n",
              "      <td>10900</td>\n",
              "      <td>49</td>\n",
              "      <td>2012</td>\n",
              "      <td>3</td>\n",
              "      <td>2018</td>\n",
              "      <td>3</td>\n",
              "    </tr>\n",
              "    <tr>\n",
              "      <th>50%</th>\n",
              "      <td>140829</td>\n",
              "      <td>120</td>\n",
              "      <td>14200</td>\n",
              "      <td>58</td>\n",
              "      <td>2013</td>\n",
              "      <td>6</td>\n",
              "      <td>2018</td>\n",
              "      <td>5</td>\n",
              "    </tr>\n",
              "    <tr>\n",
              "      <th>75%</th>\n",
              "      <td>175226</td>\n",
              "      <td>135</td>\n",
              "      <td>18700</td>\n",
              "      <td>71</td>\n",
              "      <td>2014</td>\n",
              "      <td>9</td>\n",
              "      <td>2018</td>\n",
              "      <td>7</td>\n",
              "    </tr>\n",
              "    <tr>\n",
              "      <th>max</th>\n",
              "      <td>1000376</td>\n",
              "      <td>423</td>\n",
              "      <td>178500</td>\n",
              "      <td>341</td>\n",
              "      <td>2017</td>\n",
              "      <td>12</td>\n",
              "      <td>2018</td>\n",
              "      <td>9</td>\n",
              "    </tr>\n",
              "  </tbody>\n",
              "</table>\n",
              "</div>"
            ],
            "text/plain": [
              "           km  potencia  precio  tiemo_venta  year_registro  mes_registro   \n",
              "count    4803      4803    4803         4803           4803          4803  \\\n",
              "mean   140894       129   15865           65           2012             6   \n",
              "std     60265        39    9230           31              3             3   \n",
              "min       -64         0     100          -67           1990             1   \n",
              "25%    102604       100   10900           49           2012             3   \n",
              "50%    140829       120   14200           58           2013             6   \n",
              "75%    175226       135   18700           71           2014             9   \n",
              "max   1000376       423  178500          341           2017            12   \n",
              "\n",
              "       year_venta  mes_venta  \n",
              "count        4803       4803  \n",
              "mean         2018          5  \n",
              "std             0          2  \n",
              "min          2007          1  \n",
              "25%          2018          3  \n",
              "50%          2018          5  \n",
              "75%          2018          7  \n",
              "max          2018          9  "
            ]
          },
          "execution_count": 259,
          "metadata": {},
          "output_type": "execute_result"
        }
      ],
      "source": [
        "df.describe()"
      ]
    },
    {
      "cell_type": "markdown",
      "metadata": {
        "id": "qtHMJM5uybRE"
      },
      "source": [
        "# Anomalias\n",
        "1) variable km\n",
        "\n",
        "2) potencia\n",
        "\n",
        "3)tiempo venta\n",
        "\n",
        "4)precio\n",
        "\n",
        "siguiente sera distribucion del target y correlacion"
      ]
    },
    {
      "cell_type": "code",
      "execution_count": 260,
      "metadata": {
        "colab": {
          "base_uri": "https://localhost:8080/",
          "height": 300
        },
        "id": "42POLbKjzWwg",
        "outputId": "67898040-6774-47ea-c259-9d92c79a8d2b"
      },
      "outputs": [
        {
          "data": {
            "text/html": [
              "<div>\n",
              "<style scoped>\n",
              "    .dataframe tbody tr th:only-of-type {\n",
              "        vertical-align: middle;\n",
              "    }\n",
              "\n",
              "    .dataframe tbody tr th {\n",
              "        vertical-align: top;\n",
              "    }\n",
              "\n",
              "    .dataframe thead th {\n",
              "        text-align: right;\n",
              "    }\n",
              "</style>\n",
              "<table border=\"1\" class=\"dataframe\">\n",
              "  <thead>\n",
              "    <tr style=\"text-align: right;\">\n",
              "      <th></th>\n",
              "      <th>km</th>\n",
              "      <th>potencia</th>\n",
              "      <th>precio</th>\n",
              "      <th>tiemo_venta</th>\n",
              "      <th>year_registro</th>\n",
              "      <th>mes_registro</th>\n",
              "      <th>year_venta</th>\n",
              "      <th>mes_venta</th>\n",
              "    </tr>\n",
              "  </thead>\n",
              "  <tbody>\n",
              "    <tr>\n",
              "      <th>count</th>\n",
              "      <td>4803</td>\n",
              "      <td>4803</td>\n",
              "      <td>4803</td>\n",
              "      <td>4803</td>\n",
              "      <td>4803</td>\n",
              "      <td>4803</td>\n",
              "      <td>4803</td>\n",
              "      <td>4803</td>\n",
              "    </tr>\n",
              "    <tr>\n",
              "      <th>mean</th>\n",
              "      <td>140894</td>\n",
              "      <td>129</td>\n",
              "      <td>15865</td>\n",
              "      <td>65</td>\n",
              "      <td>2012</td>\n",
              "      <td>6</td>\n",
              "      <td>2018</td>\n",
              "      <td>5</td>\n",
              "    </tr>\n",
              "    <tr>\n",
              "      <th>std</th>\n",
              "      <td>60265</td>\n",
              "      <td>39</td>\n",
              "      <td>9230</td>\n",
              "      <td>31</td>\n",
              "      <td>3</td>\n",
              "      <td>3</td>\n",
              "      <td>0</td>\n",
              "      <td>2</td>\n",
              "    </tr>\n",
              "    <tr>\n",
              "      <th>min</th>\n",
              "      <td>-64</td>\n",
              "      <td>0</td>\n",
              "      <td>100</td>\n",
              "      <td>-67</td>\n",
              "      <td>1990</td>\n",
              "      <td>1</td>\n",
              "      <td>2007</td>\n",
              "      <td>1</td>\n",
              "    </tr>\n",
              "    <tr>\n",
              "      <th>25%</th>\n",
              "      <td>102604</td>\n",
              "      <td>100</td>\n",
              "      <td>10900</td>\n",
              "      <td>49</td>\n",
              "      <td>2012</td>\n",
              "      <td>3</td>\n",
              "      <td>2018</td>\n",
              "      <td>3</td>\n",
              "    </tr>\n",
              "    <tr>\n",
              "      <th>50%</th>\n",
              "      <td>140829</td>\n",
              "      <td>120</td>\n",
              "      <td>14200</td>\n",
              "      <td>58</td>\n",
              "      <td>2013</td>\n",
              "      <td>6</td>\n",
              "      <td>2018</td>\n",
              "      <td>5</td>\n",
              "    </tr>\n",
              "    <tr>\n",
              "      <th>75%</th>\n",
              "      <td>175226</td>\n",
              "      <td>135</td>\n",
              "      <td>18700</td>\n",
              "      <td>71</td>\n",
              "      <td>2014</td>\n",
              "      <td>9</td>\n",
              "      <td>2018</td>\n",
              "      <td>7</td>\n",
              "    </tr>\n",
              "    <tr>\n",
              "      <th>max</th>\n",
              "      <td>1000376</td>\n",
              "      <td>423</td>\n",
              "      <td>178500</td>\n",
              "      <td>341</td>\n",
              "      <td>2017</td>\n",
              "      <td>12</td>\n",
              "      <td>2018</td>\n",
              "      <td>9</td>\n",
              "    </tr>\n",
              "  </tbody>\n",
              "</table>\n",
              "</div>"
            ],
            "text/plain": [
              "           km  potencia  precio  tiemo_venta  year_registro  mes_registro   \n",
              "count    4803      4803    4803         4803           4803          4803  \\\n",
              "mean   140894       129   15865           65           2012             6   \n",
              "std     60265        39    9230           31              3             3   \n",
              "min       -64         0     100          -67           1990             1   \n",
              "25%    102604       100   10900           49           2012             3   \n",
              "50%    140829       120   14200           58           2013             6   \n",
              "75%    175226       135   18700           71           2014             9   \n",
              "max   1000376       423  178500          341           2017            12   \n",
              "\n",
              "       year_venta  mes_venta  \n",
              "count        4803       4803  \n",
              "mean         2018          5  \n",
              "std             0          2  \n",
              "min          2007          1  \n",
              "25%          2018          3  \n",
              "50%          2018          5  \n",
              "75%          2018          7  \n",
              "max          2018          9  "
            ]
          },
          "execution_count": 260,
          "metadata": {},
          "output_type": "execute_result"
        }
      ],
      "source": [
        "df.describe()"
      ]
    },
    {
      "cell_type": "code",
      "execution_count": 261,
      "metadata": {
        "colab": {
          "base_uri": "https://localhost:8080/",
          "height": 101
        },
        "id": "_cx9AqY-zXvS",
        "outputId": "3f006cfe-0363-41cc-c2f3-ab0402792de1"
      },
      "outputs": [
        {
          "data": {
            "text/html": [
              "<div>\n",
              "<style scoped>\n",
              "    .dataframe tbody tr th:only-of-type {\n",
              "        vertical-align: middle;\n",
              "    }\n",
              "\n",
              "    .dataframe tbody tr th {\n",
              "        vertical-align: top;\n",
              "    }\n",
              "\n",
              "    .dataframe thead th {\n",
              "        text-align: right;\n",
              "    }\n",
              "</style>\n",
              "<table border=\"1\" class=\"dataframe\">\n",
              "  <thead>\n",
              "    <tr style=\"text-align: right;\">\n",
              "      <th></th>\n",
              "      <th>km</th>\n",
              "      <th>potencia</th>\n",
              "      <th>tipo_gasolina</th>\n",
              "      <th>color</th>\n",
              "      <th>tipo_coche</th>\n",
              "      <th>volante_regulable</th>\n",
              "      <th>aire_acondicionado</th>\n",
              "      <th>camara_trasera</th>\n",
              "      <th>asientos_traseros_plegables</th>\n",
              "      <th>elevalunas_electrico</th>\n",
              "      <th>bluetooth</th>\n",
              "      <th>gps</th>\n",
              "      <th>alerta_lim_velocidad</th>\n",
              "      <th>precio</th>\n",
              "      <th>tiemo_venta</th>\n",
              "      <th>year_registro</th>\n",
              "      <th>mes_registro</th>\n",
              "      <th>year_venta</th>\n",
              "      <th>mes_venta</th>\n",
              "      <th>modelo_agrupado</th>\n",
              "    </tr>\n",
              "  </thead>\n",
              "  <tbody>\n",
              "    <tr>\n",
              "      <th>2908</th>\n",
              "      <td>-64</td>\n",
              "      <td>230</td>\n",
              "      <td>diesel</td>\n",
              "      <td>black</td>\n",
              "      <td>sedan</td>\n",
              "      <td>True</td>\n",
              "      <td>True</td>\n",
              "      <td>False</td>\n",
              "      <td>True</td>\n",
              "      <td>False</td>\n",
              "      <td>False</td>\n",
              "      <td>True</td>\n",
              "      <td>True</td>\n",
              "      <td>75000</td>\n",
              "      <td>13</td>\n",
              "      <td>2017</td>\n",
              "      <td>3</td>\n",
              "      <td>2018</td>\n",
              "      <td>4</td>\n",
              "      <td>M6</td>\n",
              "    </tr>\n",
              "  </tbody>\n",
              "</table>\n",
              "</div>"
            ],
            "text/plain": [
              "      km  potencia tipo_gasolina  color tipo_coche  volante_regulable   \n",
              "2908 -64       230        diesel  black      sedan               True  \\\n",
              "\n",
              "      aire_acondicionado  camara_trasera  asientos_traseros_plegables   \n",
              "2908                True           False                         True  \\\n",
              "\n",
              "      elevalunas_electrico  bluetooth   gps  alerta_lim_velocidad  precio   \n",
              "2908                 False      False  True                  True   75000  \\\n",
              "\n",
              "      tiemo_venta  year_registro  mes_registro  year_venta  mes_venta   \n",
              "2908           13           2017             3        2018          4  \\\n",
              "\n",
              "     modelo_agrupado  \n",
              "2908              M6  "
            ]
          },
          "execution_count": 261,
          "metadata": {},
          "output_type": "execute_result"
        }
      ],
      "source": [
        "df[df['km'] < 100]"
      ]
    },
    {
      "cell_type": "code",
      "execution_count": 262,
      "metadata": {
        "id": "keHuSvL-0qQ2"
      },
      "outputs": [],
      "source": [
        "df['km'] = df['km'].abs()"
      ]
    },
    {
      "cell_type": "code",
      "execution_count": 263,
      "metadata": {
        "colab": {
          "base_uri": "https://localhost:8080/",
          "height": 101
        },
        "id": "FqO_TSPW02Kc",
        "outputId": "5c11da81-fd1a-4ca6-f568-f0b88bd96976"
      },
      "outputs": [
        {
          "data": {
            "text/html": [
              "<div>\n",
              "<style scoped>\n",
              "    .dataframe tbody tr th:only-of-type {\n",
              "        vertical-align: middle;\n",
              "    }\n",
              "\n",
              "    .dataframe tbody tr th {\n",
              "        vertical-align: top;\n",
              "    }\n",
              "\n",
              "    .dataframe thead th {\n",
              "        text-align: right;\n",
              "    }\n",
              "</style>\n",
              "<table border=\"1\" class=\"dataframe\">\n",
              "  <thead>\n",
              "    <tr style=\"text-align: right;\">\n",
              "      <th></th>\n",
              "      <th>km</th>\n",
              "      <th>potencia</th>\n",
              "      <th>tipo_gasolina</th>\n",
              "      <th>color</th>\n",
              "      <th>tipo_coche</th>\n",
              "      <th>volante_regulable</th>\n",
              "      <th>aire_acondicionado</th>\n",
              "      <th>camara_trasera</th>\n",
              "      <th>asientos_traseros_plegables</th>\n",
              "      <th>elevalunas_electrico</th>\n",
              "      <th>bluetooth</th>\n",
              "      <th>gps</th>\n",
              "      <th>alerta_lim_velocidad</th>\n",
              "      <th>precio</th>\n",
              "      <th>tiemo_venta</th>\n",
              "      <th>year_registro</th>\n",
              "      <th>mes_registro</th>\n",
              "      <th>year_venta</th>\n",
              "      <th>mes_venta</th>\n",
              "      <th>modelo_agrupado</th>\n",
              "    </tr>\n",
              "  </thead>\n",
              "  <tbody>\n",
              "    <tr>\n",
              "      <th>3729</th>\n",
              "      <td>81770</td>\n",
              "      <td>0</td>\n",
              "      <td>diesel</td>\n",
              "      <td>white</td>\n",
              "      <td>suv</td>\n",
              "      <td>False</td>\n",
              "      <td>False</td>\n",
              "      <td>False</td>\n",
              "      <td>False</td>\n",
              "      <td>False</td>\n",
              "      <td>False</td>\n",
              "      <td>False</td>\n",
              "      <td>False</td>\n",
              "      <td>11700</td>\n",
              "      <td>41</td>\n",
              "      <td>2014</td>\n",
              "      <td>10</td>\n",
              "      <td>2018</td>\n",
              "      <td>3</td>\n",
              "      <td>XSERIES</td>\n",
              "    </tr>\n",
              "  </tbody>\n",
              "</table>\n",
              "</div>"
            ],
            "text/plain": [
              "        km  potencia tipo_gasolina  color tipo_coche  volante_regulable   \n",
              "3729 81770         0        diesel  white        suv              False  \\\n",
              "\n",
              "      aire_acondicionado  camara_trasera  asientos_traseros_plegables   \n",
              "3729               False           False                        False  \\\n",
              "\n",
              "      elevalunas_electrico  bluetooth    gps  alerta_lim_velocidad  precio   \n",
              "3729                 False      False  False                 False   11700  \\\n",
              "\n",
              "      tiemo_venta  year_registro  mes_registro  year_venta  mes_venta   \n",
              "3729           41           2014            10        2018          3  \\\n",
              "\n",
              "     modelo_agrupado  \n",
              "3729         XSERIES  "
            ]
          },
          "execution_count": 263,
          "metadata": {},
          "output_type": "execute_result"
        }
      ],
      "source": [
        "df[df['potencia'] == 0]"
      ]
    },
    {
      "cell_type": "code",
      "execution_count": 264,
      "metadata": {
        "id": "-Tg7hxbWzXr5"
      },
      "outputs": [],
      "source": [
        "incorrect_potencia = df[df['potencia'] == 0]"
      ]
    },
    {
      "cell_type": "code",
      "execution_count": 265,
      "metadata": {
        "id": "UNU-dXqIzXmb"
      },
      "outputs": [],
      "source": [
        "df.drop(incorrect_potencia.index,inplace=True)"
      ]
    },
    {
      "cell_type": "code",
      "execution_count": 266,
      "metadata": {
        "colab": {
          "base_uri": "https://localhost:8080/",
          "height": 195
        },
        "id": "N6MEsf35zXjO",
        "outputId": "1218d2d5-ba59-4086-ba7d-f83636c99eb9"
      },
      "outputs": [
        {
          "data": {
            "text/html": [
              "<div>\n",
              "<style scoped>\n",
              "    .dataframe tbody tr th:only-of-type {\n",
              "        vertical-align: middle;\n",
              "    }\n",
              "\n",
              "    .dataframe tbody tr th {\n",
              "        vertical-align: top;\n",
              "    }\n",
              "\n",
              "    .dataframe thead th {\n",
              "        text-align: right;\n",
              "    }\n",
              "</style>\n",
              "<table border=\"1\" class=\"dataframe\">\n",
              "  <thead>\n",
              "    <tr style=\"text-align: right;\">\n",
              "      <th></th>\n",
              "      <th>km</th>\n",
              "      <th>potencia</th>\n",
              "      <th>tipo_gasolina</th>\n",
              "      <th>color</th>\n",
              "      <th>tipo_coche</th>\n",
              "      <th>volante_regulable</th>\n",
              "      <th>aire_acondicionado</th>\n",
              "      <th>camara_trasera</th>\n",
              "      <th>asientos_traseros_plegables</th>\n",
              "      <th>elevalunas_electrico</th>\n",
              "      <th>bluetooth</th>\n",
              "      <th>gps</th>\n",
              "      <th>alerta_lim_velocidad</th>\n",
              "      <th>precio</th>\n",
              "      <th>tiemo_venta</th>\n",
              "      <th>year_registro</th>\n",
              "      <th>mes_registro</th>\n",
              "      <th>year_venta</th>\n",
              "      <th>mes_venta</th>\n",
              "      <th>modelo_agrupado</th>\n",
              "    </tr>\n",
              "  </thead>\n",
              "  <tbody>\n",
              "    <tr>\n",
              "      <th>42</th>\n",
              "      <td>142483</td>\n",
              "      <td>180</td>\n",
              "      <td>diesel</td>\n",
              "      <td>blue</td>\n",
              "      <td>convertible</td>\n",
              "      <td>True</td>\n",
              "      <td>True</td>\n",
              "      <td>False</td>\n",
              "      <td>False</td>\n",
              "      <td>True</td>\n",
              "      <td>False</td>\n",
              "      <td>True</td>\n",
              "      <td>True</td>\n",
              "      <td>15800</td>\n",
              "      <td>-54</td>\n",
              "      <td>2012</td>\n",
              "      <td>1</td>\n",
              "      <td>2007</td>\n",
              "      <td>8</td>\n",
              "      <td>M3</td>\n",
              "    </tr>\n",
              "    <tr>\n",
              "      <th>99</th>\n",
              "      <td>342768</td>\n",
              "      <td>135</td>\n",
              "      <td>diesel</td>\n",
              "      <td>black</td>\n",
              "      <td>coupe</td>\n",
              "      <td>False</td>\n",
              "      <td>True</td>\n",
              "      <td>False</td>\n",
              "      <td>False</td>\n",
              "      <td>True</td>\n",
              "      <td>False</td>\n",
              "      <td>True</td>\n",
              "      <td>False</td>\n",
              "      <td>8200</td>\n",
              "      <td>-21</td>\n",
              "      <td>2011</td>\n",
              "      <td>12</td>\n",
              "      <td>2010</td>\n",
              "      <td>4</td>\n",
              "      <td>M3</td>\n",
              "    </tr>\n",
              "    <tr>\n",
              "      <th>177</th>\n",
              "      <td>181052</td>\n",
              "      <td>120</td>\n",
              "      <td>diesel</td>\n",
              "      <td>black</td>\n",
              "      <td>estate</td>\n",
              "      <td>False</td>\n",
              "      <td>True</td>\n",
              "      <td>False</td>\n",
              "      <td>False</td>\n",
              "      <td>False</td>\n",
              "      <td>False</td>\n",
              "      <td>True</td>\n",
              "      <td>True</td>\n",
              "      <td>11500</td>\n",
              "      <td>-67</td>\n",
              "      <td>2014</td>\n",
              "      <td>10</td>\n",
              "      <td>2009</td>\n",
              "      <td>4</td>\n",
              "      <td>M3</td>\n",
              "    </tr>\n",
              "    <tr>\n",
              "      <th>248</th>\n",
              "      <td>201102</td>\n",
              "      <td>85</td>\n",
              "      <td>diesel</td>\n",
              "      <td>black</td>\n",
              "      <td>estate</td>\n",
              "      <td>True</td>\n",
              "      <td>False</td>\n",
              "      <td>False</td>\n",
              "      <td>False</td>\n",
              "      <td>False</td>\n",
              "      <td>False</td>\n",
              "      <td>True</td>\n",
              "      <td>False</td>\n",
              "      <td>8800</td>\n",
              "      <td>-67</td>\n",
              "      <td>2013</td>\n",
              "      <td>12</td>\n",
              "      <td>2008</td>\n",
              "      <td>6</td>\n",
              "      <td>M3</td>\n",
              "    </tr>\n",
              "  </tbody>\n",
              "</table>\n",
              "</div>"
            ],
            "text/plain": [
              "        km  potencia tipo_gasolina  color   tipo_coche  volante_regulable   \n",
              "42  142483       180        diesel   blue  convertible               True  \\\n",
              "99  342768       135        diesel  black        coupe              False   \n",
              "177 181052       120        diesel  black       estate              False   \n",
              "248 201102        85        diesel  black       estate               True   \n",
              "\n",
              "     aire_acondicionado  camara_trasera  asientos_traseros_plegables   \n",
              "42                 True           False                        False  \\\n",
              "99                 True           False                        False   \n",
              "177                True           False                        False   \n",
              "248               False           False                        False   \n",
              "\n",
              "     elevalunas_electrico  bluetooth   gps  alerta_lim_velocidad  precio   \n",
              "42                   True      False  True                  True   15800  \\\n",
              "99                   True      False  True                 False    8200   \n",
              "177                 False      False  True                  True   11500   \n",
              "248                 False      False  True                 False    8800   \n",
              "\n",
              "     tiemo_venta  year_registro  mes_registro  year_venta  mes_venta   \n",
              "42           -54           2012             1        2007          8  \\\n",
              "99           -21           2011            12        2010          4   \n",
              "177          -67           2014            10        2009          4   \n",
              "248          -67           2013            12        2008          6   \n",
              "\n",
              "    modelo_agrupado  \n",
              "42               M3  \n",
              "99               M3  \n",
              "177              M3  \n",
              "248              M3  "
            ]
          },
          "execution_count": 266,
          "metadata": {},
          "output_type": "execute_result"
        }
      ],
      "source": [
        "df[df['tiemo_venta'] < 0]"
      ]
    },
    {
      "cell_type": "code",
      "execution_count": 267,
      "metadata": {
        "id": "OnfMCSf8zXf2"
      },
      "outputs": [],
      "source": [
        "tiempo_de_venta_incorrecto = df[df['tiemo_venta'] < 0]"
      ]
    },
    {
      "cell_type": "code",
      "execution_count": 268,
      "metadata": {
        "id": "pvdPI3GpzXM6"
      },
      "outputs": [],
      "source": [
        "df.loc[tiempo_de_venta_incorrecto.index, \"tiemo_venta\"] = np.abs(tiempo_de_venta_incorrecto['tiemo_venta'])"
      ]
    },
    {
      "cell_type": "code",
      "execution_count": 269,
      "metadata": {
        "id": "cULtf4Hk2ut8"
      },
      "outputs": [],
      "source": [
        "df_outiler = df[df['precio'] < 1500]"
      ]
    },
    {
      "cell_type": "code",
      "execution_count": 270,
      "metadata": {
        "colab": {
          "base_uri": "https://localhost:8080/"
        },
        "id": "_zFE3EEJ3emm",
        "outputId": "496001e3-70e7-4cc7-aa80-1672eb849583"
      },
      "outputs": [
        {
          "data": {
            "text/plain": [
              "85"
            ]
          },
          "execution_count": 270,
          "metadata": {},
          "output_type": "execute_result"
        }
      ],
      "source": [
        "len(df_outiler)"
      ]
    },
    {
      "cell_type": "code",
      "execution_count": 271,
      "metadata": {
        "id": "yoBwZU693lzX"
      },
      "outputs": [],
      "source": [
        "df = df[df['precio'] >= 1500]"
      ]
    },
    {
      "cell_type": "code",
      "execution_count": 272,
      "metadata": {
        "colab": {
          "base_uri": "https://localhost:8080/",
          "height": 300
        },
        "id": "UKQGWJ3s31ts",
        "outputId": "c08e649d-9fbf-4efd-ad5a-97cd2a0fb757"
      },
      "outputs": [
        {
          "data": {
            "text/html": [
              "<div>\n",
              "<style scoped>\n",
              "    .dataframe tbody tr th:only-of-type {\n",
              "        vertical-align: middle;\n",
              "    }\n",
              "\n",
              "    .dataframe tbody tr th {\n",
              "        vertical-align: top;\n",
              "    }\n",
              "\n",
              "    .dataframe thead th {\n",
              "        text-align: right;\n",
              "    }\n",
              "</style>\n",
              "<table border=\"1\" class=\"dataframe\">\n",
              "  <thead>\n",
              "    <tr style=\"text-align: right;\">\n",
              "      <th></th>\n",
              "      <th>km</th>\n",
              "      <th>potencia</th>\n",
              "      <th>precio</th>\n",
              "      <th>tiemo_venta</th>\n",
              "      <th>year_registro</th>\n",
              "      <th>mes_registro</th>\n",
              "      <th>year_venta</th>\n",
              "      <th>mes_venta</th>\n",
              "    </tr>\n",
              "  </thead>\n",
              "  <tbody>\n",
              "    <tr>\n",
              "      <th>count</th>\n",
              "      <td>4717</td>\n",
              "      <td>4717</td>\n",
              "      <td>4717</td>\n",
              "      <td>4717</td>\n",
              "      <td>4717</td>\n",
              "      <td>4717</td>\n",
              "      <td>4717</td>\n",
              "      <td>4717</td>\n",
              "    </tr>\n",
              "    <tr>\n",
              "      <th>mean</th>\n",
              "      <td>139448</td>\n",
              "      <td>129</td>\n",
              "      <td>16137</td>\n",
              "      <td>64</td>\n",
              "      <td>2013</td>\n",
              "      <td>6</td>\n",
              "      <td>2018</td>\n",
              "      <td>5</td>\n",
              "    </tr>\n",
              "    <tr>\n",
              "      <th>std</th>\n",
              "      <td>57527</td>\n",
              "      <td>39</td>\n",
              "      <td>9088</td>\n",
              "      <td>27</td>\n",
              "      <td>2</td>\n",
              "      <td>3</td>\n",
              "      <td>0</td>\n",
              "      <td>2</td>\n",
              "    </tr>\n",
              "    <tr>\n",
              "      <th>min</th>\n",
              "      <td>64</td>\n",
              "      <td>25</td>\n",
              "      <td>1500</td>\n",
              "      <td>7</td>\n",
              "      <td>1995</td>\n",
              "      <td>1</td>\n",
              "      <td>2007</td>\n",
              "      <td>1</td>\n",
              "    </tr>\n",
              "    <tr>\n",
              "      <th>25%</th>\n",
              "      <td>101705</td>\n",
              "      <td>100</td>\n",
              "      <td>11100</td>\n",
              "      <td>49</td>\n",
              "      <td>2012</td>\n",
              "      <td>3</td>\n",
              "      <td>2018</td>\n",
              "      <td>3</td>\n",
              "    </tr>\n",
              "    <tr>\n",
              "      <th>50%</th>\n",
              "      <td>140084</td>\n",
              "      <td>120</td>\n",
              "      <td>14300</td>\n",
              "      <td>58</td>\n",
              "      <td>2013</td>\n",
              "      <td>6</td>\n",
              "      <td>2018</td>\n",
              "      <td>5</td>\n",
              "    </tr>\n",
              "    <tr>\n",
              "      <th>75%</th>\n",
              "      <td>174690</td>\n",
              "      <td>135</td>\n",
              "      <td>18800</td>\n",
              "      <td>71</td>\n",
              "      <td>2014</td>\n",
              "      <td>9</td>\n",
              "      <td>2018</td>\n",
              "      <td>7</td>\n",
              "    </tr>\n",
              "    <tr>\n",
              "      <th>max</th>\n",
              "      <td>484615</td>\n",
              "      <td>423</td>\n",
              "      <td>178500</td>\n",
              "      <td>274</td>\n",
              "      <td>2017</td>\n",
              "      <td>12</td>\n",
              "      <td>2018</td>\n",
              "      <td>9</td>\n",
              "    </tr>\n",
              "  </tbody>\n",
              "</table>\n",
              "</div>"
            ],
            "text/plain": [
              "          km  potencia  precio  tiemo_venta  year_registro  mes_registro   \n",
              "count   4717      4717    4717         4717           4717          4717  \\\n",
              "mean  139448       129   16137           64           2013             6   \n",
              "std    57527        39    9088           27              2             3   \n",
              "min       64        25    1500            7           1995             1   \n",
              "25%   101705       100   11100           49           2012             3   \n",
              "50%   140084       120   14300           58           2013             6   \n",
              "75%   174690       135   18800           71           2014             9   \n",
              "max   484615       423  178500          274           2017            12   \n",
              "\n",
              "       year_venta  mes_venta  \n",
              "count        4717       4717  \n",
              "mean         2018          5  \n",
              "std             0          2  \n",
              "min          2007          1  \n",
              "25%          2018          3  \n",
              "50%          2018          5  \n",
              "75%          2018          7  \n",
              "max          2018          9  "
            ]
          },
          "execution_count": 272,
          "metadata": {},
          "output_type": "execute_result"
        }
      ],
      "source": [
        "df.describe()"
      ]
    },
    {
      "cell_type": "markdown",
      "metadata": {
        "id": "2ONsIIQE4Pbe"
      },
      "source": [
        "#Distribucion del Target y Correlacion\n",
        "\n",
        "1)Explicaremos las clases de distribucion que existen\n",
        "\n",
        "2)Que es skew (sesgo)\n",
        "\n",
        "3)Funciones para normalizar la distribucion\n",
        "\n",
        "4)Correlacion entre variables\n",
        "\n"
      ]
    },
    {
      "cell_type": "code",
      "execution_count": 273,
      "metadata": {
        "colab": {
          "base_uri": "https://localhost:8080/",
          "height": 451
        },
        "id": "A-d-ei3uXW9_",
        "outputId": "39e817b0-e66f-4428-daa1-6a46728860a9"
      },
      "outputs": [
        {
          "data": {
            "text/plain": [
              "<Axes: >"
            ]
          },
          "execution_count": 273,
          "metadata": {},
          "output_type": "execute_result"
        },
        {
          "data": {
            "image/png": "[encoded data removed]",
            "text/plain": [
              "<Figure size 640x480 with 1 Axes>"
            ]
          },
          "metadata": {},
          "output_type": "display_data"
        }
      ],
      "source": [
        "df['precio'].hist()"
      ]
    },
    {
      "cell_type": "code",
      "execution_count": 274,
      "metadata": {
        "colab": {
          "base_uri": "https://localhost:8080/",
          "height": 553
        },
        "id": "ZWPXWTVmXW7Q",
        "outputId": "1314a41e-5dc6-4b17-fb40-48a42bf5e7b9"
      },
      "outputs": [
        {
          "data": {
            "image/png": "[encoded data removed]",
            "text/plain": [
              "<Figure size 1000x600 with 1 Axes>"
            ]
          },
          "metadata": {},
          "output_type": "display_data"
        }
      ],
      "source": [
        "sns.set(style=\"whitegrid\")\n",
        "plt.figure(figsize=(10,6))\n",
        "\n",
        "sns.histplot(df['precio'], kde=True, color=\"black\", bins=10)\n",
        "\n",
        "plt.xlabel('precio')\n",
        "plt.ylabel('frecuencia')\n",
        "plt.title(\" histograma de precios\")\n",
        "\n",
        "plt.show()"
      ]
    },
    {
      "cell_type": "code",
      "execution_count": 275,
      "metadata": {
        "colab": {
          "base_uri": "https://localhost:8080/"
        },
        "id": "g6UR3StAXW4y",
        "outputId": "2685640e-a456-4b38-e70f-b3a6ace58a5f"
      },
      "outputs": [
        {
          "name": "stdout",
          "output_type": "stream",
          "text": [
            "3.550878353760721\n"
          ]
        }
      ],
      "source": [
        "from scipy.stats import skew\n",
        "sesgo = df['precio'].skew()\n",
        "print(sesgo)"
      ]
    },
    {
      "cell_type": "code",
      "execution_count": 276,
      "metadata": {
        "id": "H_mNEMYyXW18"
      },
      "outputs": [],
      "source": [
        "# df['precio_sqrt'] = np.sqrt(df['precio'])"
      ]
    },
    {
      "cell_type": "code",
      "execution_count": 277,
      "metadata": {
        "id": "T41uHDM0bLv9"
      },
      "outputs": [],
      "source": [
        "# sesgo1 = df['precio_sqrt'].skew()\n",
        "# print(sesgo1)"
      ]
    },
    {
      "cell_type": "code",
      "execution_count": 278,
      "metadata": {
        "id": "npgwhRuHXWsH"
      },
      "outputs": [],
      "source": [
        "df['precio_log10'] = np.log10(df['precio'])"
      ]
    },
    {
      "cell_type": "code",
      "execution_count": 279,
      "metadata": {
        "colab": {
          "base_uri": "https://localhost:8080/"
        },
        "id": "Gx9njfF9XWqR",
        "outputId": "b424f1b3-1ee1-432d-ebd2-bc7ebdc3b4f9"
      },
      "outputs": [
        {
          "name": "stdout",
          "output_type": "stream",
          "text": [
            "-0.2702769930592099\n"
          ]
        }
      ],
      "source": [
        "sesgo2 = df['precio_log10'].skew()\n",
        "print(sesgo2)"
      ]
    },
    {
      "cell_type": "code",
      "execution_count": 280,
      "metadata": {
        "id": "4SeoqbXsXWko"
      },
      "outputs": [],
      "source": [
        "# df['precio_inversa'] = 1 / df['precio']"
      ]
    },
    {
      "cell_type": "code",
      "execution_count": 281,
      "metadata": {
        "id": "IAY4ch7rXWhf"
      },
      "outputs": [],
      "source": [
        "# sesgo3 = df['precio_inversa'].skew()\n",
        "# print(sesgo2)"
      ]
    },
    {
      "cell_type": "code",
      "execution_count": 282,
      "metadata": {
        "colab": {
          "base_uri": "https://localhost:8080/"
        },
        "id": "2CFIbO10cWFK",
        "outputId": "2a92854b-d8db-4382-da56-7386de9cebdb"
      },
      "outputs": [
        {
          "name": "stdout",
          "output_type": "stream",
          "text": [
            "3.550878353760721\n",
            "-0.2702769930592099\n"
          ]
        }
      ],
      "source": [
        "print(sesgo)\n",
        "# print(sesgo1)\n",
        "print(sesgo2)\n",
        "# print(sesgo3)"
      ]
    },
    {
      "cell_type": "code",
      "execution_count": 283,
      "metadata": {
        "colab": {
          "base_uri": "https://localhost:8080/",
          "height": 492
        },
        "id": "aEUJWfuBc253",
        "outputId": "680112a3-db21-4003-d88a-feb93bf4e31b"
      },
      "outputs": [
        {
          "data": {
            "text/plain": [
              "array([[<Axes: title={'center': 'precio'}>,\n",
              "        <Axes: title={'center': 'precio_log10'}>]], dtype=object)"
            ]
          },
          "execution_count": 283,
          "metadata": {},
          "output_type": "execute_result"
        },
        {
          "data": {
            "image/png": "[encoded data removed]",
            "text/plain": [
              "<Figure size 640x480 with 2 Axes>"
            ]
          },
          "metadata": {},
          "output_type": "display_data"
        }
      ],
      "source": [
        "df.hist(column=['precio', 'precio_log10'])"
      ]
    },
    {
      "cell_type": "code",
      "execution_count": 284,
      "metadata": {
        "id": "iduLr0zLdcnE"
      },
      "outputs": [],
      "source": [
        "data ={'columna_negativa': -np.random.randint(1, 1000, size=100)}\n",
        "\n",
        "data['columna_negativa'] -= min(data['columna_negativa']) - 1000\n",
        "\n",
        "df1 = pd.DataFrame(data)\n"
      ]
    },
    {
      "cell_type": "code",
      "execution_count": 285,
      "metadata": {
        "colab": {
          "base_uri": "https://localhost:8080/",
          "height": 474
        },
        "id": "4b35-P52egpU",
        "outputId": "f63f9a07-2cb8-4fc3-d1a0-996a7c6d0dde"
      },
      "outputs": [
        {
          "data": {
            "text/plain": [
              "array([[<Axes: title={'center': 'columna_negativa'}>]], dtype=object)"
            ]
          },
          "execution_count": 285,
          "metadata": {},
          "output_type": "execute_result"
        },
        {
          "data": {
            "image/png": "[encoded data removed]",
            "text/plain": [
              "<Figure size 640x480 with 1 Axes>"
            ]
          },
          "metadata": {},
          "output_type": "display_data"
        }
      ],
      "source": [
        "df1.hist()"
      ]
    },
    {
      "cell_type": "code",
      "execution_count": 286,
      "metadata": {
        "colab": {
          "base_uri": "https://localhost:8080/"
        },
        "id": "h7XHsa82eth5",
        "outputId": "60a7da16-9612-4945-eaf0-e4b8fcdddf1e"
      },
      "outputs": [
        {
          "name": "stdout",
          "output_type": "stream",
          "text": [
            "0.10432887455507504\n"
          ]
        }
      ],
      "source": [
        "sesgo_negativo = df1['columna_negativa'].skew()\n",
        "print(sesgo_negativo)"
      ]
    },
    {
      "cell_type": "code",
      "execution_count": 287,
      "metadata": {
        "id": "ga8nvt-3fDdn"
      },
      "outputs": [],
      "source": [
        "df1['columna_cubica'] = np.cbrt(-df1['columna_negativa'])"
      ]
    },
    {
      "cell_type": "code",
      "execution_count": 288,
      "metadata": {
        "colab": {
          "base_uri": "https://localhost:8080/"
        },
        "id": "PwosSjAWfiuP",
        "outputId": "98f30397-0bec-44fe-af34-ad642239fd0c"
      },
      "outputs": [
        {
          "name": "stdout",
          "output_type": "stream",
          "text": [
            "0.041558333010025574\n"
          ]
        }
      ],
      "source": [
        "sesgo_negativo1 = df1['columna_cubica'].skew()\n",
        "print(sesgo_negativo1)"
      ]
    },
    {
      "cell_type": "code",
      "execution_count": 289,
      "metadata": {
        "id": "t3hbZRRjfy6P"
      },
      "outputs": [],
      "source": [
        "from sklearn.preprocessing import StandardScaler\n",
        "scaler = StandardScaler()"
      ]
    },
    {
      "cell_type": "code",
      "execution_count": 290,
      "metadata": {
        "id": "B4EIHTndfyqg"
      },
      "outputs": [],
      "source": [
        "df1['columna_zscore'] = scaler.fit_transform(-df1['columna_negativa'].values.reshape(-1, 1))"
      ]
    },
    {
      "cell_type": "code",
      "execution_count": 291,
      "metadata": {
        "colab": {
          "base_uri": "https://localhost:8080/"
        },
        "id": "RBnMemdvfynQ",
        "outputId": "be4cdf8d-d441-4a9a-ce1c-e825d5673bd7"
      },
      "outputs": [
        {
          "name": "stdout",
          "output_type": "stream",
          "text": [
            "-0.10432887455507568\n"
          ]
        }
      ],
      "source": [
        "sesgo_negativo2 = df1['columna_zscore'].skew()\n",
        "print(sesgo_negativo2)"
      ]
    },
    {
      "cell_type": "code",
      "execution_count": 292,
      "metadata": {
        "colab": {
          "base_uri": "https://localhost:8080/"
        },
        "id": "e2-lwxbKfyjs",
        "outputId": "0b827919-3e93-4b7a-c8f2-80fdfd271d62"
      },
      "outputs": [
        {
          "name": "stdout",
          "output_type": "stream",
          "text": [
            "0.10432887455507504\n",
            "0.041558333010025574\n",
            "-0.10432887455507568\n"
          ]
        }
      ],
      "source": [
        "print(sesgo_negativo)\n",
        "print(sesgo_negativo1)\n",
        "print(sesgo_negativo2)\n"
      ]
    },
    {
      "cell_type": "code",
      "execution_count": 293,
      "metadata": {
        "colab": {
          "base_uri": "https://localhost:8080/",
          "height": 526
        },
        "id": "h6tqvCk5fygZ",
        "outputId": "42b16e5a-7e10-4d34-ab36-ad4c8f37b359"
      },
      "outputs": [
        {
          "data": {
            "text/plain": [
              "array([[<Axes: title={'center': 'columna_negativa'}>,\n",
              "        <Axes: title={'center': 'columna_cubica'}>],\n",
              "       [<Axes: title={'center': 'columna_zscore'}>, <Axes: >]],\n",
              "      dtype=object)"
            ]
          },
          "execution_count": 293,
          "metadata": {},
          "output_type": "execute_result"
        },
        {
          "data": {
            "image/png": "[encoded data removed]",
            "text/plain": [
              "<Figure size 640x480 with 4 Axes>"
            ]
          },
          "metadata": {},
          "output_type": "display_data"
        }
      ],
      "source": [
        "df1.hist(column=['columna_negativa','columna_cubica', 'columna_zscore'])"
      ]
    },
    {
      "cell_type": "code",
      "execution_count": 294,
      "metadata": {},
      "outputs": [
        {
          "data": {
            "text/plain": [
              "(4717, 21)"
            ]
          },
          "execution_count": 294,
          "metadata": {},
          "output_type": "execute_result"
        }
      ],
      "source": [
        "df.shape"
      ]
    },
    {
      "cell_type": "code",
      "execution_count": 295,
      "metadata": {
        "colab": {
          "base_uri": "https://localhost:8080/",
          "height": 320
        },
        "id": "zGdLgoW1hvhw",
        "outputId": "cbfccce3-0934-42a1-cb29-69f4d24a0d0a"
      },
      "outputs": [
        {
          "data": {
            "text/html": [
              "<div>\n",
              "<style scoped>\n",
              "    .dataframe tbody tr th:only-of-type {\n",
              "        vertical-align: middle;\n",
              "    }\n",
              "\n",
              "    .dataframe tbody tr th {\n",
              "        vertical-align: top;\n",
              "    }\n",
              "\n",
              "    .dataframe thead th {\n",
              "        text-align: right;\n",
              "    }\n",
              "</style>\n",
              "<table border=\"1\" class=\"dataframe\">\n",
              "  <thead>\n",
              "    <tr style=\"text-align: right;\">\n",
              "      <th></th>\n",
              "      <th>km</th>\n",
              "      <th>potencia</th>\n",
              "      <th>precio</th>\n",
              "      <th>tiemo_venta</th>\n",
              "      <th>year_registro</th>\n",
              "      <th>mes_registro</th>\n",
              "      <th>year_venta</th>\n",
              "      <th>mes_venta</th>\n",
              "      <th>precio_log10</th>\n",
              "    </tr>\n",
              "  </thead>\n",
              "  <tbody>\n",
              "    <tr>\n",
              "      <th>count</th>\n",
              "      <td>4717</td>\n",
              "      <td>4717</td>\n",
              "      <td>4717</td>\n",
              "      <td>4717</td>\n",
              "      <td>4717</td>\n",
              "      <td>4717</td>\n",
              "      <td>4717</td>\n",
              "      <td>4717</td>\n",
              "      <td>4717</td>\n",
              "    </tr>\n",
              "    <tr>\n",
              "      <th>mean</th>\n",
              "      <td>139448</td>\n",
              "      <td>129</td>\n",
              "      <td>16137</td>\n",
              "      <td>64</td>\n",
              "      <td>2013</td>\n",
              "      <td>6</td>\n",
              "      <td>2018</td>\n",
              "      <td>5</td>\n",
              "      <td>4</td>\n",
              "    </tr>\n",
              "    <tr>\n",
              "      <th>std</th>\n",
              "      <td>57527</td>\n",
              "      <td>39</td>\n",
              "      <td>9088</td>\n",
              "      <td>27</td>\n",
              "      <td>2</td>\n",
              "      <td>3</td>\n",
              "      <td>0</td>\n",
              "      <td>2</td>\n",
              "      <td>0</td>\n",
              "    </tr>\n",
              "    <tr>\n",
              "      <th>min</th>\n",
              "      <td>64</td>\n",
              "      <td>25</td>\n",
              "      <td>1500</td>\n",
              "      <td>7</td>\n",
              "      <td>1995</td>\n",
              "      <td>1</td>\n",
              "      <td>2007</td>\n",
              "      <td>1</td>\n",
              "      <td>3</td>\n",
              "    </tr>\n",
              "    <tr>\n",
              "      <th>25%</th>\n",
              "      <td>101705</td>\n",
              "      <td>100</td>\n",
              "      <td>11100</td>\n",
              "      <td>49</td>\n",
              "      <td>2012</td>\n",
              "      <td>3</td>\n",
              "      <td>2018</td>\n",
              "      <td>3</td>\n",
              "      <td>4</td>\n",
              "    </tr>\n",
              "    <tr>\n",
              "      <th>50%</th>\n",
              "      <td>140084</td>\n",
              "      <td>120</td>\n",
              "      <td>14300</td>\n",
              "      <td>58</td>\n",
              "      <td>2013</td>\n",
              "      <td>6</td>\n",
              "      <td>2018</td>\n",
              "      <td>5</td>\n",
              "      <td>4</td>\n",
              "    </tr>\n",
              "    <tr>\n",
              "      <th>75%</th>\n",
              "      <td>174690</td>\n",
              "      <td>135</td>\n",
              "      <td>18800</td>\n",
              "      <td>71</td>\n",
              "      <td>2014</td>\n",
              "      <td>9</td>\n",
              "      <td>2018</td>\n",
              "      <td>7</td>\n",
              "      <td>4</td>\n",
              "    </tr>\n",
              "    <tr>\n",
              "      <th>max</th>\n",
              "      <td>484615</td>\n",
              "      <td>423</td>\n",
              "      <td>178500</td>\n",
              "      <td>274</td>\n",
              "      <td>2017</td>\n",
              "      <td>12</td>\n",
              "      <td>2018</td>\n",
              "      <td>9</td>\n",
              "      <td>5</td>\n",
              "    </tr>\n",
              "  </tbody>\n",
              "</table>\n",
              "</div>"
            ],
            "text/plain": [
              "          km  potencia  precio  tiemo_venta  year_registro  mes_registro   \n",
              "count   4717      4717    4717         4717           4717          4717  \\\n",
              "mean  139448       129   16137           64           2013             6   \n",
              "std    57527        39    9088           27              2             3   \n",
              "min       64        25    1500            7           1995             1   \n",
              "25%   101705       100   11100           49           2012             3   \n",
              "50%   140084       120   14300           58           2013             6   \n",
              "75%   174690       135   18800           71           2014             9   \n",
              "max   484615       423  178500          274           2017            12   \n",
              "\n",
              "       year_venta  mes_venta  precio_log10  \n",
              "count        4717       4717          4717  \n",
              "mean         2018          5             4  \n",
              "std             0          2             0  \n",
              "min          2007          1             3  \n",
              "25%          2018          3             4  \n",
              "50%          2018          5             4  \n",
              "75%          2018          7             4  \n",
              "max          2018          9             5  "
            ]
          },
          "execution_count": 295,
          "metadata": {},
          "output_type": "execute_result"
        }
      ],
      "source": [
        "df.describe()"
      ]
    },
    {
      "cell_type": "markdown",
      "metadata": {},
      "source": [
        "Creo una copia para revertir el data frame original despues de utilzar el mapa de correlaciones ya que hare un dataframe que solo contenga las variables numericas"
      ]
    },
    {
      "cell_type": "code",
      "execution_count": 296,
      "metadata": {},
      "outputs": [],
      "source": [
        "df_original = df.copy()"
      ]
    },
    {
      "cell_type": "code",
      "execution_count": 297,
      "metadata": {
        "colab": {
          "base_uri": "https://localhost:8080/"
        },
        "id": "lK_goMmSh9jO",
        "outputId": "5b865360-cba6-4aff-84c9-1e49ee9d1405"
      },
      "outputs": [],
      "source": [
        "df = df.select_dtypes(include=['number'])  # Keep only numeric columns\n",
        "corr = df.corr()\n"
      ]
    },
    {
      "cell_type": "markdown",
      "metadata": {},
      "source": [
        "En el heatmap pueden apreciar la correlacion entre las dos variables que son las mismas precio y precio log , como hablan de lo mismo una de ellas tiene que ser eliminada si no a la hora del entrenamiento va overfitting lo veremos en el entrenamiento de modelo como afecta lo comento para que lo tengan en cuenta"
      ]
    },
    {
      "cell_type": "code",
      "execution_count": 298,
      "metadata": {
        "colab": {
          "base_uri": "https://localhost:8080/",
          "height": 602
        },
        "id": "Bmzx-MRLh9e7",
        "outputId": "b7f24957-2b02-4720-dc19-a046647e5451"
      },
      "outputs": [
        {
          "data": {
            "text/html": [
              "<style type=\"text/css\">\n",
              "#T_d718a_row0_col0, #T_d718a_row1_col1, #T_d718a_row2_col2, #T_d718a_row3_col3, #T_d718a_row4_col4, #T_d718a_row5_col5, #T_d718a_row6_col6, #T_d718a_row7_col7, #T_d718a_row8_col8 {\n",
              "  background-color: #b40426;\n",
              "  color: #f1f1f1;\n",
              "}\n",
              "#T_d718a_row0_col1, #T_d718a_row1_col7 {\n",
              "  background-color: #3f53c6;\n",
              "  color: #f1f1f1;\n",
              "}\n",
              "#T_d718a_row0_col2, #T_d718a_row7_col6, #T_d718a_row8_col0 {\n",
              "  background-color: #4257c9;\n",
              "  color: #f1f1f1;\n",
              "}\n",
              "#T_d718a_row0_col3 {\n",
              "  background-color: #f59c7d;\n",
              "  color: #000000;\n",
              "}\n",
              "#T_d718a_row0_col4 {\n",
              "  background-color: #8db0fe;\n",
              "  color: #000000;\n",
              "}\n",
              "#T_d718a_row0_col5 {\n",
              "  background-color: #5470de;\n",
              "  color: #f1f1f1;\n",
              "}\n",
              "#T_d718a_row0_col6, #T_d718a_row3_col1, #T_d718a_row3_col2, #T_d718a_row3_col4, #T_d718a_row3_col8, #T_d718a_row4_col0, #T_d718a_row4_col3, #T_d718a_row4_col5, #T_d718a_row4_col7 {\n",
              "  background-color: #3b4cc0;\n",
              "  color: #f1f1f1;\n",
              "}\n",
              "#T_d718a_row0_col7, #T_d718a_row1_col6, #T_d718a_row4_col6, #T_d718a_row5_col7, #T_d718a_row8_col7 {\n",
              "  background-color: #445acc;\n",
              "  color: #f1f1f1;\n",
              "}\n",
              "#T_d718a_row0_col8 {\n",
              "  background-color: #5a78e4;\n",
              "  color: #f1f1f1;\n",
              "}\n",
              "#T_d718a_row1_col0, #T_d718a_row6_col0 {\n",
              "  background-color: #a1c0ff;\n",
              "  color: #000000;\n",
              "}\n",
              "#T_d718a_row1_col2 {\n",
              "  background-color: #f4987a;\n",
              "  color: #000000;\n",
              "}\n",
              "#T_d718a_row1_col3 {\n",
              "  background-color: #d5dbe5;\n",
              "  color: #000000;\n",
              "}\n",
              "#T_d718a_row1_col4 {\n",
              "  background-color: #e2dad5;\n",
              "  color: #000000;\n",
              "}\n",
              "#T_d718a_row1_col5 {\n",
              "  background-color: #5572df;\n",
              "  color: #f1f1f1;\n",
              "}\n",
              "#T_d718a_row1_col8 {\n",
              "  background-color: #f39778;\n",
              "  color: #000000;\n",
              "}\n",
              "#T_d718a_row2_col0 {\n",
              "  background-color: #4c66d6;\n",
              "  color: #f1f1f1;\n",
              "}\n",
              "#T_d718a_row2_col1 {\n",
              "  background-color: #f7b99e;\n",
              "  color: #000000;\n",
              "}\n",
              "#T_d718a_row2_col3 {\n",
              "  background-color: #96b7ff;\n",
              "  color: #000000;\n",
              "}\n",
              "#T_d718a_row2_col4 {\n",
              "  background-color: #f6a586;\n",
              "  color: #000000;\n",
              "}\n",
              "#T_d718a_row2_col5, #T_d718a_row3_col5, #T_d718a_row8_col5 {\n",
              "  background-color: #4f69d9;\n",
              "  color: #f1f1f1;\n",
              "}\n",
              "#T_d718a_row2_col6, #T_d718a_row5_col1, #T_d718a_row6_col1, #T_d718a_row8_col6 {\n",
              "  background-color: #4961d2;\n",
              "  color: #f1f1f1;\n",
              "}\n",
              "#T_d718a_row2_col7 {\n",
              "  background-color: #4a63d3;\n",
              "  color: #f1f1f1;\n",
              "}\n",
              "#T_d718a_row2_col8 {\n",
              "  background-color: #cc403a;\n",
              "  color: #f1f1f1;\n",
              "}\n",
              "#T_d718a_row3_col0 {\n",
              "  background-color: #f7bca1;\n",
              "  color: #000000;\n",
              "}\n",
              "#T_d718a_row3_col6 {\n",
              "  background-color: #485fd1;\n",
              "  color: #f1f1f1;\n",
              "}\n",
              "#T_d718a_row3_col7 {\n",
              "  background-color: #7093f3;\n",
              "  color: #f1f1f1;\n",
              "}\n",
              "#T_d718a_row4_col1 {\n",
              "  background-color: #5875e1;\n",
              "  color: #f1f1f1;\n",
              "}\n",
              "#T_d718a_row4_col2 {\n",
              "  background-color: #f3c7b1;\n",
              "  color: #000000;\n",
              "}\n",
              "#T_d718a_row4_col8 {\n",
              "  background-color: #f39475;\n",
              "  color: #000000;\n",
              "}\n",
              "#T_d718a_row5_col0, #T_d718a_row7_col0 {\n",
              "  background-color: #a6c4fe;\n",
              "  color: #000000;\n",
              "}\n",
              "#T_d718a_row5_col2 {\n",
              "  background-color: #9abbff;\n",
              "  color: #000000;\n",
              "}\n",
              "#T_d718a_row5_col3 {\n",
              "  background-color: #d9dce1;\n",
              "  color: #000000;\n",
              "}\n",
              "#T_d718a_row5_col4 {\n",
              "  background-color: #cedaeb;\n",
              "  color: #000000;\n",
              "}\n",
              "#T_d718a_row5_col6 {\n",
              "  background-color: #3e51c5;\n",
              "  color: #f1f1f1;\n",
              "}\n",
              "#T_d718a_row5_col8 {\n",
              "  background-color: #b5cdfa;\n",
              "  color: #000000;\n",
              "}\n",
              "#T_d718a_row6_col2 {\n",
              "  background-color: #a3c2fe;\n",
              "  color: #000000;\n",
              "}\n",
              "#T_d718a_row6_col3 {\n",
              "  background-color: #dddcdc;\n",
              "  color: #000000;\n",
              "}\n",
              "#T_d718a_row6_col4 {\n",
              "  background-color: #dcdddd;\n",
              "  color: #000000;\n",
              "}\n",
              "#T_d718a_row6_col5 {\n",
              "  background-color: #516ddb;\n",
              "  color: #f1f1f1;\n",
              "}\n",
              "#T_d718a_row6_col7 {\n",
              "  background-color: #455cce;\n",
              "  color: #f1f1f1;\n",
              "}\n",
              "#T_d718a_row6_col8 {\n",
              "  background-color: #bcd2f7;\n",
              "  color: #000000;\n",
              "}\n",
              "#T_d718a_row7_col1 {\n",
              "  background-color: #4055c8;\n",
              "  color: #f1f1f1;\n",
              "}\n",
              "#T_d718a_row7_col2 {\n",
              "  background-color: #a2c1ff;\n",
              "  color: #000000;\n",
              "}\n",
              "#T_d718a_row7_col3 {\n",
              "  background-color: #ebd3c6;\n",
              "  color: #000000;\n",
              "}\n",
              "#T_d718a_row7_col4 {\n",
              "  background-color: #d6dce4;\n",
              "  color: #000000;\n",
              "}\n",
              "#T_d718a_row7_col5 {\n",
              "  background-color: #536edd;\n",
              "  color: #f1f1f1;\n",
              "}\n",
              "#T_d718a_row7_col8 {\n",
              "  background-color: #b7cff9;\n",
              "  color: #000000;\n",
              "}\n",
              "#T_d718a_row8_col1 {\n",
              "  background-color: #f4c5ad;\n",
              "  color: #000000;\n",
              "}\n",
              "#T_d718a_row8_col2 {\n",
              "  background-color: #cf453c;\n",
              "  color: #f1f1f1;\n",
              "}\n",
              "#T_d718a_row8_col3 {\n",
              "  background-color: #779af7;\n",
              "  color: #f1f1f1;\n",
              "}\n",
              "#T_d718a_row8_col4 {\n",
              "  background-color: #ec7f63;\n",
              "  color: #f1f1f1;\n",
              "}\n",
              "</style>\n",
              "<table id=\"T_d718a\">\n",
              "  <thead>\n",
              "    <tr>\n",
              "      <th class=\"blank level0\" >&nbsp;</th>\n",
              "      <th id=\"T_d718a_level0_col0\" class=\"col_heading level0 col0\" >km</th>\n",
              "      <th id=\"T_d718a_level0_col1\" class=\"col_heading level0 col1\" >potencia</th>\n",
              "      <th id=\"T_d718a_level0_col2\" class=\"col_heading level0 col2\" >precio</th>\n",
              "      <th id=\"T_d718a_level0_col3\" class=\"col_heading level0 col3\" >tiemo_venta</th>\n",
              "      <th id=\"T_d718a_level0_col4\" class=\"col_heading level0 col4\" >year_registro</th>\n",
              "      <th id=\"T_d718a_level0_col5\" class=\"col_heading level0 col5\" >mes_registro</th>\n",
              "      <th id=\"T_d718a_level0_col6\" class=\"col_heading level0 col6\" >year_venta</th>\n",
              "      <th id=\"T_d718a_level0_col7\" class=\"col_heading level0 col7\" >mes_venta</th>\n",
              "      <th id=\"T_d718a_level0_col8\" class=\"col_heading level0 col8\" >precio_log10</th>\n",
              "    </tr>\n",
              "  </thead>\n",
              "  <tbody>\n",
              "    <tr>\n",
              "      <th id=\"T_d718a_level0_row0\" class=\"row_heading level0 row0\" >km</th>\n",
              "      <td id=\"T_d718a_row0_col0\" class=\"data row0 col0\" >1.000000</td>\n",
              "      <td id=\"T_d718a_row0_col1\" class=\"data row0 col1\" >-0.032871</td>\n",
              "      <td id=\"T_d718a_row0_col2\" class=\"data row0 col2\" >-0.400994</td>\n",
              "      <td id=\"T_d718a_row0_col3\" class=\"data row0 col3\" >0.487513</td>\n",
              "      <td id=\"T_d718a_row0_col4\" class=\"data row0 col4\" >-0.490077</td>\n",
              "      <td id=\"T_d718a_row0_col5\" class=\"data row0 col5\" >-0.010417</td>\n",
              "      <td id=\"T_d718a_row0_col6\" class=\"data row0 col6\" >-0.035089</td>\n",
              "      <td id=\"T_d718a_row0_col7\" class=\"data row0 col7\" >-0.010965</td>\n",
              "      <td id=\"T_d718a_row0_col8\" class=\"data row0 col8\" >-0.449437</td>\n",
              "    </tr>\n",
              "    <tr>\n",
              "      <th id=\"T_d718a_level0_row1\" class=\"row_heading level0 row1\" >potencia</th>\n",
              "      <td id=\"T_d718a_row1_col0\" class=\"data row1 col0\" >-0.032871</td>\n",
              "      <td id=\"T_d718a_row1_col1\" class=\"data row1 col1\" >1.000000</td>\n",
              "      <td id=\"T_d718a_row1_col2\" class=\"data row1 col2\" >0.643228</td>\n",
              "      <td id=\"T_d718a_row1_col3\" class=\"data row1 col3\" >-0.052053</td>\n",
              "      <td id=\"T_d718a_row1_col4\" class=\"data row1 col4\" >0.050417</td>\n",
              "      <td id=\"T_d718a_row1_col5\" class=\"data row1 col5\" >-0.002715</td>\n",
              "      <td id=\"T_d718a_row1_col6\" class=\"data row1 col6\" >-0.001349</td>\n",
              "      <td id=\"T_d718a_row1_col7\" class=\"data row1 col7\" >-0.029809</td>\n",
              "      <td id=\"T_d718a_row1_col8\" class=\"data row1 col8\" >0.602692</td>\n",
              "    </tr>\n",
              "    <tr>\n",
              "      <th id=\"T_d718a_level0_row2\" class=\"row_heading level0 row2\" >precio</th>\n",
              "      <td id=\"T_d718a_row2_col0\" class=\"data row2 col0\" >-0.400994</td>\n",
              "      <td id=\"T_d718a_row2_col1\" class=\"data row2 col1\" >0.643228</td>\n",
              "      <td id=\"T_d718a_row2_col2\" class=\"data row2 col2\" >1.000000</td>\n",
              "      <td id=\"T_d718a_row2_col3\" class=\"data row2 col3\" >-0.439163</td>\n",
              "      <td id=\"T_d718a_row2_col4\" class=\"data row2 col4\" >0.445342</td>\n",
              "      <td id=\"T_d718a_row2_col5\" class=\"data row2 col5\" >-0.025954</td>\n",
              "      <td id=\"T_d718a_row2_col6\" class=\"data row2 col6\" >0.015275</td>\n",
              "      <td id=\"T_d718a_row2_col7\" class=\"data row2 col7\" >0.008671</td>\n",
              "      <td id=\"T_d718a_row2_col8\" class=\"data row2 col8\" >0.889860</td>\n",
              "    </tr>\n",
              "    <tr>\n",
              "      <th id=\"T_d718a_level0_row3\" class=\"row_heading level0 row3\" >tiemo_venta</th>\n",
              "      <td id=\"T_d718a_row3_col0\" class=\"data row3 col0\" >0.487513</td>\n",
              "      <td id=\"T_d718a_row3_col1\" class=\"data row3 col1\" >-0.052053</td>\n",
              "      <td id=\"T_d718a_row3_col2\" class=\"data row3 col2\" >-0.439163</td>\n",
              "      <td id=\"T_d718a_row3_col3\" class=\"data row3 col3\" >1.000000</td>\n",
              "      <td id=\"T_d718a_row3_col4\" class=\"data row3 col4\" >-0.988036</td>\n",
              "      <td id=\"T_d718a_row3_col5\" class=\"data row3 col5\" >-0.024857</td>\n",
              "      <td id=\"T_d718a_row3_col6\" class=\"data row3 col6\" >0.011283</td>\n",
              "      <td id=\"T_d718a_row3_col7\" class=\"data row3 col7\" >0.129345</td>\n",
              "      <td id=\"T_d718a_row3_col8\" class=\"data row3 col8\" >-0.614876</td>\n",
              "    </tr>\n",
              "    <tr>\n",
              "      <th id=\"T_d718a_level0_row4\" class=\"row_heading level0 row4\" >year_registro</th>\n",
              "      <td id=\"T_d718a_row4_col0\" class=\"data row4 col0\" >-0.490077</td>\n",
              "      <td id=\"T_d718a_row4_col1\" class=\"data row4 col1\" >0.050417</td>\n",
              "      <td id=\"T_d718a_row4_col2\" class=\"data row4 col2\" >0.445342</td>\n",
              "      <td id=\"T_d718a_row4_col3\" class=\"data row4 col3\" >-0.988036</td>\n",
              "      <td id=\"T_d718a_row4_col4\" class=\"data row4 col4\" >1.000000</td>\n",
              "      <td id=\"T_d718a_row4_col5\" class=\"data row4 col5\" >-0.101690</td>\n",
              "      <td id=\"T_d718a_row4_col6\" class=\"data row4 col6\" >0.000752</td>\n",
              "      <td id=\"T_d718a_row4_col7\" class=\"data row4 col7\" >-0.047099</td>\n",
              "      <td id=\"T_d718a_row4_col8\" class=\"data row4 col8\" >0.619788</td>\n",
              "    </tr>\n",
              "    <tr>\n",
              "      <th id=\"T_d718a_level0_row5\" class=\"row_heading level0 row5\" >mes_registro</th>\n",
              "      <td id=\"T_d718a_row5_col0\" class=\"data row5 col0\" >-0.010417</td>\n",
              "      <td id=\"T_d718a_row5_col1\" class=\"data row5 col1\" >-0.002715</td>\n",
              "      <td id=\"T_d718a_row5_col2\" class=\"data row5 col2\" >-0.025954</td>\n",
              "      <td id=\"T_d718a_row5_col3\" class=\"data row5 col3\" >-0.024857</td>\n",
              "      <td id=\"T_d718a_row5_col4\" class=\"data row5 col4\" >-0.101690</td>\n",
              "      <td id=\"T_d718a_row5_col5\" class=\"data row5 col5\" >1.000000</td>\n",
              "      <td id=\"T_d718a_row5_col6\" class=\"data row5 col6\" >-0.019174</td>\n",
              "      <td id=\"T_d718a_row5_col7\" class=\"data row5 col7\" >-0.014046</td>\n",
              "      <td id=\"T_d718a_row5_col8\" class=\"data row5 col8\" >-0.028040</td>\n",
              "    </tr>\n",
              "    <tr>\n",
              "      <th id=\"T_d718a_level0_row6\" class=\"row_heading level0 row6\" >year_venta</th>\n",
              "      <td id=\"T_d718a_row6_col0\" class=\"data row6 col0\" >-0.035089</td>\n",
              "      <td id=\"T_d718a_row6_col1\" class=\"data row6 col1\" >-0.001349</td>\n",
              "      <td id=\"T_d718a_row6_col2\" class=\"data row6 col2\" >0.015275</td>\n",
              "      <td id=\"T_d718a_row6_col3\" class=\"data row6 col3\" >0.011283</td>\n",
              "      <td id=\"T_d718a_row6_col4\" class=\"data row6 col4\" >0.000752</td>\n",
              "      <td id=\"T_d718a_row6_col5\" class=\"data row6 col5\" >-0.019174</td>\n",
              "      <td id=\"T_d718a_row6_col6\" class=\"data row6 col6\" >1.000000</td>\n",
              "      <td id=\"T_d718a_row6_col7\" class=\"data row6 col7\" >-0.010079</td>\n",
              "      <td id=\"T_d718a_row6_col8\" class=\"data row6 col8\" >0.015177</td>\n",
              "    </tr>\n",
              "    <tr>\n",
              "      <th id=\"T_d718a_level0_row7\" class=\"row_heading level0 row7\" >mes_venta</th>\n",
              "      <td id=\"T_d718a_row7_col0\" class=\"data row7 col0\" >-0.010965</td>\n",
              "      <td id=\"T_d718a_row7_col1\" class=\"data row7 col1\" >-0.029809</td>\n",
              "      <td id=\"T_d718a_row7_col2\" class=\"data row7 col2\" >0.008671</td>\n",
              "      <td id=\"T_d718a_row7_col3\" class=\"data row7 col3\" >0.129345</td>\n",
              "      <td id=\"T_d718a_row7_col4\" class=\"data row7 col4\" >-0.047099</td>\n",
              "      <td id=\"T_d718a_row7_col5\" class=\"data row7 col5\" >-0.014046</td>\n",
              "      <td id=\"T_d718a_row7_col6\" class=\"data row7 col6\" >-0.010079</td>\n",
              "      <td id=\"T_d718a_row7_col7\" class=\"data row7 col7\" >1.000000</td>\n",
              "      <td id=\"T_d718a_row7_col8\" class=\"data row7 col8\" >-0.014027</td>\n",
              "    </tr>\n",
              "    <tr>\n",
              "      <th id=\"T_d718a_level0_row8\" class=\"row_heading level0 row8\" >precio_log10</th>\n",
              "      <td id=\"T_d718a_row8_col0\" class=\"data row8 col0\" >-0.449437</td>\n",
              "      <td id=\"T_d718a_row8_col1\" class=\"data row8 col1\" >0.602692</td>\n",
              "      <td id=\"T_d718a_row8_col2\" class=\"data row8 col2\" >0.889860</td>\n",
              "      <td id=\"T_d718a_row8_col3\" class=\"data row8 col3\" >-0.614876</td>\n",
              "      <td id=\"T_d718a_row8_col4\" class=\"data row8 col4\" >0.619788</td>\n",
              "      <td id=\"T_d718a_row8_col5\" class=\"data row8 col5\" >-0.028040</td>\n",
              "      <td id=\"T_d718a_row8_col6\" class=\"data row8 col6\" >0.015177</td>\n",
              "      <td id=\"T_d718a_row8_col7\" class=\"data row8 col7\" >-0.014027</td>\n",
              "      <td id=\"T_d718a_row8_col8\" class=\"data row8 col8\" >1.000000</td>\n",
              "    </tr>\n",
              "  </tbody>\n",
              "</table>\n"
            ],
            "text/plain": [
              "<pandas.io.formats.style.Styler at 0x1a3dbeac4d0>"
            ]
          },
          "execution_count": 298,
          "metadata": {},
          "output_type": "execute_result"
        }
      ],
      "source": [
        "corr.style.background_gradient(cmap=\"coolwarm\")"
      ]
    },
    {
      "cell_type": "markdown",
      "metadata": {},
      "source": [
        "Revierto el dataframe original"
      ]
    },
    {
      "cell_type": "code",
      "execution_count": 299,
      "metadata": {},
      "outputs": [],
      "source": [
        "df = df_original.copy()"
      ]
    },
    {
      "cell_type": "code",
      "execution_count": 300,
      "metadata": {
        "colab": {
          "base_uri": "https://localhost:8080/",
          "height": 256
        },
        "id": "9vV-NXr5jF9W",
        "outputId": "38b25c86-adda-469a-c9eb-a503f1b791f4"
      },
      "outputs": [
        {
          "data": {
            "text/html": [
              "<div>\n",
              "<style scoped>\n",
              "    .dataframe tbody tr th:only-of-type {\n",
              "        vertical-align: middle;\n",
              "    }\n",
              "\n",
              "    .dataframe tbody tr th {\n",
              "        vertical-align: top;\n",
              "    }\n",
              "\n",
              "    .dataframe thead th {\n",
              "        text-align: right;\n",
              "    }\n",
              "</style>\n",
              "<table border=\"1\" class=\"dataframe\">\n",
              "  <thead>\n",
              "    <tr style=\"text-align: right;\">\n",
              "      <th></th>\n",
              "      <th>km</th>\n",
              "      <th>potencia</th>\n",
              "      <th>tipo_gasolina</th>\n",
              "      <th>color</th>\n",
              "      <th>tipo_coche</th>\n",
              "      <th>volante_regulable</th>\n",
              "      <th>aire_acondicionado</th>\n",
              "      <th>camara_trasera</th>\n",
              "      <th>asientos_traseros_plegables</th>\n",
              "      <th>elevalunas_electrico</th>\n",
              "      <th>...</th>\n",
              "      <th>gps</th>\n",
              "      <th>alerta_lim_velocidad</th>\n",
              "      <th>precio</th>\n",
              "      <th>tiemo_venta</th>\n",
              "      <th>year_registro</th>\n",
              "      <th>mes_registro</th>\n",
              "      <th>year_venta</th>\n",
              "      <th>mes_venta</th>\n",
              "      <th>modelo_agrupado</th>\n",
              "      <th>precio_log10</th>\n",
              "    </tr>\n",
              "  </thead>\n",
              "  <tbody>\n",
              "    <tr>\n",
              "      <th>0</th>\n",
              "      <td>140411</td>\n",
              "      <td>100</td>\n",
              "      <td>diesel</td>\n",
              "      <td>black</td>\n",
              "      <td>convertible</td>\n",
              "      <td>True</td>\n",
              "      <td>True</td>\n",
              "      <td>False</td>\n",
              "      <td>False</td>\n",
              "      <td>True</td>\n",
              "      <td>...</td>\n",
              "      <td>True</td>\n",
              "      <td>False</td>\n",
              "      <td>11300</td>\n",
              "      <td>72</td>\n",
              "      <td>2012</td>\n",
              "      <td>2</td>\n",
              "      <td>2018</td>\n",
              "      <td>1</td>\n",
              "      <td>M1</td>\n",
              "      <td>4</td>\n",
              "    </tr>\n",
              "    <tr>\n",
              "      <th>1</th>\n",
              "      <td>13929</td>\n",
              "      <td>317</td>\n",
              "      <td>petrol</td>\n",
              "      <td>grey</td>\n",
              "      <td>convertible</td>\n",
              "      <td>True</td>\n",
              "      <td>True</td>\n",
              "      <td>False</td>\n",
              "      <td>False</td>\n",
              "      <td>False</td>\n",
              "      <td>...</td>\n",
              "      <td>True</td>\n",
              "      <td>True</td>\n",
              "      <td>69700</td>\n",
              "      <td>22</td>\n",
              "      <td>2016</td>\n",
              "      <td>4</td>\n",
              "      <td>2018</td>\n",
              "      <td>2</td>\n",
              "      <td>Otros</td>\n",
              "      <td>5</td>\n",
              "    </tr>\n",
              "    <tr>\n",
              "      <th>2</th>\n",
              "      <td>183297</td>\n",
              "      <td>120</td>\n",
              "      <td>diesel</td>\n",
              "      <td>white</td>\n",
              "      <td>convertible</td>\n",
              "      <td>False</td>\n",
              "      <td>False</td>\n",
              "      <td>False</td>\n",
              "      <td>False</td>\n",
              "      <td>True</td>\n",
              "      <td>...</td>\n",
              "      <td>True</td>\n",
              "      <td>False</td>\n",
              "      <td>10200</td>\n",
              "      <td>71</td>\n",
              "      <td>2012</td>\n",
              "      <td>4</td>\n",
              "      <td>2018</td>\n",
              "      <td>2</td>\n",
              "      <td>M3</td>\n",
              "      <td>4</td>\n",
              "    </tr>\n",
              "    <tr>\n",
              "      <th>3</th>\n",
              "      <td>128035</td>\n",
              "      <td>135</td>\n",
              "      <td>diesel</td>\n",
              "      <td>red</td>\n",
              "      <td>convertible</td>\n",
              "      <td>True</td>\n",
              "      <td>True</td>\n",
              "      <td>False</td>\n",
              "      <td>False</td>\n",
              "      <td>True</td>\n",
              "      <td>...</td>\n",
              "      <td>True</td>\n",
              "      <td>True</td>\n",
              "      <td>25100</td>\n",
              "      <td>43</td>\n",
              "      <td>2014</td>\n",
              "      <td>7</td>\n",
              "      <td>2018</td>\n",
              "      <td>2</td>\n",
              "      <td>M4</td>\n",
              "      <td>4</td>\n",
              "    </tr>\n",
              "    <tr>\n",
              "      <th>4</th>\n",
              "      <td>97097</td>\n",
              "      <td>160</td>\n",
              "      <td>diesel</td>\n",
              "      <td>silver</td>\n",
              "      <td>convertible</td>\n",
              "      <td>True</td>\n",
              "      <td>True</td>\n",
              "      <td>False</td>\n",
              "      <td>False</td>\n",
              "      <td>False</td>\n",
              "      <td>...</td>\n",
              "      <td>True</td>\n",
              "      <td>True</td>\n",
              "      <td>33400</td>\n",
              "      <td>40</td>\n",
              "      <td>2014</td>\n",
              "      <td>12</td>\n",
              "      <td>2018</td>\n",
              "      <td>4</td>\n",
              "      <td>M4</td>\n",
              "      <td>5</td>\n",
              "    </tr>\n",
              "  </tbody>\n",
              "</table>\n",
              "<p>5 rows × 21 columns</p>\n",
              "</div>"
            ],
            "text/plain": [
              "      km  potencia tipo_gasolina   color   tipo_coche  volante_regulable   \n",
              "0 140411       100        diesel   black  convertible               True  \\\n",
              "1  13929       317        petrol    grey  convertible               True   \n",
              "2 183297       120        diesel   white  convertible              False   \n",
              "3 128035       135        diesel     red  convertible               True   \n",
              "4  97097       160        diesel  silver  convertible               True   \n",
              "\n",
              "   aire_acondicionado  camara_trasera  asientos_traseros_plegables   \n",
              "0                True           False                        False  \\\n",
              "1                True           False                        False   \n",
              "2               False           False                        False   \n",
              "3                True           False                        False   \n",
              "4                True           False                        False   \n",
              "\n",
              "   elevalunas_electrico  ...   gps  alerta_lim_velocidad  precio  tiemo_venta   \n",
              "0                  True  ...  True                 False   11300           72  \\\n",
              "1                 False  ...  True                  True   69700           22   \n",
              "2                  True  ...  True                 False   10200           71   \n",
              "3                  True  ...  True                  True   25100           43   \n",
              "4                 False  ...  True                  True   33400           40   \n",
              "\n",
              "   year_registro  mes_registro  year_venta  mes_venta  modelo_agrupado   \n",
              "0           2012             2        2018          1               M1  \\\n",
              "1           2016             4        2018          2            Otros   \n",
              "2           2012             4        2018          2               M3   \n",
              "3           2014             7        2018          2               M4   \n",
              "4           2014            12        2018          4               M4   \n",
              "\n",
              "  precio_log10  \n",
              "0            4  \n",
              "1            5  \n",
              "2            4  \n",
              "3            4  \n",
              "4            5  \n",
              "\n",
              "[5 rows x 21 columns]"
            ]
          },
          "execution_count": 300,
          "metadata": {},
          "output_type": "execute_result"
        }
      ],
      "source": [
        "df.head()"
      ]
    },
    {
      "cell_type": "markdown",
      "metadata": {
        "id": "UJMfKiw0kTjQ"
      },
      "source": [
        "# Encodificar variables categoricas & Guardar df_limpio\n",
        "1) OrdinalEncoder\n",
        "\n",
        "2) get.dummies\n",
        "\n",
        "3)Guardarlo el data final limpio en un formato apropiado para la creacion del modelo de regresion para predecir el precio\n",
        "\n",
        "\n"
      ]
    },
    {
      "cell_type": "code",
      "execution_count": 301,
      "metadata": {
        "colab": {
          "base_uri": "https://localhost:8080/"
        },
        "id": "oM6If3fFQ99p",
        "outputId": "f23db170-ad9f-4044-ae6b-db6f7378c7fc"
      },
      "outputs": [
        {
          "name": "stdout",
          "output_type": "stream",
          "text": [
            "<class 'pandas.core.frame.DataFrame'>\n",
            "Index: 4717 entries, 0 to 4802\n",
            "Data columns (total 21 columns):\n",
            " #   Column                       Non-Null Count  Dtype  \n",
            "---  ------                       --------------  -----  \n",
            " 0   km                           4717 non-null   float64\n",
            " 1   potencia                     4717 non-null   float64\n",
            " 2   tipo_gasolina                4717 non-null   object \n",
            " 3   color                        4717 non-null   object \n",
            " 4   tipo_coche                   4717 non-null   object \n",
            " 5   volante_regulable            4717 non-null   bool   \n",
            " 6   aire_acondicionado           4717 non-null   bool   \n",
            " 7   camara_trasera               4717 non-null   bool   \n",
            " 8   asientos_traseros_plegables  4717 non-null   bool   \n",
            " 9   elevalunas_electrico         4717 non-null   bool   \n",
            " 10  bluetooth                    4717 non-null   bool   \n",
            " 11  gps                          4717 non-null   bool   \n",
            " 12  alerta_lim_velocidad         4717 non-null   bool   \n",
            " 13  precio                       4717 non-null   float64\n",
            " 14  tiemo_venta                  4717 non-null   int64  \n",
            " 15  year_registro                4717 non-null   int32  \n",
            " 16  mes_registro                 4717 non-null   int32  \n",
            " 17  year_venta                   4717 non-null   int32  \n",
            " 18  mes_venta                    4717 non-null   int32  \n",
            " 19  modelo_agrupado              4717 non-null   object \n",
            " 20  precio_log10                 4717 non-null   float64\n",
            "dtypes: bool(8), float64(4), int32(4), int64(1), object(4)\n",
            "memory usage: 479.1+ KB\n"
          ]
        }
      ],
      "source": [
        "df.info()"
      ]
    },
    {
      "cell_type": "code",
      "execution_count": 302,
      "metadata": {
        "id": "n2Co8fUdQ96h"
      },
      "outputs": [],
      "source": [
        "df.reset_index(drop=True, inplace=True)"
      ]
    },
    {
      "cell_type": "code",
      "execution_count": 303,
      "metadata": {
        "id": "PVWnUtLPQ93L"
      },
      "outputs": [],
      "source": [
        "target = ['precio']"
      ]
    },
    {
      "cell_type": "code",
      "execution_count": 304,
      "metadata": {
        "id": "7q3ISzFZQ9xn"
      },
      "outputs": [],
      "source": [
        "def obtener_lista_variables(dataset):\n",
        "    lista_numericas=[]\n",
        "    lista_boolean=[]\n",
        "    lista_categoricas=[]\n",
        "    for i in dataset:\n",
        "        if (dataset[i].dtype.kind==\"f\" or dataset[i].dtype.kind==\"i\") and len(dataset[i].unique())!= 2 and i not in target:\n",
        "             lista_numericas.append(i)\n",
        "        elif (dataset[i].dtype.kind==\"f\" or dataset[i].dtype.kind==\"i\" or dataset[i].dtype.kind==\"b\") and len(dataset[i].unique())== 2 and i not in target:\n",
        "              lista_boolean.append(i)\n",
        "        elif (dataset[i].dtype.kind==\"O\") and i not in target:\n",
        "              lista_categoricas.append(i)\n",
        "\n",
        "\n",
        "    return lista_numericas, lista_boolean, lista_categoricas"
      ]
    },
    {
      "cell_type": "code",
      "execution_count": 305,
      "metadata": {
        "id": "p5zK0M_aQ9Xm"
      },
      "outputs": [],
      "source": [
        "lista_numericas, lista_boolean, lista_categoricas= obtener_lista_variables(df)"
      ]
    },
    {
      "cell_type": "code",
      "execution_count": 306,
      "metadata": {
        "colab": {
          "base_uri": "https://localhost:8080/"
        },
        "id": "lT82QJqxQ9SY",
        "outputId": "5b4cc747-18f5-4037-ad24-b34c531a3089"
      },
      "outputs": [
        {
          "data": {
            "text/plain": [
              "['tipo_gasolina', 'color', 'tipo_coche', 'modelo_agrupado']"
            ]
          },
          "execution_count": 306,
          "metadata": {},
          "output_type": "execute_result"
        }
      ],
      "source": [
        "lista_categoricas"
      ]
    },
    {
      "cell_type": "code",
      "execution_count": 307,
      "metadata": {
        "id": "XbbVOgu9Q9Px"
      },
      "outputs": [],
      "source": [
        "df = pd.get_dummies(df, columns=lista_categoricas)"
      ]
    },
    {
      "cell_type": "code",
      "execution_count": 308,
      "metadata": {
        "colab": {
          "base_uri": "https://localhost:8080/"
        },
        "id": "rieLdhPGQ9KY",
        "outputId": "c74ff4e5-eb5f-4cfe-8d4b-fad5be5c15cd"
      },
      "outputs": [
        {
          "name": "stdout",
          "output_type": "stream",
          "text": [
            "<class 'pandas.core.frame.DataFrame'>\n",
            "RangeIndex: 4717 entries, 0 to 4716\n",
            "Data columns (total 48 columns):\n",
            " #   Column                       Non-Null Count  Dtype  \n",
            "---  ------                       --------------  -----  \n",
            " 0   km                           4717 non-null   float64\n",
            " 1   potencia                     4717 non-null   float64\n",
            " 2   volante_regulable            4717 non-null   bool   \n",
            " 3   aire_acondicionado           4717 non-null   bool   \n",
            " 4   camara_trasera               4717 non-null   bool   \n",
            " 5   asientos_traseros_plegables  4717 non-null   bool   \n",
            " 6   elevalunas_electrico         4717 non-null   bool   \n",
            " 7   bluetooth                    4717 non-null   bool   \n",
            " 8   gps                          4717 non-null   bool   \n",
            " 9   alerta_lim_velocidad         4717 non-null   bool   \n",
            " 10  precio                       4717 non-null   float64\n",
            " 11  tiemo_venta                  4717 non-null   int64  \n",
            " 12  year_registro                4717 non-null   int32  \n",
            " 13  mes_registro                 4717 non-null   int32  \n",
            " 14  year_venta                   4717 non-null   int32  \n",
            " 15  mes_venta                    4717 non-null   int32  \n",
            " 16  precio_log10                 4717 non-null   float64\n",
            " 17  tipo_gasolina_diesel         4717 non-null   bool   \n",
            " 18  tipo_gasolina_electro        4717 non-null   bool   \n",
            " 19  tipo_gasolina_hybrid_petrol  4717 non-null   bool   \n",
            " 20  tipo_gasolina_petrol         4717 non-null   bool   \n",
            " 21  color_beige                  4717 non-null   bool   \n",
            " 22  color_black                  4717 non-null   bool   \n",
            " 23  color_blue                   4717 non-null   bool   \n",
            " 24  color_brown                  4717 non-null   bool   \n",
            " 25  color_green                  4717 non-null   bool   \n",
            " 26  color_grey                   4717 non-null   bool   \n",
            " 27  color_orange                 4717 non-null   bool   \n",
            " 28  color_red                    4717 non-null   bool   \n",
            " 29  color_silver                 4717 non-null   bool   \n",
            " 30  color_white                  4717 non-null   bool   \n",
            " 31  tipo_coche_convertible       4717 non-null   bool   \n",
            " 32  tipo_coche_coupe             4717 non-null   bool   \n",
            " 33  tipo_coche_estate            4717 non-null   bool   \n",
            " 34  tipo_coche_hatchback         4717 non-null   bool   \n",
            " 35  tipo_coche_sedan             4717 non-null   bool   \n",
            " 36  tipo_coche_subcompact        4717 non-null   bool   \n",
            " 37  tipo_coche_suv               4717 non-null   bool   \n",
            " 38  tipo_coche_van               4717 non-null   bool   \n",
            " 39  modelo_agrupado_M1           4717 non-null   bool   \n",
            " 40  modelo_agrupado_M2           4717 non-null   bool   \n",
            " 41  modelo_agrupado_M3           4717 non-null   bool   \n",
            " 42  modelo_agrupado_M4           4717 non-null   bool   \n",
            " 43  modelo_agrupado_M5           4717 non-null   bool   \n",
            " 44  modelo_agrupado_M6           4717 non-null   bool   \n",
            " 45  modelo_agrupado_M7           4717 non-null   bool   \n",
            " 46  modelo_agrupado_Otros        4717 non-null   bool   \n",
            " 47  modelo_agrupado_XSERIES      4717 non-null   bool   \n",
            "dtypes: bool(39), float64(4), int32(4), int64(1)\n",
            "memory usage: 437.7 KB\n"
          ]
        }
      ],
      "source": [
        "df.info()"
      ]
    },
    {
      "cell_type": "code",
      "execution_count": 309,
      "metadata": {
        "colab": {
          "base_uri": "https://localhost:8080/",
          "height": 256
        },
        "id": "pm58Qp0fQ9HW",
        "outputId": "49543700-5d9e-4965-82a4-ac0f03cd58f3"
      },
      "outputs": [
        {
          "data": {
            "text/html": [
              "<div>\n",
              "<style scoped>\n",
              "    .dataframe tbody tr th:only-of-type {\n",
              "        vertical-align: middle;\n",
              "    }\n",
              "\n",
              "    .dataframe tbody tr th {\n",
              "        vertical-align: top;\n",
              "    }\n",
              "\n",
              "    .dataframe thead th {\n",
              "        text-align: right;\n",
              "    }\n",
              "</style>\n",
              "<table border=\"1\" class=\"dataframe\">\n",
              "  <thead>\n",
              "    <tr style=\"text-align: right;\">\n",
              "      <th></th>\n",
              "      <th>km</th>\n",
              "      <th>potencia</th>\n",
              "      <th>volante_regulable</th>\n",
              "      <th>aire_acondicionado</th>\n",
              "      <th>camara_trasera</th>\n",
              "      <th>asientos_traseros_plegables</th>\n",
              "      <th>elevalunas_electrico</th>\n",
              "      <th>bluetooth</th>\n",
              "      <th>gps</th>\n",
              "      <th>alerta_lim_velocidad</th>\n",
              "      <th>...</th>\n",
              "      <th>tipo_coche_van</th>\n",
              "      <th>modelo_agrupado_M1</th>\n",
              "      <th>modelo_agrupado_M2</th>\n",
              "      <th>modelo_agrupado_M3</th>\n",
              "      <th>modelo_agrupado_M4</th>\n",
              "      <th>modelo_agrupado_M5</th>\n",
              "      <th>modelo_agrupado_M6</th>\n",
              "      <th>modelo_agrupado_M7</th>\n",
              "      <th>modelo_agrupado_Otros</th>\n",
              "      <th>modelo_agrupado_XSERIES</th>\n",
              "    </tr>\n",
              "  </thead>\n",
              "  <tbody>\n",
              "    <tr>\n",
              "      <th>0</th>\n",
              "      <td>140411</td>\n",
              "      <td>100</td>\n",
              "      <td>True</td>\n",
              "      <td>True</td>\n",
              "      <td>False</td>\n",
              "      <td>False</td>\n",
              "      <td>True</td>\n",
              "      <td>True</td>\n",
              "      <td>True</td>\n",
              "      <td>False</td>\n",
              "      <td>...</td>\n",
              "      <td>False</td>\n",
              "      <td>True</td>\n",
              "      <td>False</td>\n",
              "      <td>False</td>\n",
              "      <td>False</td>\n",
              "      <td>False</td>\n",
              "      <td>False</td>\n",
              "      <td>False</td>\n",
              "      <td>False</td>\n",
              "      <td>False</td>\n",
              "    </tr>\n",
              "    <tr>\n",
              "      <th>1</th>\n",
              "      <td>13929</td>\n",
              "      <td>317</td>\n",
              "      <td>True</td>\n",
              "      <td>True</td>\n",
              "      <td>False</td>\n",
              "      <td>False</td>\n",
              "      <td>False</td>\n",
              "      <td>True</td>\n",
              "      <td>True</td>\n",
              "      <td>True</td>\n",
              "      <td>...</td>\n",
              "      <td>False</td>\n",
              "      <td>False</td>\n",
              "      <td>False</td>\n",
              "      <td>False</td>\n",
              "      <td>False</td>\n",
              "      <td>False</td>\n",
              "      <td>False</td>\n",
              "      <td>False</td>\n",
              "      <td>True</td>\n",
              "      <td>False</td>\n",
              "    </tr>\n",
              "    <tr>\n",
              "      <th>2</th>\n",
              "      <td>183297</td>\n",
              "      <td>120</td>\n",
              "      <td>False</td>\n",
              "      <td>False</td>\n",
              "      <td>False</td>\n",
              "      <td>False</td>\n",
              "      <td>True</td>\n",
              "      <td>False</td>\n",
              "      <td>True</td>\n",
              "      <td>False</td>\n",
              "      <td>...</td>\n",
              "      <td>False</td>\n",
              "      <td>False</td>\n",
              "      <td>False</td>\n",
              "      <td>True</td>\n",
              "      <td>False</td>\n",
              "      <td>False</td>\n",
              "      <td>False</td>\n",
              "      <td>False</td>\n",
              "      <td>False</td>\n",
              "      <td>False</td>\n",
              "    </tr>\n",
              "    <tr>\n",
              "      <th>3</th>\n",
              "      <td>128035</td>\n",
              "      <td>135</td>\n",
              "      <td>True</td>\n",
              "      <td>True</td>\n",
              "      <td>False</td>\n",
              "      <td>False</td>\n",
              "      <td>True</td>\n",
              "      <td>True</td>\n",
              "      <td>True</td>\n",
              "      <td>True</td>\n",
              "      <td>...</td>\n",
              "      <td>False</td>\n",
              "      <td>False</td>\n",
              "      <td>False</td>\n",
              "      <td>False</td>\n",
              "      <td>True</td>\n",
              "      <td>False</td>\n",
              "      <td>False</td>\n",
              "      <td>False</td>\n",
              "      <td>False</td>\n",
              "      <td>False</td>\n",
              "    </tr>\n",
              "    <tr>\n",
              "      <th>4</th>\n",
              "      <td>97097</td>\n",
              "      <td>160</td>\n",
              "      <td>True</td>\n",
              "      <td>True</td>\n",
              "      <td>False</td>\n",
              "      <td>False</td>\n",
              "      <td>False</td>\n",
              "      <td>True</td>\n",
              "      <td>True</td>\n",
              "      <td>True</td>\n",
              "      <td>...</td>\n",
              "      <td>False</td>\n",
              "      <td>False</td>\n",
              "      <td>False</td>\n",
              "      <td>False</td>\n",
              "      <td>True</td>\n",
              "      <td>False</td>\n",
              "      <td>False</td>\n",
              "      <td>False</td>\n",
              "      <td>False</td>\n",
              "      <td>False</td>\n",
              "    </tr>\n",
              "    <tr>\n",
              "      <th>5</th>\n",
              "      <td>152352</td>\n",
              "      <td>225</td>\n",
              "      <td>True</td>\n",
              "      <td>True</td>\n",
              "      <td>False</td>\n",
              "      <td>False</td>\n",
              "      <td>True</td>\n",
              "      <td>True</td>\n",
              "      <td>True</td>\n",
              "      <td>True</td>\n",
              "      <td>...</td>\n",
              "      <td>False</td>\n",
              "      <td>False</td>\n",
              "      <td>False</td>\n",
              "      <td>True</td>\n",
              "      <td>False</td>\n",
              "      <td>False</td>\n",
              "      <td>False</td>\n",
              "      <td>False</td>\n",
              "      <td>False</td>\n",
              "      <td>False</td>\n",
              "    </tr>\n",
              "    <tr>\n",
              "      <th>6</th>\n",
              "      <td>205219</td>\n",
              "      <td>145</td>\n",
              "      <td>True</td>\n",
              "      <td>True</td>\n",
              "      <td>False</td>\n",
              "      <td>False</td>\n",
              "      <td>True</td>\n",
              "      <td>True</td>\n",
              "      <td>True</td>\n",
              "      <td>True</td>\n",
              "      <td>...</td>\n",
              "      <td>False</td>\n",
              "      <td>False</td>\n",
              "      <td>False</td>\n",
              "      <td>True</td>\n",
              "      <td>False</td>\n",
              "      <td>False</td>\n",
              "      <td>False</td>\n",
              "      <td>False</td>\n",
              "      <td>False</td>\n",
              "      <td>False</td>\n",
              "    </tr>\n",
              "    <tr>\n",
              "      <th>7</th>\n",
              "      <td>115560</td>\n",
              "      <td>105</td>\n",
              "      <td>True</td>\n",
              "      <td>True</td>\n",
              "      <td>False</td>\n",
              "      <td>False</td>\n",
              "      <td>False</td>\n",
              "      <td>True</td>\n",
              "      <td>True</td>\n",
              "      <td>False</td>\n",
              "      <td>...</td>\n",
              "      <td>False</td>\n",
              "      <td>True</td>\n",
              "      <td>False</td>\n",
              "      <td>False</td>\n",
              "      <td>False</td>\n",
              "      <td>False</td>\n",
              "      <td>False</td>\n",
              "      <td>False</td>\n",
              "      <td>False</td>\n",
              "      <td>False</td>\n",
              "    </tr>\n",
              "    <tr>\n",
              "      <th>8</th>\n",
              "      <td>123886</td>\n",
              "      <td>125</td>\n",
              "      <td>True</td>\n",
              "      <td>False</td>\n",
              "      <td>False</td>\n",
              "      <td>False</td>\n",
              "      <td>False</td>\n",
              "      <td>True</td>\n",
              "      <td>True</td>\n",
              "      <td>False</td>\n",
              "      <td>...</td>\n",
              "      <td>False</td>\n",
              "      <td>False</td>\n",
              "      <td>False</td>\n",
              "      <td>False</td>\n",
              "      <td>False</td>\n",
              "      <td>False</td>\n",
              "      <td>False</td>\n",
              "      <td>False</td>\n",
              "      <td>True</td>\n",
              "      <td>False</td>\n",
              "    </tr>\n",
              "    <tr>\n",
              "      <th>9</th>\n",
              "      <td>139541</td>\n",
              "      <td>135</td>\n",
              "      <td>False</td>\n",
              "      <td>False</td>\n",
              "      <td>False</td>\n",
              "      <td>False</td>\n",
              "      <td>True</td>\n",
              "      <td>False</td>\n",
              "      <td>True</td>\n",
              "      <td>False</td>\n",
              "      <td>...</td>\n",
              "      <td>False</td>\n",
              "      <td>False</td>\n",
              "      <td>False</td>\n",
              "      <td>True</td>\n",
              "      <td>False</td>\n",
              "      <td>False</td>\n",
              "      <td>False</td>\n",
              "      <td>False</td>\n",
              "      <td>False</td>\n",
              "      <td>False</td>\n",
              "    </tr>\n",
              "  </tbody>\n",
              "</table>\n",
              "<p>10 rows × 48 columns</p>\n",
              "</div>"
            ],
            "text/plain": [
              "      km  potencia  volante_regulable  aire_acondicionado  camara_trasera   \n",
              "0 140411       100               True                True           False  \\\n",
              "1  13929       317               True                True           False   \n",
              "2 183297       120              False               False           False   \n",
              "3 128035       135               True                True           False   \n",
              "4  97097       160               True                True           False   \n",
              "5 152352       225               True                True           False   \n",
              "6 205219       145               True                True           False   \n",
              "7 115560       105               True                True           False   \n",
              "8 123886       125               True               False           False   \n",
              "9 139541       135              False               False           False   \n",
              "\n",
              "   asientos_traseros_plegables  elevalunas_electrico  bluetooth   gps   \n",
              "0                        False                  True       True  True  \\\n",
              "1                        False                 False       True  True   \n",
              "2                        False                  True      False  True   \n",
              "3                        False                  True       True  True   \n",
              "4                        False                 False       True  True   \n",
              "5                        False                  True       True  True   \n",
              "6                        False                  True       True  True   \n",
              "7                        False                 False       True  True   \n",
              "8                        False                 False       True  True   \n",
              "9                        False                  True      False  True   \n",
              "\n",
              "   alerta_lim_velocidad  ...  tipo_coche_van  modelo_agrupado_M1   \n",
              "0                 False  ...           False                True  \\\n",
              "1                  True  ...           False               False   \n",
              "2                 False  ...           False               False   \n",
              "3                  True  ...           False               False   \n",
              "4                  True  ...           False               False   \n",
              "5                  True  ...           False               False   \n",
              "6                  True  ...           False               False   \n",
              "7                 False  ...           False                True   \n",
              "8                 False  ...           False               False   \n",
              "9                 False  ...           False               False   \n",
              "\n",
              "   modelo_agrupado_M2  modelo_agrupado_M3  modelo_agrupado_M4   \n",
              "0               False               False               False  \\\n",
              "1               False               False               False   \n",
              "2               False                True               False   \n",
              "3               False               False                True   \n",
              "4               False               False                True   \n",
              "5               False                True               False   \n",
              "6               False                True               False   \n",
              "7               False               False               False   \n",
              "8               False               False               False   \n",
              "9               False                True               False   \n",
              "\n",
              "   modelo_agrupado_M5  modelo_agrupado_M6  modelo_agrupado_M7   \n",
              "0               False               False               False  \\\n",
              "1               False               False               False   \n",
              "2               False               False               False   \n",
              "3               False               False               False   \n",
              "4               False               False               False   \n",
              "5               False               False               False   \n",
              "6               False               False               False   \n",
              "7               False               False               False   \n",
              "8               False               False               False   \n",
              "9               False               False               False   \n",
              "\n",
              "   modelo_agrupado_Otros  modelo_agrupado_XSERIES  \n",
              "0                  False                    False  \n",
              "1                   True                    False  \n",
              "2                  False                    False  \n",
              "3                  False                    False  \n",
              "4                  False                    False  \n",
              "5                  False                    False  \n",
              "6                  False                    False  \n",
              "7                  False                    False  \n",
              "8                   True                    False  \n",
              "9                  False                    False  \n",
              "\n",
              "[10 rows x 48 columns]"
            ]
          },
          "execution_count": 309,
          "metadata": {},
          "output_type": "execute_result"
        }
      ],
      "source": [
        "df.head(10)"
      ]
    },
    {
      "cell_type": "code",
      "execution_count": 310,
      "metadata": {
        "id": "6NHm6LCVQ9BR"
      },
      "outputs": [],
      "source": [
        "# guardar csv powerbi,tableu"
      ]
    },
    {
      "cell_type": "code",
      "execution_count": 313,
      "metadata": {
        "id": "2Y3EZCCvQ88V"
      },
      "outputs": [],
      "source": [
        "df.to_csv(\"C:/Users/JOSUE/Downloads/Preprocessing_BMW/Bmw_Preprocessing/Data/Visualizaciones.csv\", index=False)"
      ]
    },
    {
      "cell_type": "code",
      "execution_count": 314,
      "metadata": {
        "id": "dTawQK8UQ84r"
      },
      "outputs": [],
      "source": [
        "df21 = pd.read_csv(r\"C:\\Users\\JOSUE\\Downloads\\Preprocessing_BMW\\Bmw_Preprocessing\\Data\\Visualizaciones.csv\")"
      ]
    },
    {
      "cell_type": "code",
      "execution_count": 315,
      "metadata": {
        "colab": {
          "base_uri": "https://localhost:8080/"
        },
        "id": "Tk9CaJJ8VF2T",
        "outputId": "d37b6830-a19f-45fe-b94e-8a9d6b213186"
      },
      "outputs": [
        {
          "name": "stdout",
          "output_type": "stream",
          "text": [
            "<class 'pandas.core.frame.DataFrame'>\n",
            "RangeIndex: 4717 entries, 0 to 4716\n",
            "Data columns (total 48 columns):\n",
            " #   Column                       Non-Null Count  Dtype  \n",
            "---  ------                       --------------  -----  \n",
            " 0   km                           4717 non-null   float64\n",
            " 1   potencia                     4717 non-null   float64\n",
            " 2   volante_regulable            4717 non-null   bool   \n",
            " 3   aire_acondicionado           4717 non-null   bool   \n",
            " 4   camara_trasera               4717 non-null   bool   \n",
            " 5   asientos_traseros_plegables  4717 non-null   bool   \n",
            " 6   elevalunas_electrico         4717 non-null   bool   \n",
            " 7   bluetooth                    4717 non-null   bool   \n",
            " 8   gps                          4717 non-null   bool   \n",
            " 9   alerta_lim_velocidad         4717 non-null   bool   \n",
            " 10  precio                       4717 non-null   float64\n",
            " 11  tiemo_venta                  4717 non-null   int64  \n",
            " 12  year_registro                4717 non-null   int64  \n",
            " 13  mes_registro                 4717 non-null   int64  \n",
            " 14  year_venta                   4717 non-null   int64  \n",
            " 15  mes_venta                    4717 non-null   int64  \n",
            " 16  precio_log10                 4717 non-null   float64\n",
            " 17  tipo_gasolina_diesel         4717 non-null   bool   \n",
            " 18  tipo_gasolina_electro        4717 non-null   bool   \n",
            " 19  tipo_gasolina_hybrid_petrol  4717 non-null   bool   \n",
            " 20  tipo_gasolina_petrol         4717 non-null   bool   \n",
            " 21  color_beige                  4717 non-null   bool   \n",
            " 22  color_black                  4717 non-null   bool   \n",
            " 23  color_blue                   4717 non-null   bool   \n",
            " 24  color_brown                  4717 non-null   bool   \n",
            " 25  color_green                  4717 non-null   bool   \n",
            " 26  color_grey                   4717 non-null   bool   \n",
            " 27  color_orange                 4717 non-null   bool   \n",
            " 28  color_red                    4717 non-null   bool   \n",
            " 29  color_silver                 4717 non-null   bool   \n",
            " 30  color_white                  4717 non-null   bool   \n",
            " 31  tipo_coche_convertible       4717 non-null   bool   \n",
            " 32  tipo_coche_coupe             4717 non-null   bool   \n",
            " 33  tipo_coche_estate            4717 non-null   bool   \n",
            " 34  tipo_coche_hatchback         4717 non-null   bool   \n",
            " 35  tipo_coche_sedan             4717 non-null   bool   \n",
            " 36  tipo_coche_subcompact        4717 non-null   bool   \n",
            " 37  tipo_coche_suv               4717 non-null   bool   \n",
            " 38  tipo_coche_van               4717 non-null   bool   \n",
            " 39  modelo_agrupado_M1           4717 non-null   bool   \n",
            " 40  modelo_agrupado_M2           4717 non-null   bool   \n",
            " 41  modelo_agrupado_M3           4717 non-null   bool   \n",
            " 42  modelo_agrupado_M4           4717 non-null   bool   \n",
            " 43  modelo_agrupado_M5           4717 non-null   bool   \n",
            " 44  modelo_agrupado_M6           4717 non-null   bool   \n",
            " 45  modelo_agrupado_M7           4717 non-null   bool   \n",
            " 46  modelo_agrupado_Otros        4717 non-null   bool   \n",
            " 47  modelo_agrupado_XSERIES      4717 non-null   bool   \n",
            "dtypes: bool(39), float64(4), int64(5)\n",
            "memory usage: 511.4 KB\n"
          ]
        }
      ],
      "source": [
        "df21.info()"
      ]
    },
    {
      "cell_type": "code",
      "execution_count": 318,
      "metadata": {
        "id": "bW-CtYNbVPGU"
      },
      "outputs": [],
      "source": [
        "df.to_pickle(r\"C:/Users/JOSUE/Downloads/Preprocessing_BMW/Bmw_Preprocessing/Data/limpio.pkl\")"
      ]
    },
    {
      "cell_type": "code",
      "execution_count": 325,
      "metadata": {
        "id": "yUSeWCsNVlbL"
      },
      "outputs": [],
      "source": [
        "df22 = pd.read_pickle(r'C:\\Users\\JOSUE\\Downloads\\Preprocessing_BMW\\Bmw_Preprocessing\\Data\\limpio.pkl')"
      ]
    },
    {
      "cell_type": "code",
      "execution_count": 326,
      "metadata": {
        "colab": {
          "base_uri": "https://localhost:8080/"
        },
        "id": "Khyw0ga7VuN4",
        "outputId": "28af0544-acfa-4b6e-c143-9c531244ac8b"
      },
      "outputs": [
        {
          "name": "stdout",
          "output_type": "stream",
          "text": [
            "<class 'pandas.core.frame.DataFrame'>\n",
            "RangeIndex: 4717 entries, 0 to 4716\n",
            "Data columns (total 48 columns):\n",
            " #   Column                       Non-Null Count  Dtype  \n",
            "---  ------                       --------------  -----  \n",
            " 0   km                           4717 non-null   float64\n",
            " 1   potencia                     4717 non-null   float64\n",
            " 2   volante_regulable            4717 non-null   bool   \n",
            " 3   aire_acondicionado           4717 non-null   bool   \n",
            " 4   camara_trasera               4717 non-null   bool   \n",
            " 5   asientos_traseros_plegables  4717 non-null   bool   \n",
            " 6   elevalunas_electrico         4717 non-null   bool   \n",
            " 7   bluetooth                    4717 non-null   bool   \n",
            " 8   gps                          4717 non-null   bool   \n",
            " 9   alerta_lim_velocidad         4717 non-null   bool   \n",
            " 10  precio                       4717 non-null   float64\n",
            " 11  tiemo_venta                  4717 non-null   int64  \n",
            " 12  year_registro                4717 non-null   int32  \n",
            " 13  mes_registro                 4717 non-null   int32  \n",
            " 14  year_venta                   4717 non-null   int32  \n",
            " 15  mes_venta                    4717 non-null   int32  \n",
            " 16  precio_log10                 4717 non-null   float64\n",
            " 17  tipo_gasolina_diesel         4717 non-null   bool   \n",
            " 18  tipo_gasolina_electro        4717 non-null   bool   \n",
            " 19  tipo_gasolina_hybrid_petrol  4717 non-null   bool   \n",
            " 20  tipo_gasolina_petrol         4717 non-null   bool   \n",
            " 21  color_beige                  4717 non-null   bool   \n",
            " 22  color_black                  4717 non-null   bool   \n",
            " 23  color_blue                   4717 non-null   bool   \n",
            " 24  color_brown                  4717 non-null   bool   \n",
            " 25  color_green                  4717 non-null   bool   \n",
            " 26  color_grey                   4717 non-null   bool   \n",
            " 27  color_orange                 4717 non-null   bool   \n",
            " 28  color_red                    4717 non-null   bool   \n",
            " 29  color_silver                 4717 non-null   bool   \n",
            " 30  color_white                  4717 non-null   bool   \n",
            " 31  tipo_coche_convertible       4717 non-null   bool   \n",
            " 32  tipo_coche_coupe             4717 non-null   bool   \n",
            " 33  tipo_coche_estate            4717 non-null   bool   \n",
            " 34  tipo_coche_hatchback         4717 non-null   bool   \n",
            " 35  tipo_coche_sedan             4717 non-null   bool   \n",
            " 36  tipo_coche_subcompact        4717 non-null   bool   \n",
            " 37  tipo_coche_suv               4717 non-null   bool   \n",
            " 38  tipo_coche_van               4717 non-null   bool   \n",
            " 39  modelo_agrupado_M1           4717 non-null   bool   \n",
            " 40  modelo_agrupado_M2           4717 non-null   bool   \n",
            " 41  modelo_agrupado_M3           4717 non-null   bool   \n",
            " 42  modelo_agrupado_M4           4717 non-null   bool   \n",
            " 43  modelo_agrupado_M5           4717 non-null   bool   \n",
            " 44  modelo_agrupado_M6           4717 non-null   bool   \n",
            " 45  modelo_agrupado_M7           4717 non-null   bool   \n",
            " 46  modelo_agrupado_Otros        4717 non-null   bool   \n",
            " 47  modelo_agrupado_XSERIES      4717 non-null   bool   \n",
            "dtypes: bool(39), float64(4), int32(4), int64(1)\n",
            "memory usage: 437.7 KB\n"
          ]
        }
      ],
      "source": [
        "df22.info()"
      ]
    },
    {
      "cell_type": "code",
      "execution_count": 327,
      "metadata": {
        "id": "KpxJsuPSV0yN"
      },
      "outputs": [],
      "source": [
        "import joblib"
      ]
    },
    {
      "cell_type": "code",
      "execution_count": 328,
      "metadata": {
        "colab": {
          "base_uri": "https://localhost:8080/"
        },
        "id": "lC7ABRnzV3V6",
        "outputId": "136031bb-798a-493e-c66c-01effceda7c6"
      },
      "outputs": [
        {
          "data": {
            "text/plain": [
              "['C:/Users/JOSUE/Downloads/Preprocessing_BMW/Bmw_Preprocessing/Data/limpio2.joblib']"
            ]
          },
          "execution_count": 328,
          "metadata": {},
          "output_type": "execute_result"
        }
      ],
      "source": [
        "joblib.dump(df, r\"C:/Users/JOSUE/Downloads/Preprocessing_BMW/Bmw_Preprocessing/Data/limpio2.joblib\")"
      ]
    },
    {
      "cell_type": "code",
      "execution_count": 329,
      "metadata": {
        "id": "zucN8OpBV5I8"
      },
      "outputs": [],
      "source": [
        "df23 = joblib.load(\"Data/limpio2.joblib\")"
      ]
    },
    {
      "cell_type": "code",
      "execution_count": 330,
      "metadata": {
        "colab": {
          "base_uri": "https://localhost:8080/"
        },
        "id": "hLg3CYJcWU-Y",
        "outputId": "6035f6e1-4e02-40b8-8814-c565de95a8e3"
      },
      "outputs": [
        {
          "name": "stdout",
          "output_type": "stream",
          "text": [
            "<class 'pandas.core.frame.DataFrame'>\n",
            "RangeIndex: 4717 entries, 0 to 4716\n",
            "Data columns (total 48 columns):\n",
            " #   Column                       Non-Null Count  Dtype  \n",
            "---  ------                       --------------  -----  \n",
            " 0   km                           4717 non-null   float64\n",
            " 1   potencia                     4717 non-null   float64\n",
            " 2   volante_regulable            4717 non-null   bool   \n",
            " 3   aire_acondicionado           4717 non-null   bool   \n",
            " 4   camara_trasera               4717 non-null   bool   \n",
            " 5   asientos_traseros_plegables  4717 non-null   bool   \n",
            " 6   elevalunas_electrico         4717 non-null   bool   \n",
            " 7   bluetooth                    4717 non-null   bool   \n",
            " 8   gps                          4717 non-null   bool   \n",
            " 9   alerta_lim_velocidad         4717 non-null   bool   \n",
            " 10  precio                       4717 non-null   float64\n",
            " 11  tiemo_venta                  4717 non-null   int64  \n",
            " 12  year_registro                4717 non-null   int32  \n",
            " 13  mes_registro                 4717 non-null   int32  \n",
            " 14  year_venta                   4717 non-null   int32  \n",
            " 15  mes_venta                    4717 non-null   int32  \n",
            " 16  precio_log10                 4717 non-null   float64\n",
            " 17  tipo_gasolina_diesel         4717 non-null   bool   \n",
            " 18  tipo_gasolina_electro        4717 non-null   bool   \n",
            " 19  tipo_gasolina_hybrid_petrol  4717 non-null   bool   \n",
            " 20  tipo_gasolina_petrol         4717 non-null   bool   \n",
            " 21  color_beige                  4717 non-null   bool   \n",
            " 22  color_black                  4717 non-null   bool   \n",
            " 23  color_blue                   4717 non-null   bool   \n",
            " 24  color_brown                  4717 non-null   bool   \n",
            " 25  color_green                  4717 non-null   bool   \n",
            " 26  color_grey                   4717 non-null   bool   \n",
            " 27  color_orange                 4717 non-null   bool   \n",
            " 28  color_red                    4717 non-null   bool   \n",
            " 29  color_silver                 4717 non-null   bool   \n",
            " 30  color_white                  4717 non-null   bool   \n",
            " 31  tipo_coche_convertible       4717 non-null   bool   \n",
            " 32  tipo_coche_coupe             4717 non-null   bool   \n",
            " 33  tipo_coche_estate            4717 non-null   bool   \n",
            " 34  tipo_coche_hatchback         4717 non-null   bool   \n",
            " 35  tipo_coche_sedan             4717 non-null   bool   \n",
            " 36  tipo_coche_subcompact        4717 non-null   bool   \n",
            " 37  tipo_coche_suv               4717 non-null   bool   \n",
            " 38  tipo_coche_van               4717 non-null   bool   \n",
            " 39  modelo_agrupado_M1           4717 non-null   bool   \n",
            " 40  modelo_agrupado_M2           4717 non-null   bool   \n",
            " 41  modelo_agrupado_M3           4717 non-null   bool   \n",
            " 42  modelo_agrupado_M4           4717 non-null   bool   \n",
            " 43  modelo_agrupado_M5           4717 non-null   bool   \n",
            " 44  modelo_agrupado_M6           4717 non-null   bool   \n",
            " 45  modelo_agrupado_M7           4717 non-null   bool   \n",
            " 46  modelo_agrupado_Otros        4717 non-null   bool   \n",
            " 47  modelo_agrupado_XSERIES      4717 non-null   bool   \n",
            "dtypes: bool(39), float64(4), int32(4), int64(1)\n",
            "memory usage: 437.7 KB\n"
          ]
        }
      ],
      "source": [
        "df23.info()"
      ]
    }
  ],
  "metadata": {
    "colab": {
      "authorship_tag": "ABX9TyN14Va7N+DifgLd9cUq7tCY",
      "include_colab_link": true,
      "provenance": []
    },
    "kernelspec": {
      "display_name": "Python 3",
      "name": "python3"
    },
    "language_info": {
      "codemirror_mode": {
        "name": "ipython",
        "version": 3
      },
      "file_extension": ".py",
      "mimetype": "text/x-python",
      "name": "python",
      "nbconvert_exporter": "python",
      "pygments_lexer": "ipython3",
      "version": "3.11.6"
    }
  },
  "nbformat": 4,
  "nbformat_minor": 0
}
