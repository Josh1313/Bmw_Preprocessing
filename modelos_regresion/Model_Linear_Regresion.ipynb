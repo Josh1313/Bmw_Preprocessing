{
 "cells": [
  {
   "cell_type": "code",
   "execution_count": 1,
   "metadata": {},
   "outputs": [],
   "source": [
    "import pandas as pd\n",
    "import numpy as np\n",
    "from sklearn.model_selection import train_test_split\n",
    "from sklearn.preprocessing import StandardScaler\n",
    "from sklearn.linear_model import LinearRegression\n",
    "from sklearn.metrics import mean_squared_error, r2_score, mean_absolute_error\n",
    "import joblib\n"
   ]
  },
  {
   "cell_type": "code",
   "execution_count": 2,
   "metadata": {},
   "outputs": [],
   "source": [
    "df = joblib.load(r\"C:\\Users\\JOSUE\\Downloads\\Preprocessing_BMW\\Bmw_Preprocessing\\Data\\limpio2.joblib\")"
   ]
  },
  {
   "cell_type": "markdown",
   "metadata": {},
   "source": [
    "Dividir el conjunto de datos en características (features) y objetivo (target).\n",
    "\n",
    "Dividir el conjunto de datos en entrenamiento y prueba.\n",
    "\n",
    "Escalar los datos.\n",
    "\n",
    "Construir y entrenar el modelo.\n",
    "\n",
    "Hacer predicciones utilizando el modelo entrenado en el conjunto de prueba.\n",
    "\n",
    "Evaluar el modelo.\n",
    "\n",
    " Tema de discusion Deje a proposito una variable explicativa que hara overfitting"
   ]
  },
  {
   "cell_type": "markdown",
   "metadata": {},
   "source": [
    "A continuacion los seis codigos que tienes que memorizar para poder la informacion basica y visualizar anomalias,nullos,duplicados"
   ]
  },
  {
   "cell_type": "code",
   "execution_count": 3,
   "metadata": {},
   "outputs": [
    {
     "data": {
      "text/plain": [
       "(4717, 48)"
      ]
     },
     "execution_count": 3,
     "metadata": {},
     "output_type": "execute_result"
    }
   ],
   "source": [
    "# COLUMNAS Y FILAS\n",
    "df.shape"
   ]
  },
  {
   "cell_type": "code",
   "execution_count": 4,
   "metadata": {},
   "outputs": [
    {
     "name": "stdout",
     "output_type": "stream",
     "text": [
      "<class 'pandas.core.frame.DataFrame'>\n",
      "RangeIndex: 4717 entries, 0 to 4716\n",
      "Data columns (total 48 columns):\n",
      " #   Column                       Non-Null Count  Dtype  \n",
      "---  ------                       --------------  -----  \n",
      " 0   km                           4717 non-null   float64\n",
      " 1   potencia                     4717 non-null   float64\n",
      " 2   volante_regulable            4717 non-null   bool   \n",
      " 3   aire_acondicionado           4717 non-null   bool   \n",
      " 4   camara_trasera               4717 non-null   bool   \n",
      " 5   asientos_traseros_plegables  4717 non-null   bool   \n",
      " 6   elevalunas_electrico         4717 non-null   bool   \n",
      " 7   bluetooth                    4717 non-null   bool   \n",
      " 8   gps                          4717 non-null   bool   \n",
      " 9   alerta_lim_velocidad         4717 non-null   bool   \n",
      " 10  precio                       4717 non-null   float64\n",
      " 11  tiemo_venta                  4717 non-null   int64  \n",
      " 12  year_registro                4717 non-null   int32  \n",
      " 13  mes_registro                 4717 non-null   int32  \n",
      " 14  year_venta                   4717 non-null   int32  \n",
      " 15  mes_venta                    4717 non-null   int32  \n",
      " 16  precio_log10                 4717 non-null   float64\n",
      " 17  tipo_gasolina_diesel         4717 non-null   bool   \n",
      " 18  tipo_gasolina_electro        4717 non-null   bool   \n",
      " 19  tipo_gasolina_hybrid_petrol  4717 non-null   bool   \n",
      " 20  tipo_gasolina_petrol         4717 non-null   bool   \n",
      " 21  color_beige                  4717 non-null   bool   \n",
      " 22  color_black                  4717 non-null   bool   \n",
      " 23  color_blue                   4717 non-null   bool   \n",
      " 24  color_brown                  4717 non-null   bool   \n",
      " 25  color_green                  4717 non-null   bool   \n",
      " 26  color_grey                   4717 non-null   bool   \n",
      " 27  color_orange                 4717 non-null   bool   \n",
      " 28  color_red                    4717 non-null   bool   \n",
      " 29  color_silver                 4717 non-null   bool   \n",
      " 30  color_white                  4717 non-null   bool   \n",
      " 31  tipo_coche_convertible       4717 non-null   bool   \n",
      " 32  tipo_coche_coupe             4717 non-null   bool   \n",
      " 33  tipo_coche_estate            4717 non-null   bool   \n",
      " 34  tipo_coche_hatchback         4717 non-null   bool   \n",
      " 35  tipo_coche_sedan             4717 non-null   bool   \n",
      " 36  tipo_coche_subcompact        4717 non-null   bool   \n",
      " 37  tipo_coche_suv               4717 non-null   bool   \n",
      " 38  tipo_coche_van               4717 non-null   bool   \n",
      " 39  modelo_agrupado_M1           4717 non-null   bool   \n",
      " 40  modelo_agrupado_M2           4717 non-null   bool   \n",
      " 41  modelo_agrupado_M3           4717 non-null   bool   \n",
      " 42  modelo_agrupado_M4           4717 non-null   bool   \n",
      " 43  modelo_agrupado_M5           4717 non-null   bool   \n",
      " 44  modelo_agrupado_M6           4717 non-null   bool   \n",
      " 45  modelo_agrupado_M7           4717 non-null   bool   \n",
      " 46  modelo_agrupado_Otros        4717 non-null   bool   \n",
      " 47  modelo_agrupado_XSERIES      4717 non-null   bool   \n",
      "dtypes: bool(39), float64(4), int32(4), int64(1)\n",
      "memory usage: 437.7 KB\n"
     ]
    }
   ],
   "source": [
    "# INFORMACION BASICA Y FORMATOS DE LAS VARIABLES\n",
    "df.info()"
   ]
  },
  {
   "cell_type": "code",
   "execution_count": 5,
   "metadata": {},
   "outputs": [
    {
     "data": {
      "text/html": [
       "<div>\n",
       "<style scoped>\n",
       "    .dataframe tbody tr th:only-of-type {\n",
       "        vertical-align: middle;\n",
       "    }\n",
       "\n",
       "    .dataframe tbody tr th {\n",
       "        vertical-align: top;\n",
       "    }\n",
       "\n",
       "    .dataframe thead th {\n",
       "        text-align: right;\n",
       "    }\n",
       "</style>\n",
       "<table border=\"1\" class=\"dataframe\">\n",
       "  <thead>\n",
       "    <tr style=\"text-align: right;\">\n",
       "      <th></th>\n",
       "      <th>km</th>\n",
       "      <th>potencia</th>\n",
       "      <th>precio</th>\n",
       "      <th>tiemo_venta</th>\n",
       "      <th>year_registro</th>\n",
       "      <th>mes_registro</th>\n",
       "      <th>year_venta</th>\n",
       "      <th>mes_venta</th>\n",
       "      <th>precio_log10</th>\n",
       "    </tr>\n",
       "  </thead>\n",
       "  <tbody>\n",
       "    <tr>\n",
       "      <th>count</th>\n",
       "      <td>4717.000000</td>\n",
       "      <td>4717.000000</td>\n",
       "      <td>4717.000000</td>\n",
       "      <td>4717.000000</td>\n",
       "      <td>4717.000000</td>\n",
       "      <td>4717.000000</td>\n",
       "      <td>4717.000000</td>\n",
       "      <td>4717.000000</td>\n",
       "      <td>4717.000000</td>\n",
       "    </tr>\n",
       "    <tr>\n",
       "      <th>mean</th>\n",
       "      <td>139448.224295</td>\n",
       "      <td>129.491202</td>\n",
       "      <td>16136.591054</td>\n",
       "      <td>64.072504</td>\n",
       "      <td>2012.583634</td>\n",
       "      <td>6.148187</td>\n",
       "      <td>2017.991944</td>\n",
       "      <td>4.933644</td>\n",
       "      <td>4.153639</td>\n",
       "    </tr>\n",
       "    <tr>\n",
       "      <th>std</th>\n",
       "      <td>57527.449161</td>\n",
       "      <td>39.138271</td>\n",
       "      <td>9087.514204</td>\n",
       "      <td>26.979366</td>\n",
       "      <td>2.204853</td>\n",
       "      <td>3.310975</td>\n",
       "      <td>0.278466</td>\n",
       "      <td>2.154853</td>\n",
       "      <td>0.218322</td>\n",
       "    </tr>\n",
       "    <tr>\n",
       "      <th>min</th>\n",
       "      <td>64.000000</td>\n",
       "      <td>25.000000</td>\n",
       "      <td>1500.000000</td>\n",
       "      <td>7.000000</td>\n",
       "      <td>1995.000000</td>\n",
       "      <td>1.000000</td>\n",
       "      <td>2007.000000</td>\n",
       "      <td>1.000000</td>\n",
       "      <td>3.176091</td>\n",
       "    </tr>\n",
       "    <tr>\n",
       "      <th>25%</th>\n",
       "      <td>101705.000000</td>\n",
       "      <td>100.000000</td>\n",
       "      <td>11100.000000</td>\n",
       "      <td>49.000000</td>\n",
       "      <td>2012.000000</td>\n",
       "      <td>3.000000</td>\n",
       "      <td>2018.000000</td>\n",
       "      <td>3.000000</td>\n",
       "      <td>4.045323</td>\n",
       "    </tr>\n",
       "    <tr>\n",
       "      <th>50%</th>\n",
       "      <td>140084.000000</td>\n",
       "      <td>120.000000</td>\n",
       "      <td>14300.000000</td>\n",
       "      <td>58.000000</td>\n",
       "      <td>2013.000000</td>\n",
       "      <td>6.000000</td>\n",
       "      <td>2018.000000</td>\n",
       "      <td>5.000000</td>\n",
       "      <td>4.155336</td>\n",
       "    </tr>\n",
       "    <tr>\n",
       "      <th>75%</th>\n",
       "      <td>174690.000000</td>\n",
       "      <td>135.000000</td>\n",
       "      <td>18800.000000</td>\n",
       "      <td>71.000000</td>\n",
       "      <td>2014.000000</td>\n",
       "      <td>9.000000</td>\n",
       "      <td>2018.000000</td>\n",
       "      <td>7.000000</td>\n",
       "      <td>4.274158</td>\n",
       "    </tr>\n",
       "    <tr>\n",
       "      <th>max</th>\n",
       "      <td>484615.000000</td>\n",
       "      <td>423.000000</td>\n",
       "      <td>178500.000000</td>\n",
       "      <td>274.000000</td>\n",
       "      <td>2017.000000</td>\n",
       "      <td>12.000000</td>\n",
       "      <td>2018.000000</td>\n",
       "      <td>9.000000</td>\n",
       "      <td>5.251638</td>\n",
       "    </tr>\n",
       "  </tbody>\n",
       "</table>\n",
       "</div>"
      ],
      "text/plain": [
       "                  km     potencia         precio  tiemo_venta  year_registro   \n",
       "count    4717.000000  4717.000000    4717.000000  4717.000000    4717.000000  \\\n",
       "mean   139448.224295   129.491202   16136.591054    64.072504    2012.583634   \n",
       "std     57527.449161    39.138271    9087.514204    26.979366       2.204853   \n",
       "min        64.000000    25.000000    1500.000000     7.000000    1995.000000   \n",
       "25%    101705.000000   100.000000   11100.000000    49.000000    2012.000000   \n",
       "50%    140084.000000   120.000000   14300.000000    58.000000    2013.000000   \n",
       "75%    174690.000000   135.000000   18800.000000    71.000000    2014.000000   \n",
       "max    484615.000000   423.000000  178500.000000   274.000000    2017.000000   \n",
       "\n",
       "       mes_registro   year_venta    mes_venta  precio_log10  \n",
       "count   4717.000000  4717.000000  4717.000000   4717.000000  \n",
       "mean       6.148187  2017.991944     4.933644      4.153639  \n",
       "std        3.310975     0.278466     2.154853      0.218322  \n",
       "min        1.000000  2007.000000     1.000000      3.176091  \n",
       "25%        3.000000  2018.000000     3.000000      4.045323  \n",
       "50%        6.000000  2018.000000     5.000000      4.155336  \n",
       "75%        9.000000  2018.000000     7.000000      4.274158  \n",
       "max       12.000000  2018.000000     9.000000      5.251638  "
      ]
     },
     "execution_count": 5,
     "metadata": {},
     "output_type": "execute_result"
    }
   ],
   "source": [
    "#INFORMACION DESCRIPTIVA VER ANOMALIAS NUMEROS NEGATIVOS O DISCREPANCIAS EN LAS VARIABLES\n",
    "df.describe()"
   ]
  },
  {
   "cell_type": "code",
   "execution_count": 6,
   "metadata": {},
   "outputs": [
    {
     "data": {
      "text/html": [
       "<div>\n",
       "<style scoped>\n",
       "    .dataframe tbody tr th:only-of-type {\n",
       "        vertical-align: middle;\n",
       "    }\n",
       "\n",
       "    .dataframe tbody tr th {\n",
       "        vertical-align: top;\n",
       "    }\n",
       "\n",
       "    .dataframe thead th {\n",
       "        text-align: right;\n",
       "    }\n",
       "</style>\n",
       "<table border=\"1\" class=\"dataframe\">\n",
       "  <thead>\n",
       "    <tr style=\"text-align: right;\">\n",
       "      <th></th>\n",
       "      <th>km</th>\n",
       "      <th>potencia</th>\n",
       "      <th>volante_regulable</th>\n",
       "      <th>aire_acondicionado</th>\n",
       "      <th>camara_trasera</th>\n",
       "      <th>asientos_traseros_plegables</th>\n",
       "      <th>elevalunas_electrico</th>\n",
       "      <th>bluetooth</th>\n",
       "      <th>gps</th>\n",
       "      <th>alerta_lim_velocidad</th>\n",
       "      <th>...</th>\n",
       "      <th>tipo_coche_van</th>\n",
       "      <th>modelo_agrupado_M1</th>\n",
       "      <th>modelo_agrupado_M2</th>\n",
       "      <th>modelo_agrupado_M3</th>\n",
       "      <th>modelo_agrupado_M4</th>\n",
       "      <th>modelo_agrupado_M5</th>\n",
       "      <th>modelo_agrupado_M6</th>\n",
       "      <th>modelo_agrupado_M7</th>\n",
       "      <th>modelo_agrupado_Otros</th>\n",
       "      <th>modelo_agrupado_XSERIES</th>\n",
       "    </tr>\n",
       "  </thead>\n",
       "  <tbody>\n",
       "    <tr>\n",
       "      <th>0</th>\n",
       "      <td>140411.0</td>\n",
       "      <td>100.0</td>\n",
       "      <td>True</td>\n",
       "      <td>True</td>\n",
       "      <td>False</td>\n",
       "      <td>False</td>\n",
       "      <td>True</td>\n",
       "      <td>True</td>\n",
       "      <td>True</td>\n",
       "      <td>False</td>\n",
       "      <td>...</td>\n",
       "      <td>False</td>\n",
       "      <td>True</td>\n",
       "      <td>False</td>\n",
       "      <td>False</td>\n",
       "      <td>False</td>\n",
       "      <td>False</td>\n",
       "      <td>False</td>\n",
       "      <td>False</td>\n",
       "      <td>False</td>\n",
       "      <td>False</td>\n",
       "    </tr>\n",
       "    <tr>\n",
       "      <th>1</th>\n",
       "      <td>13929.0</td>\n",
       "      <td>317.0</td>\n",
       "      <td>True</td>\n",
       "      <td>True</td>\n",
       "      <td>False</td>\n",
       "      <td>False</td>\n",
       "      <td>False</td>\n",
       "      <td>True</td>\n",
       "      <td>True</td>\n",
       "      <td>True</td>\n",
       "      <td>...</td>\n",
       "      <td>False</td>\n",
       "      <td>False</td>\n",
       "      <td>False</td>\n",
       "      <td>False</td>\n",
       "      <td>False</td>\n",
       "      <td>False</td>\n",
       "      <td>False</td>\n",
       "      <td>False</td>\n",
       "      <td>True</td>\n",
       "      <td>False</td>\n",
       "    </tr>\n",
       "    <tr>\n",
       "      <th>2</th>\n",
       "      <td>183297.0</td>\n",
       "      <td>120.0</td>\n",
       "      <td>False</td>\n",
       "      <td>False</td>\n",
       "      <td>False</td>\n",
       "      <td>False</td>\n",
       "      <td>True</td>\n",
       "      <td>False</td>\n",
       "      <td>True</td>\n",
       "      <td>False</td>\n",
       "      <td>...</td>\n",
       "      <td>False</td>\n",
       "      <td>False</td>\n",
       "      <td>False</td>\n",
       "      <td>True</td>\n",
       "      <td>False</td>\n",
       "      <td>False</td>\n",
       "      <td>False</td>\n",
       "      <td>False</td>\n",
       "      <td>False</td>\n",
       "      <td>False</td>\n",
       "    </tr>\n",
       "    <tr>\n",
       "      <th>3</th>\n",
       "      <td>128035.0</td>\n",
       "      <td>135.0</td>\n",
       "      <td>True</td>\n",
       "      <td>True</td>\n",
       "      <td>False</td>\n",
       "      <td>False</td>\n",
       "      <td>True</td>\n",
       "      <td>True</td>\n",
       "      <td>True</td>\n",
       "      <td>True</td>\n",
       "      <td>...</td>\n",
       "      <td>False</td>\n",
       "      <td>False</td>\n",
       "      <td>False</td>\n",
       "      <td>False</td>\n",
       "      <td>True</td>\n",
       "      <td>False</td>\n",
       "      <td>False</td>\n",
       "      <td>False</td>\n",
       "      <td>False</td>\n",
       "      <td>False</td>\n",
       "    </tr>\n",
       "    <tr>\n",
       "      <th>4</th>\n",
       "      <td>97097.0</td>\n",
       "      <td>160.0</td>\n",
       "      <td>True</td>\n",
       "      <td>True</td>\n",
       "      <td>False</td>\n",
       "      <td>False</td>\n",
       "      <td>False</td>\n",
       "      <td>True</td>\n",
       "      <td>True</td>\n",
       "      <td>True</td>\n",
       "      <td>...</td>\n",
       "      <td>False</td>\n",
       "      <td>False</td>\n",
       "      <td>False</td>\n",
       "      <td>False</td>\n",
       "      <td>True</td>\n",
       "      <td>False</td>\n",
       "      <td>False</td>\n",
       "      <td>False</td>\n",
       "      <td>False</td>\n",
       "      <td>False</td>\n",
       "    </tr>\n",
       "  </tbody>\n",
       "</table>\n",
       "<p>5 rows × 48 columns</p>\n",
       "</div>"
      ],
      "text/plain": [
       "         km  potencia  volante_regulable  aire_acondicionado  camara_trasera   \n",
       "0  140411.0     100.0               True                True           False  \\\n",
       "1   13929.0     317.0               True                True           False   \n",
       "2  183297.0     120.0              False               False           False   \n",
       "3  128035.0     135.0               True                True           False   \n",
       "4   97097.0     160.0               True                True           False   \n",
       "\n",
       "   asientos_traseros_plegables  elevalunas_electrico  bluetooth   gps   \n",
       "0                        False                  True       True  True  \\\n",
       "1                        False                 False       True  True   \n",
       "2                        False                  True      False  True   \n",
       "3                        False                  True       True  True   \n",
       "4                        False                 False       True  True   \n",
       "\n",
       "   alerta_lim_velocidad  ...  tipo_coche_van  modelo_agrupado_M1   \n",
       "0                 False  ...           False                True  \\\n",
       "1                  True  ...           False               False   \n",
       "2                 False  ...           False               False   \n",
       "3                  True  ...           False               False   \n",
       "4                  True  ...           False               False   \n",
       "\n",
       "   modelo_agrupado_M2  modelo_agrupado_M3  modelo_agrupado_M4   \n",
       "0               False               False               False  \\\n",
       "1               False               False               False   \n",
       "2               False                True               False   \n",
       "3               False               False                True   \n",
       "4               False               False                True   \n",
       "\n",
       "   modelo_agrupado_M5  modelo_agrupado_M6  modelo_agrupado_M7   \n",
       "0               False               False               False  \\\n",
       "1               False               False               False   \n",
       "2               False               False               False   \n",
       "3               False               False               False   \n",
       "4               False               False               False   \n",
       "\n",
       "   modelo_agrupado_Otros  modelo_agrupado_XSERIES  \n",
       "0                  False                    False  \n",
       "1                   True                    False  \n",
       "2                  False                    False  \n",
       "3                  False                    False  \n",
       "4                  False                    False  \n",
       "\n",
       "[5 rows x 48 columns]"
      ]
     },
     "execution_count": 6,
     "metadata": {},
     "output_type": "execute_result"
    }
   ],
   "source": [
    "# VISUALIZAR LA INFORMACION CON LAS PRIMERA 5 FILAS SUS VALORES Y VERIFICAR FORMATOS\n",
    "df.head(5)"
   ]
  },
  {
   "cell_type": "code",
   "execution_count": 7,
   "metadata": {},
   "outputs": [
    {
     "data": {
      "text/plain": [
       "km                             0\n",
       "potencia                       0\n",
       "volante_regulable              0\n",
       "aire_acondicionado             0\n",
       "camara_trasera                 0\n",
       "asientos_traseros_plegables    0\n",
       "elevalunas_electrico           0\n",
       "bluetooth                      0\n",
       "gps                            0\n",
       "alerta_lim_velocidad           0\n",
       "precio                         0\n",
       "tiemo_venta                    0\n",
       "year_registro                  0\n",
       "mes_registro                   0\n",
       "year_venta                     0\n",
       "mes_venta                      0\n",
       "precio_log10                   0\n",
       "tipo_gasolina_diesel           0\n",
       "tipo_gasolina_electro          0\n",
       "tipo_gasolina_hybrid_petrol    0\n",
       "tipo_gasolina_petrol           0\n",
       "color_beige                    0\n",
       "color_black                    0\n",
       "color_blue                     0\n",
       "color_brown                    0\n",
       "color_green                    0\n",
       "color_grey                     0\n",
       "color_orange                   0\n",
       "color_red                      0\n",
       "color_silver                   0\n",
       "color_white                    0\n",
       "tipo_coche_convertible         0\n",
       "tipo_coche_coupe               0\n",
       "tipo_coche_estate              0\n",
       "tipo_coche_hatchback           0\n",
       "tipo_coche_sedan               0\n",
       "tipo_coche_subcompact          0\n",
       "tipo_coche_suv                 0\n",
       "tipo_coche_van                 0\n",
       "modelo_agrupado_M1             0\n",
       "modelo_agrupado_M2             0\n",
       "modelo_agrupado_M3             0\n",
       "modelo_agrupado_M4             0\n",
       "modelo_agrupado_M5             0\n",
       "modelo_agrupado_M6             0\n",
       "modelo_agrupado_M7             0\n",
       "modelo_agrupado_Otros          0\n",
       "modelo_agrupado_XSERIES        0\n",
       "dtype: int64"
      ]
     },
     "execution_count": 7,
     "metadata": {},
     "output_type": "execute_result"
    }
   ],
   "source": [
    "# VERICAR SI HAY NULOS\n",
    "df.isnull().sum()"
   ]
  },
  {
   "cell_type": "code",
   "execution_count": 8,
   "metadata": {},
   "outputs": [
    {
     "data": {
      "text/plain": [
       "0"
      ]
     },
     "execution_count": 8,
     "metadata": {},
     "output_type": "execute_result"
    }
   ],
   "source": [
    "# VERIFICAR SI HAY DUPLICADOS\n",
    "df.duplicated().sum()"
   ]
  },
  {
   "cell_type": "code",
   "execution_count": 9,
   "metadata": {},
   "outputs": [
    {
     "data": {
      "text/plain": [
       "<Axes: >"
      ]
     },
     "execution_count": 9,
     "metadata": {},
     "output_type": "execute_result"
    },
    {
     "data": {
      "image/png": "[encoded data removed]",
      "text/plain": [
       "<Figure size 640x480 with 1 Axes>"
      ]
     },
     "metadata": {},
     "output_type": "display_data"
    }
   ],
   "source": [
    "# VER LA DISTRIBUCION DE LA VARIABLE TARGET ANTES DE NORMALIZAR\n",
    "df['precio'].hist()"
   ]
  },
  {
   "cell_type": "code",
   "execution_count": 10,
   "metadata": {},
   "outputs": [
    {
     "data": {
      "text/plain": [
       "<Axes: >"
      ]
     },
     "execution_count": 10,
     "metadata": {},
     "output_type": "execute_result"
    },
    {
     "data": {
      "image/png": "[encoded data removed]",
      "text/plain": [
       "<Figure size 640x480 with 1 Axes>"
      ]
     },
     "metadata": {},
     "output_type": "display_data"
    }
   ],
   "source": [
    "# VER LA DISTRIBUCION DE LA VARIABLE TARGET ANTES DE NORMALIZAR\n",
    "df['precio_log10'].hist()"
   ]
  },
  {
   "cell_type": "code",
   "execution_count": 11,
   "metadata": {},
   "outputs": [],
   "source": [
    "# #borrar la variable explicativa\n",
    "# del df['precio']"
   ]
  },
  {
   "cell_type": "markdown",
   "metadata": {},
   "source": [
    "Split data set features y target"
   ]
  },
  {
   "cell_type": "code",
   "execution_count": 12,
   "metadata": {},
   "outputs": [],
   "source": [
    "X = df.drop('precio_log10', axis =1)\n",
    "y = df['precio_log10']"
   ]
  },
  {
   "cell_type": "markdown",
   "metadata": {},
   "source": [
    "Split data into training and testing sets"
   ]
  },
  {
   "cell_type": "code",
   "execution_count": 13,
   "metadata": {},
   "outputs": [],
   "source": [
    "X_train,X_test,y_train,y_test = train_test_split(X, y, test_size=0.3, random_state=42)"
   ]
  },
  {
   "cell_type": "markdown",
   "metadata": {},
   "source": [
    "Scalar los datos"
   ]
  },
  {
   "cell_type": "code",
   "execution_count": 14,
   "metadata": {},
   "outputs": [],
   "source": [
    "scaler = StandardScaler()\n",
    "X_train_scaled = scaler.fit_transform(X_train)\n",
    "X_test_scaled = scaler.transform(X_test)"
   ]
  },
  {
   "cell_type": "markdown",
   "metadata": {},
   "source": [
    "Build and train the model"
   ]
  },
  {
   "cell_type": "code",
   "execution_count": 15,
   "metadata": {},
   "outputs": [
    {
     "data": {
      "text/html": [
       "<style>#sk-container-id-1 {color: black;background-color: white;}#sk-container-id-1 pre{padding: 0;}#sk-container-id-1 div.sk-toggleable {background-color: white;}#sk-container-id-1 label.sk-toggleable__label {cursor: pointer;display: block;width: 100%;margin-bottom: 0;padding: 0.3em;box-sizing: border-box;text-align: center;}#sk-container-id-1 label.sk-toggleable__label-arrow:before {content: \"▸\";float: left;margin-right: 0.25em;color: #696969;}#sk-container-id-1 label.sk-toggleable__label-arrow:hover:before {color: black;}#sk-container-id-1 div.sk-estimator:hover label.sk-toggleable__label-arrow:before {color: black;}#sk-container-id-1 div.sk-toggleable__content {max-height: 0;max-width: 0;overflow: hidden;text-align: left;background-color: #f0f8ff;}#sk-container-id-1 div.sk-toggleable__content pre {margin: 0.2em;color: black;border-radius: 0.25em;background-color: #f0f8ff;}#sk-container-id-1 input.sk-toggleable__control:checked~div.sk-toggleable__content {max-height: 200px;max-width: 100%;overflow: auto;}#sk-container-id-1 input.sk-toggleable__control:checked~label.sk-toggleable__label-arrow:before {content: \"▾\";}#sk-container-id-1 div.sk-estimator input.sk-toggleable__control:checked~label.sk-toggleable__label {background-color: #d4ebff;}#sk-container-id-1 div.sk-label input.sk-toggleable__control:checked~label.sk-toggleable__label {background-color: #d4ebff;}#sk-container-id-1 input.sk-hidden--visually {border: 0;clip: rect(1px 1px 1px 1px);clip: rect(1px, 1px, 1px, 1px);height: 1px;margin: -1px;overflow: hidden;padding: 0;position: absolute;width: 1px;}#sk-container-id-1 div.sk-estimator {font-family: monospace;background-color: #f0f8ff;border: 1px dotted black;border-radius: 0.25em;box-sizing: border-box;margin-bottom: 0.5em;}#sk-container-id-1 div.sk-estimator:hover {background-color: #d4ebff;}#sk-container-id-1 div.sk-parallel-item::after {content: \"\";width: 100%;border-bottom: 1px solid gray;flex-grow: 1;}#sk-container-id-1 div.sk-label:hover label.sk-toggleable__label {background-color: #d4ebff;}#sk-container-id-1 div.sk-serial::before {content: \"\";position: absolute;border-left: 1px solid gray;box-sizing: border-box;top: 0;bottom: 0;left: 50%;z-index: 0;}#sk-container-id-1 div.sk-serial {display: flex;flex-direction: column;align-items: center;background-color: white;padding-right: 0.2em;padding-left: 0.2em;position: relative;}#sk-container-id-1 div.sk-item {position: relative;z-index: 1;}#sk-container-id-1 div.sk-parallel {display: flex;align-items: stretch;justify-content: center;background-color: white;position: relative;}#sk-container-id-1 div.sk-item::before, #sk-container-id-1 div.sk-parallel-item::before {content: \"\";position: absolute;border-left: 1px solid gray;box-sizing: border-box;top: 0;bottom: 0;left: 50%;z-index: -1;}#sk-container-id-1 div.sk-parallel-item {display: flex;flex-direction: column;z-index: 1;position: relative;background-color: white;}#sk-container-id-1 div.sk-parallel-item:first-child::after {align-self: flex-end;width: 50%;}#sk-container-id-1 div.sk-parallel-item:last-child::after {align-self: flex-start;width: 50%;}#sk-container-id-1 div.sk-parallel-item:only-child::after {width: 0;}#sk-container-id-1 div.sk-dashed-wrapped {border: 1px dashed gray;margin: 0 0.4em 0.5em 0.4em;box-sizing: border-box;padding-bottom: 0.4em;background-color: white;}#sk-container-id-1 div.sk-label label {font-family: monospace;font-weight: bold;display: inline-block;line-height: 1.2em;}#sk-container-id-1 div.sk-label-container {text-align: center;}#sk-container-id-1 div.sk-container {/* jupyter's `normalize.less` sets `[hidden] { display: none; }` but bootstrap.min.css set `[hidden] { display: none !important; }` so we also need the `!important` here to be able to override the default hidden behavior on the sphinx rendered scikit-learn.org. See: https://github.com/scikit-learn/scikit-learn/issues/21755 */display: inline-block !important;position: relative;}#sk-container-id-1 div.sk-text-repr-fallback {display: none;}</style><div id=\"sk-container-id-1\" class=\"sk-top-container\"><div class=\"sk-text-repr-fallback\"><pre>LinearRegression()</pre><b>In a Jupyter environment, please rerun this cell to show the HTML representation or trust the notebook. <br />On GitHub, the HTML representation is unable to render, please try loading this page with nbviewer.org.</b></div><div class=\"sk-container\" hidden><div class=\"sk-item\"><div class=\"sk-estimator sk-toggleable\"><input class=\"sk-toggleable__control sk-hidden--visually\" id=\"sk-estimator-id-1\" type=\"checkbox\" checked><label for=\"sk-estimator-id-1\" class=\"sk-toggleable__label sk-toggleable__label-arrow\">LinearRegression</label><div class=\"sk-toggleable__content\"><pre>LinearRegression()</pre></div></div></div></div></div>"
      ],
      "text/plain": [
       "LinearRegression()"
      ]
     },
     "execution_count": 15,
     "metadata": {},
     "output_type": "execute_result"
    }
   ],
   "source": [
    "model = LinearRegression()\n",
    "model.fit(X_train_scaled, y_train)"
   ]
  },
  {
   "cell_type": "markdown",
   "metadata": {},
   "source": [
    "Make predictions use = trained model to make prediction on test"
   ]
  },
  {
   "cell_type": "code",
   "execution_count": 16,
   "metadata": {},
   "outputs": [],
   "source": [
    "y_train_pred = model.predict(X_train_scaled)\n",
    "y_test_pred = model.predict(X_test_scaled)"
   ]
  },
  {
   "cell_type": "markdown",
   "metadata": {},
   "source": [
    "Evaluamos el modelo on test data"
   ]
  },
  {
   "cell_type": "code",
   "execution_count": 17,
   "metadata": {},
   "outputs": [
    {
     "name": "stdout",
     "output_type": "stream",
     "text": [
      "MSE en conjunto de entrenamiento: 0.00\n",
      "MSE en conjunto de prueba: 0.00\n",
      "R^2: 0.91\n",
      "MAE: 0.04\n"
     ]
    }
   ],
   "source": [
    "# Calcula el error cuadrático medio (MSE)\n",
    "mse_train = mean_squared_error(y_train, y_train_pred)\n",
    "mse_test = mean_squared_error(y_test, y_test_pred)\n",
    "r2 = r2_score(y_test, y_test_pred)\n",
    "# Calcula el error absoluto medio (MAE)\n",
    "mae = mean_absolute_error(y_test, y_test_pred)\n",
    "print(f'MSE en conjunto de entrenamiento: {mse_train:.2f}')\n",
    "print(f'MSE en conjunto de prueba: {mse_test:.2f}')\n",
    "print(f'R^2: {r2:.2f}')\n",
    "print(f'MAE: {mae:.2f}')"
   ]
  },
  {
   "cell_type": "markdown",
   "metadata": {},
   "source": [
    "\n",
    "El análisis anterior revela un aspecto crítico en el proceso de entrenamiento del modelo. Al incluir dos variables, \"precio\" y \"precio log,\" que efectivamente expresan la misma información en el conjunto de datos, la presencia de ambas puede causar redundancia y distorsionar el modelo. Al eliminar una de estas variables, se espera un cambio significativo en el rendimiento del modelo.\n",
    "\n",
    "La evaluación actual del modelo indica un rendimiento excepcional. Un valor de Mean Squared Error (MSE) cercano a cero sugiere una precisión sobresaliente, mientras que un coeficiente de determinación (R^2) más cercano a uno denota una capacidad excepcional del modelo para predecir los precios. Estos resultados indican que el modelo es altamente competente en la estimación de precios.\n",
    "\n",
    "Para profundizar en este análisis, se llevará a cabo un nuevo experimento, eliminando la variable redundante mencionada previamente. Se espera que esta acción arroje luz sobre el impacto de la exclusión de una variable similar en el rendimiento del modelo."
   ]
  },
  {
   "cell_type": "code",
   "execution_count": 18,
   "metadata": {},
   "outputs": [
    {
     "data": {
      "text/html": [
       "<div>\n",
       "<style scoped>\n",
       "    .dataframe tbody tr th:only-of-type {\n",
       "        vertical-align: middle;\n",
       "    }\n",
       "\n",
       "    .dataframe tbody tr th {\n",
       "        vertical-align: top;\n",
       "    }\n",
       "\n",
       "    .dataframe thead th {\n",
       "        text-align: right;\n",
       "    }\n",
       "</style>\n",
       "<table border=\"1\" class=\"dataframe\">\n",
       "  <thead>\n",
       "    <tr style=\"text-align: right;\">\n",
       "      <th></th>\n",
       "      <th>km</th>\n",
       "      <th>potencia</th>\n",
       "      <th>volante_regulable</th>\n",
       "      <th>aire_acondicionado</th>\n",
       "      <th>camara_trasera</th>\n",
       "      <th>asientos_traseros_plegables</th>\n",
       "      <th>elevalunas_electrico</th>\n",
       "      <th>bluetooth</th>\n",
       "      <th>gps</th>\n",
       "      <th>alerta_lim_velocidad</th>\n",
       "      <th>...</th>\n",
       "      <th>tipo_coche_van</th>\n",
       "      <th>modelo_agrupado_M1</th>\n",
       "      <th>modelo_agrupado_M2</th>\n",
       "      <th>modelo_agrupado_M3</th>\n",
       "      <th>modelo_agrupado_M4</th>\n",
       "      <th>modelo_agrupado_M5</th>\n",
       "      <th>modelo_agrupado_M6</th>\n",
       "      <th>modelo_agrupado_M7</th>\n",
       "      <th>modelo_agrupado_Otros</th>\n",
       "      <th>modelo_agrupado_XSERIES</th>\n",
       "    </tr>\n",
       "  </thead>\n",
       "  <tbody>\n",
       "    <tr>\n",
       "      <th>0</th>\n",
       "      <td>140411.0</td>\n",
       "      <td>100.0</td>\n",
       "      <td>True</td>\n",
       "      <td>True</td>\n",
       "      <td>False</td>\n",
       "      <td>False</td>\n",
       "      <td>True</td>\n",
       "      <td>True</td>\n",
       "      <td>True</td>\n",
       "      <td>False</td>\n",
       "      <td>...</td>\n",
       "      <td>False</td>\n",
       "      <td>True</td>\n",
       "      <td>False</td>\n",
       "      <td>False</td>\n",
       "      <td>False</td>\n",
       "      <td>False</td>\n",
       "      <td>False</td>\n",
       "      <td>False</td>\n",
       "      <td>False</td>\n",
       "      <td>False</td>\n",
       "    </tr>\n",
       "    <tr>\n",
       "      <th>1</th>\n",
       "      <td>13929.0</td>\n",
       "      <td>317.0</td>\n",
       "      <td>True</td>\n",
       "      <td>True</td>\n",
       "      <td>False</td>\n",
       "      <td>False</td>\n",
       "      <td>False</td>\n",
       "      <td>True</td>\n",
       "      <td>True</td>\n",
       "      <td>True</td>\n",
       "      <td>...</td>\n",
       "      <td>False</td>\n",
       "      <td>False</td>\n",
       "      <td>False</td>\n",
       "      <td>False</td>\n",
       "      <td>False</td>\n",
       "      <td>False</td>\n",
       "      <td>False</td>\n",
       "      <td>False</td>\n",
       "      <td>True</td>\n",
       "      <td>False</td>\n",
       "    </tr>\n",
       "    <tr>\n",
       "      <th>2</th>\n",
       "      <td>183297.0</td>\n",
       "      <td>120.0</td>\n",
       "      <td>False</td>\n",
       "      <td>False</td>\n",
       "      <td>False</td>\n",
       "      <td>False</td>\n",
       "      <td>True</td>\n",
       "      <td>False</td>\n",
       "      <td>True</td>\n",
       "      <td>False</td>\n",
       "      <td>...</td>\n",
       "      <td>False</td>\n",
       "      <td>False</td>\n",
       "      <td>False</td>\n",
       "      <td>True</td>\n",
       "      <td>False</td>\n",
       "      <td>False</td>\n",
       "      <td>False</td>\n",
       "      <td>False</td>\n",
       "      <td>False</td>\n",
       "      <td>False</td>\n",
       "    </tr>\n",
       "    <tr>\n",
       "      <th>3</th>\n",
       "      <td>128035.0</td>\n",
       "      <td>135.0</td>\n",
       "      <td>True</td>\n",
       "      <td>True</td>\n",
       "      <td>False</td>\n",
       "      <td>False</td>\n",
       "      <td>True</td>\n",
       "      <td>True</td>\n",
       "      <td>True</td>\n",
       "      <td>True</td>\n",
       "      <td>...</td>\n",
       "      <td>False</td>\n",
       "      <td>False</td>\n",
       "      <td>False</td>\n",
       "      <td>False</td>\n",
       "      <td>True</td>\n",
       "      <td>False</td>\n",
       "      <td>False</td>\n",
       "      <td>False</td>\n",
       "      <td>False</td>\n",
       "      <td>False</td>\n",
       "    </tr>\n",
       "    <tr>\n",
       "      <th>4</th>\n",
       "      <td>97097.0</td>\n",
       "      <td>160.0</td>\n",
       "      <td>True</td>\n",
       "      <td>True</td>\n",
       "      <td>False</td>\n",
       "      <td>False</td>\n",
       "      <td>False</td>\n",
       "      <td>True</td>\n",
       "      <td>True</td>\n",
       "      <td>True</td>\n",
       "      <td>...</td>\n",
       "      <td>False</td>\n",
       "      <td>False</td>\n",
       "      <td>False</td>\n",
       "      <td>False</td>\n",
       "      <td>True</td>\n",
       "      <td>False</td>\n",
       "      <td>False</td>\n",
       "      <td>False</td>\n",
       "      <td>False</td>\n",
       "      <td>False</td>\n",
       "    </tr>\n",
       "  </tbody>\n",
       "</table>\n",
       "<p>5 rows × 48 columns</p>\n",
       "</div>"
      ],
      "text/plain": [
       "         km  potencia  volante_regulable  aire_acondicionado  camara_trasera   \n",
       "0  140411.0     100.0               True                True           False  \\\n",
       "1   13929.0     317.0               True                True           False   \n",
       "2  183297.0     120.0              False               False           False   \n",
       "3  128035.0     135.0               True                True           False   \n",
       "4   97097.0     160.0               True                True           False   \n",
       "\n",
       "   asientos_traseros_plegables  elevalunas_electrico  bluetooth   gps   \n",
       "0                        False                  True       True  True  \\\n",
       "1                        False                 False       True  True   \n",
       "2                        False                  True      False  True   \n",
       "3                        False                  True       True  True   \n",
       "4                        False                 False       True  True   \n",
       "\n",
       "   alerta_lim_velocidad  ...  tipo_coche_van  modelo_agrupado_M1   \n",
       "0                 False  ...           False                True  \\\n",
       "1                  True  ...           False               False   \n",
       "2                 False  ...           False               False   \n",
       "3                  True  ...           False               False   \n",
       "4                  True  ...           False               False   \n",
       "\n",
       "   modelo_agrupado_M2  modelo_agrupado_M3  modelo_agrupado_M4   \n",
       "0               False               False               False  \\\n",
       "1               False               False               False   \n",
       "2               False                True               False   \n",
       "3               False               False                True   \n",
       "4               False               False                True   \n",
       "\n",
       "   modelo_agrupado_M5  modelo_agrupado_M6  modelo_agrupado_M7   \n",
       "0               False               False               False  \\\n",
       "1               False               False               False   \n",
       "2               False               False               False   \n",
       "3               False               False               False   \n",
       "4               False               False               False   \n",
       "\n",
       "   modelo_agrupado_Otros  modelo_agrupado_XSERIES  \n",
       "0                  False                    False  \n",
       "1                   True                    False  \n",
       "2                  False                    False  \n",
       "3                  False                    False  \n",
       "4                  False                    False  \n",
       "\n",
       "[5 rows x 48 columns]"
      ]
     },
     "execution_count": 18,
     "metadata": {},
     "output_type": "execute_result"
    }
   ],
   "source": [
    "df.head()"
   ]
  },
  {
   "cell_type": "code",
   "execution_count": 19,
   "metadata": {},
   "outputs": [
    {
     "data": {
      "text/plain": [
       "(4717, 48)"
      ]
     },
     "execution_count": 19,
     "metadata": {},
     "output_type": "execute_result"
    }
   ],
   "source": [
    "df.shape"
   ]
  },
  {
   "cell_type": "markdown",
   "metadata": {},
   "source": [
    "# Eliminamos variable"
   ]
  },
  {
   "cell_type": "code",
   "execution_count": 20,
   "metadata": {},
   "outputs": [],
   "source": [
    "del df['precio']"
   ]
  },
  {
   "cell_type": "code",
   "execution_count": 21,
   "metadata": {},
   "outputs": [
    {
     "data": {
      "text/plain": [
       "(4717, 47)"
      ]
     },
     "execution_count": 21,
     "metadata": {},
     "output_type": "execute_result"
    }
   ],
   "source": [
    "df.shape"
   ]
  },
  {
   "cell_type": "code",
   "execution_count": 22,
   "metadata": {},
   "outputs": [],
   "source": [
    "X = df.drop('precio_log10', axis =1)\n",
    "y = df['precio_log10']"
   ]
  },
  {
   "cell_type": "code",
   "execution_count": 23,
   "metadata": {},
   "outputs": [],
   "source": [
    "X_train,X_test,y_train,y_test = train_test_split(X, y, test_size=0.3, random_state=42)"
   ]
  },
  {
   "cell_type": "code",
   "execution_count": 24,
   "metadata": {},
   "outputs": [],
   "source": [
    "scaler = StandardScaler()\n",
    "X_train_scaled1 = scaler.fit_transform(X_train)\n",
    "X_test_scaled1 = scaler.transform(X_test)"
   ]
  },
  {
   "cell_type": "code",
   "execution_count": 25,
   "metadata": {},
   "outputs": [
    {
     "data": {
      "text/html": [
       "<style>#sk-container-id-2 {color: black;background-color: white;}#sk-container-id-2 pre{padding: 0;}#sk-container-id-2 div.sk-toggleable {background-color: white;}#sk-container-id-2 label.sk-toggleable__label {cursor: pointer;display: block;width: 100%;margin-bottom: 0;padding: 0.3em;box-sizing: border-box;text-align: center;}#sk-container-id-2 label.sk-toggleable__label-arrow:before {content: \"▸\";float: left;margin-right: 0.25em;color: #696969;}#sk-container-id-2 label.sk-toggleable__label-arrow:hover:before {color: black;}#sk-container-id-2 div.sk-estimator:hover label.sk-toggleable__label-arrow:before {color: black;}#sk-container-id-2 div.sk-toggleable__content {max-height: 0;max-width: 0;overflow: hidden;text-align: left;background-color: #f0f8ff;}#sk-container-id-2 div.sk-toggleable__content pre {margin: 0.2em;color: black;border-radius: 0.25em;background-color: #f0f8ff;}#sk-container-id-2 input.sk-toggleable__control:checked~div.sk-toggleable__content {max-height: 200px;max-width: 100%;overflow: auto;}#sk-container-id-2 input.sk-toggleable__control:checked~label.sk-toggleable__label-arrow:before {content: \"▾\";}#sk-container-id-2 div.sk-estimator input.sk-toggleable__control:checked~label.sk-toggleable__label {background-color: #d4ebff;}#sk-container-id-2 div.sk-label input.sk-toggleable__control:checked~label.sk-toggleable__label {background-color: #d4ebff;}#sk-container-id-2 input.sk-hidden--visually {border: 0;clip: rect(1px 1px 1px 1px);clip: rect(1px, 1px, 1px, 1px);height: 1px;margin: -1px;overflow: hidden;padding: 0;position: absolute;width: 1px;}#sk-container-id-2 div.sk-estimator {font-family: monospace;background-color: #f0f8ff;border: 1px dotted black;border-radius: 0.25em;box-sizing: border-box;margin-bottom: 0.5em;}#sk-container-id-2 div.sk-estimator:hover {background-color: #d4ebff;}#sk-container-id-2 div.sk-parallel-item::after {content: \"\";width: 100%;border-bottom: 1px solid gray;flex-grow: 1;}#sk-container-id-2 div.sk-label:hover label.sk-toggleable__label {background-color: #d4ebff;}#sk-container-id-2 div.sk-serial::before {content: \"\";position: absolute;border-left: 1px solid gray;box-sizing: border-box;top: 0;bottom: 0;left: 50%;z-index: 0;}#sk-container-id-2 div.sk-serial {display: flex;flex-direction: column;align-items: center;background-color: white;padding-right: 0.2em;padding-left: 0.2em;position: relative;}#sk-container-id-2 div.sk-item {position: relative;z-index: 1;}#sk-container-id-2 div.sk-parallel {display: flex;align-items: stretch;justify-content: center;background-color: white;position: relative;}#sk-container-id-2 div.sk-item::before, #sk-container-id-2 div.sk-parallel-item::before {content: \"\";position: absolute;border-left: 1px solid gray;box-sizing: border-box;top: 0;bottom: 0;left: 50%;z-index: -1;}#sk-container-id-2 div.sk-parallel-item {display: flex;flex-direction: column;z-index: 1;position: relative;background-color: white;}#sk-container-id-2 div.sk-parallel-item:first-child::after {align-self: flex-end;width: 50%;}#sk-container-id-2 div.sk-parallel-item:last-child::after {align-self: flex-start;width: 50%;}#sk-container-id-2 div.sk-parallel-item:only-child::after {width: 0;}#sk-container-id-2 div.sk-dashed-wrapped {border: 1px dashed gray;margin: 0 0.4em 0.5em 0.4em;box-sizing: border-box;padding-bottom: 0.4em;background-color: white;}#sk-container-id-2 div.sk-label label {font-family: monospace;font-weight: bold;display: inline-block;line-height: 1.2em;}#sk-container-id-2 div.sk-label-container {text-align: center;}#sk-container-id-2 div.sk-container {/* jupyter's `normalize.less` sets `[hidden] { display: none; }` but bootstrap.min.css set `[hidden] { display: none !important; }` so we also need the `!important` here to be able to override the default hidden behavior on the sphinx rendered scikit-learn.org. See: https://github.com/scikit-learn/scikit-learn/issues/21755 */display: inline-block !important;position: relative;}#sk-container-id-2 div.sk-text-repr-fallback {display: none;}</style><div id=\"sk-container-id-2\" class=\"sk-top-container\"><div class=\"sk-text-repr-fallback\"><pre>LinearRegression()</pre><b>In a Jupyter environment, please rerun this cell to show the HTML representation or trust the notebook. <br />On GitHub, the HTML representation is unable to render, please try loading this page with nbviewer.org.</b></div><div class=\"sk-container\" hidden><div class=\"sk-item\"><div class=\"sk-estimator sk-toggleable\"><input class=\"sk-toggleable__control sk-hidden--visually\" id=\"sk-estimator-id-2\" type=\"checkbox\" checked><label for=\"sk-estimator-id-2\" class=\"sk-toggleable__label sk-toggleable__label-arrow\">LinearRegression</label><div class=\"sk-toggleable__content\"><pre>LinearRegression()</pre></div></div></div></div></div>"
      ],
      "text/plain": [
       "LinearRegression()"
      ]
     },
     "execution_count": 25,
     "metadata": {},
     "output_type": "execute_result"
    }
   ],
   "source": [
    "model1 = LinearRegression()\n",
    "model1.fit(X_train_scaled1, y_train)"
   ]
  },
  {
   "cell_type": "code",
   "execution_count": 26,
   "metadata": {},
   "outputs": [],
   "source": [
    "y_train_pred = model1.predict(X_train_scaled1)\n",
    "y_test_pred = model1.predict(X_test_scaled1)"
   ]
  },
  {
   "cell_type": "code",
   "execution_count": 27,
   "metadata": {},
   "outputs": [
    {
     "name": "stdout",
     "output_type": "stream",
     "text": [
      "MSE en conjunto de entrenamiento: 0.01\n",
      "MSE en conjunto de prueba: 0.01\n",
      "R^2: 0.85\n",
      "MAE: 0.06\n"
     ]
    }
   ],
   "source": [
    "# Calcula el error cuadrático medio (MSE)\n",
    "mse_train = mean_squared_error(y_train, y_train_pred)\n",
    "mse_test = mean_squared_error(y_test, y_test_pred)\n",
    "r2 = r2_score(y_test, y_test_pred)\n",
    "# Calcula el error absoluto medio (MAE)\n",
    "mae = mean_absolute_error(y_test, y_test_pred)\n",
    "print(f'MSE en conjunto de entrenamiento: {mse_train:.2f}')\n",
    "print(f'MSE en conjunto de prueba: {mse_test:.2f}')\n",
    "print(f'R^2: {r2:.2f}')\n",
    "print(f'MAE: {mae:.2f}')"
   ]
  },
  {
   "cell_type": "markdown",
   "metadata": {},
   "source": [
    "\n",
    "En el segundo escenario, se realizó un ajuste en el conjunto de datos, eliminando la variable \"precio\" y conservando únicamente la columna \"precio log10,\" que representa una forma normalizada de la variable objetivo. Esta modificación en el conjunto de datos tuvo un impacto observable en el rendimiento del modelo de regresión lineal.\n",
    "\n",
    "Se observó un incremento en los valores de las métricas de evaluación, con un Mean Squared Error (MSE) tanto en el conjunto de entrenamiento como en el conjunto de prueba de 0.01, lo que sugiere un aumento en el error cuadrático medio. Además, el Mean Absolute Error (MAE) se elevó a 0.06 y el coeficiente de determinación (R^2) disminuyó a 0.85.\n",
    "\n",
    "Estos resultados indican que el modelo, aunque aún proporciona una estimación aceptable, ha experimentado una disminución en su capacidad predictiva en comparación con el escenario anterior. El aumento en el error cuadrático medio y la disminución en el coeficiente de determinación reflejan un mayor grado de dispersión en las predicciones y una menor capacidad para explicar la variabilidad en los datos de entrada."
   ]
  },
  {
   "cell_type": "code",
   "execution_count": 28,
   "metadata": {},
   "outputs": [
    {
     "data": {
      "image/png": "[encoded data removed]",
      "text/plain": [
       "<Figure size 1000x600 with 1 Axes>"
      ]
     },
     "metadata": {},
     "output_type": "display_data"
    }
   ],
   "source": [
    "import matplotlib.pyplot as plt\n",
    "plt.figure(figsize=[10,6])\n",
    "plt.scatter(y_test, y_test_pred)\n",
    "plt.plot(y_test, y_test, 'r')\n",
    "plt.title('Real vs. Predicho')\n",
    "plt.xlabel('Valores Reales')\n",
    "plt.ylabel('Valores Predichos')\n",
    "plt.legend(['Regresión Ideal (0% Error)', 'Nuestra Regresión'])\n",
    "plt.show()"
   ]
  }
 ],
 "metadata": {
  "kernelspec": {
   "display_name": "Python 3",
   "language": "python",
   "name": "python3"
  },
  "language_info": {
   "codemirror_mode": {
    "name": "ipython",
    "version": 3
   },
   "file_extension": ".py",
   "mimetype": "text/x-python",
   "name": "python",
   "nbconvert_exporter": "python",
   "pygments_lexer": "ipython3",
   "version": "3.11.6"
  }
 },
 "nbformat": 4,
 "nbformat_minor": 2
}
